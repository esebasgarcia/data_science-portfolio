{
 "cells": [
  {
   "cell_type": "markdown",
   "metadata": {},
   "source": [
    "# Sebastian Garcia\n",
    "\n",
    "# Bonus\n",
    "\n",
    "- Apply Imputation to the California Housing Dataset, find how ML models perform for various Imputation methods"
   ]
  },
  {
   "cell_type": "code",
   "execution_count": 1,
   "metadata": {},
   "outputs": [],
   "source": [
    "# Try bin and KNN approach - which variables can explain the missing ones.\n"
   ]
  },
  {
   "cell_type": "code",
   "execution_count": 2,
   "metadata": {},
   "outputs": [
    {
     "name": "stderr",
     "output_type": "stream",
     "text": [
      "Using TensorFlow backend.\n"
     ]
    }
   ],
   "source": [
    "import pandas as pd\n",
    "import numpy as np\n",
    "from sklearn.pipeline import Pipeline\n",
    "from sklearn.preprocessing import Imputer\n",
    "from sklearn.model_selection import train_test_split, cross_val_score\n",
    "from sklearn.ensemble import RandomForestRegressor\n",
    "import matplotlib.pyplot as plt\n",
    "from sklearn import metrics\n",
    "from sklearn.impute import SimpleImputer\n",
    "from sklearn.svm import SVC\n",
    "from sklearn.svm import LinearSVC\n",
    "from sklearn.svm import SVR\n",
    "from fancyimpute import KNN\n"
   ]
  },
  {
   "cell_type": "code",
   "execution_count": 3,
   "metadata": {},
   "outputs": [],
   "source": [
    "cali = pd.read_csv('housing_missing_values.csv')\n"
   ]
  },
  {
   "cell_type": "code",
   "execution_count": 4,
   "metadata": {},
   "outputs": [
    {
     "data": {
      "text/html": [
       "<div>\n",
       "<style scoped>\n",
       "    .dataframe tbody tr th:only-of-type {\n",
       "        vertical-align: middle;\n",
       "    }\n",
       "\n",
       "    .dataframe tbody tr th {\n",
       "        vertical-align: top;\n",
       "    }\n",
       "\n",
       "    .dataframe thead th {\n",
       "        text-align: right;\n",
       "    }\n",
       "</style>\n",
       "<table border=\"1\" class=\"dataframe\">\n",
       "  <thead>\n",
       "    <tr style=\"text-align: right;\">\n",
       "      <th></th>\n",
       "      <th>0</th>\n",
       "      <th>1</th>\n",
       "      <th>2</th>\n",
       "      <th>3</th>\n",
       "      <th>4</th>\n",
       "      <th>5</th>\n",
       "      <th>6</th>\n",
       "      <th>7</th>\n",
       "      <th>target</th>\n",
       "    </tr>\n",
       "  </thead>\n",
       "  <tbody>\n",
       "    <tr>\n",
       "      <th>0</th>\n",
       "      <td>8.3252</td>\n",
       "      <td>41.0</td>\n",
       "      <td>6.984127</td>\n",
       "      <td>1.023810</td>\n",
       "      <td>322.0</td>\n",
       "      <td>2.555556</td>\n",
       "      <td>37.88</td>\n",
       "      <td>-122.23</td>\n",
       "      <td>4.526</td>\n",
       "    </tr>\n",
       "    <tr>\n",
       "      <th>1</th>\n",
       "      <td>8.3014</td>\n",
       "      <td>21.0</td>\n",
       "      <td>6.238137</td>\n",
       "      <td>0.971880</td>\n",
       "      <td>2401.0</td>\n",
       "      <td>2.109842</td>\n",
       "      <td>37.86</td>\n",
       "      <td>-122.22</td>\n",
       "      <td>3.585</td>\n",
       "    </tr>\n",
       "    <tr>\n",
       "      <th>2</th>\n",
       "      <td>7.2574</td>\n",
       "      <td>52.0</td>\n",
       "      <td>8.288136</td>\n",
       "      <td>1.073446</td>\n",
       "      <td>496.0</td>\n",
       "      <td>2.802260</td>\n",
       "      <td>37.85</td>\n",
       "      <td>-122.24</td>\n",
       "      <td>3.521</td>\n",
       "    </tr>\n",
       "    <tr>\n",
       "      <th>3</th>\n",
       "      <td>5.6431</td>\n",
       "      <td>52.0</td>\n",
       "      <td>5.817352</td>\n",
       "      <td>1.073059</td>\n",
       "      <td>558.0</td>\n",
       "      <td>2.547945</td>\n",
       "      <td>37.85</td>\n",
       "      <td>-122.25</td>\n",
       "      <td>3.413</td>\n",
       "    </tr>\n",
       "    <tr>\n",
       "      <th>4</th>\n",
       "      <td>3.8462</td>\n",
       "      <td>52.0</td>\n",
       "      <td>6.281853</td>\n",
       "      <td>1.081081</td>\n",
       "      <td>565.0</td>\n",
       "      <td>2.181467</td>\n",
       "      <td>37.85</td>\n",
       "      <td>-122.25</td>\n",
       "      <td>3.422</td>\n",
       "    </tr>\n",
       "    <tr>\n",
       "      <th>5</th>\n",
       "      <td>4.0368</td>\n",
       "      <td>52.0</td>\n",
       "      <td>4.761658</td>\n",
       "      <td>1.103627</td>\n",
       "      <td>413.0</td>\n",
       "      <td>2.139896</td>\n",
       "      <td>37.85</td>\n",
       "      <td>-122.25</td>\n",
       "      <td>2.697</td>\n",
       "    </tr>\n",
       "    <tr>\n",
       "      <th>6</th>\n",
       "      <td>3.6591</td>\n",
       "      <td>52.0</td>\n",
       "      <td>4.931907</td>\n",
       "      <td>0.951362</td>\n",
       "      <td>1094.0</td>\n",
       "      <td>2.128405</td>\n",
       "      <td>37.84</td>\n",
       "      <td>-122.25</td>\n",
       "      <td>2.992</td>\n",
       "    </tr>\n",
       "    <tr>\n",
       "      <th>7</th>\n",
       "      <td>NaN</td>\n",
       "      <td>52.0</td>\n",
       "      <td>4.797527</td>\n",
       "      <td>1.061824</td>\n",
       "      <td>1157.0</td>\n",
       "      <td>1.788253</td>\n",
       "      <td>37.84</td>\n",
       "      <td>-122.25</td>\n",
       "      <td>2.414</td>\n",
       "    </tr>\n",
       "    <tr>\n",
       "      <th>8</th>\n",
       "      <td>NaN</td>\n",
       "      <td>42.0</td>\n",
       "      <td>4.294118</td>\n",
       "      <td>1.117647</td>\n",
       "      <td>1206.0</td>\n",
       "      <td>2.026891</td>\n",
       "      <td>37.84</td>\n",
       "      <td>-122.26</td>\n",
       "      <td>2.267</td>\n",
       "    </tr>\n",
       "    <tr>\n",
       "      <th>9</th>\n",
       "      <td>3.6912</td>\n",
       "      <td>52.0</td>\n",
       "      <td>4.970588</td>\n",
       "      <td>0.990196</td>\n",
       "      <td>1551.0</td>\n",
       "      <td>2.172269</td>\n",
       "      <td>37.84</td>\n",
       "      <td>-122.25</td>\n",
       "      <td>2.611</td>\n",
       "    </tr>\n",
       "  </tbody>\n",
       "</table>\n",
       "</div>"
      ],
      "text/plain": [
       "        0     1         2         3       4         5      6       7  target\n",
       "0  8.3252  41.0  6.984127  1.023810   322.0  2.555556  37.88 -122.23   4.526\n",
       "1  8.3014  21.0  6.238137  0.971880  2401.0  2.109842  37.86 -122.22   3.585\n",
       "2  7.2574  52.0  8.288136  1.073446   496.0  2.802260  37.85 -122.24   3.521\n",
       "3  5.6431  52.0  5.817352  1.073059   558.0  2.547945  37.85 -122.25   3.413\n",
       "4  3.8462  52.0  6.281853  1.081081   565.0  2.181467  37.85 -122.25   3.422\n",
       "5  4.0368  52.0  4.761658  1.103627   413.0  2.139896  37.85 -122.25   2.697\n",
       "6  3.6591  52.0  4.931907  0.951362  1094.0  2.128405  37.84 -122.25   2.992\n",
       "7     NaN  52.0  4.797527  1.061824  1157.0  1.788253  37.84 -122.25   2.414\n",
       "8     NaN  42.0  4.294118  1.117647  1206.0  2.026891  37.84 -122.26   2.267\n",
       "9  3.6912  52.0  4.970588  0.990196  1551.0  2.172269  37.84 -122.25   2.611"
      ]
     },
     "execution_count": 4,
     "metadata": {},
     "output_type": "execute_result"
    }
   ],
   "source": [
    "cali.head(10)\n"
   ]
  },
  {
   "cell_type": "code",
   "execution_count": 5,
   "metadata": {},
   "outputs": [
    {
     "name": "stdout",
     "output_type": "stream",
     "text": [
      "<class 'pandas.core.frame.DataFrame'>\n",
      "RangeIndex: 20640 entries, 0 to 20639\n",
      "Data columns (total 9 columns):\n",
      "0         13808 non-null float64\n",
      "1         20640 non-null float64\n",
      "2         20640 non-null float64\n",
      "3         20640 non-null float64\n",
      "4         20640 non-null float64\n",
      "5         20640 non-null float64\n",
      "6         20640 non-null float64\n",
      "7         20640 non-null float64\n",
      "target    20640 non-null float64\n",
      "dtypes: float64(9)\n",
      "memory usage: 1.4 MB\n"
     ]
    }
   ],
   "source": [
    "cali.info()\n"
   ]
  },
  {
   "cell_type": "code",
   "execution_count": 6,
   "metadata": {},
   "outputs": [
    {
     "data": {
      "text/html": [
       "<div>\n",
       "<style scoped>\n",
       "    .dataframe tbody tr th:only-of-type {\n",
       "        vertical-align: middle;\n",
       "    }\n",
       "\n",
       "    .dataframe tbody tr th {\n",
       "        vertical-align: top;\n",
       "    }\n",
       "\n",
       "    .dataframe thead th {\n",
       "        text-align: right;\n",
       "    }\n",
       "</style>\n",
       "<table border=\"1\" class=\"dataframe\">\n",
       "  <thead>\n",
       "    <tr style=\"text-align: right;\">\n",
       "      <th></th>\n",
       "      <th>0</th>\n",
       "      <th>1</th>\n",
       "      <th>2</th>\n",
       "      <th>3</th>\n",
       "      <th>4</th>\n",
       "      <th>5</th>\n",
       "      <th>6</th>\n",
       "      <th>7</th>\n",
       "      <th>target</th>\n",
       "    </tr>\n",
       "  </thead>\n",
       "  <tbody>\n",
       "    <tr>\n",
       "      <th>count</th>\n",
       "      <td>13808.000000</td>\n",
       "      <td>20640.000000</td>\n",
       "      <td>20640.000000</td>\n",
       "      <td>20640.000000</td>\n",
       "      <td>20640.000000</td>\n",
       "      <td>20640.000000</td>\n",
       "      <td>20640.000000</td>\n",
       "      <td>20640.000000</td>\n",
       "      <td>20640.000000</td>\n",
       "    </tr>\n",
       "    <tr>\n",
       "      <th>mean</th>\n",
       "      <td>3.865725</td>\n",
       "      <td>28.639486</td>\n",
       "      <td>5.429000</td>\n",
       "      <td>1.096675</td>\n",
       "      <td>1425.476744</td>\n",
       "      <td>3.070655</td>\n",
       "      <td>35.631861</td>\n",
       "      <td>-119.569704</td>\n",
       "      <td>2.068558</td>\n",
       "    </tr>\n",
       "    <tr>\n",
       "      <th>std</th>\n",
       "      <td>1.882365</td>\n",
       "      <td>12.585558</td>\n",
       "      <td>2.474173</td>\n",
       "      <td>0.473911</td>\n",
       "      <td>1132.462122</td>\n",
       "      <td>10.386050</td>\n",
       "      <td>2.135952</td>\n",
       "      <td>2.003532</td>\n",
       "      <td>1.153956</td>\n",
       "    </tr>\n",
       "    <tr>\n",
       "      <th>min</th>\n",
       "      <td>0.499900</td>\n",
       "      <td>1.000000</td>\n",
       "      <td>0.846154</td>\n",
       "      <td>0.333333</td>\n",
       "      <td>3.000000</td>\n",
       "      <td>0.692308</td>\n",
       "      <td>32.540000</td>\n",
       "      <td>-124.350000</td>\n",
       "      <td>0.149990</td>\n",
       "    </tr>\n",
       "    <tr>\n",
       "      <th>25%</th>\n",
       "      <td>2.566700</td>\n",
       "      <td>18.000000</td>\n",
       "      <td>4.440716</td>\n",
       "      <td>1.006079</td>\n",
       "      <td>787.000000</td>\n",
       "      <td>2.429741</td>\n",
       "      <td>33.930000</td>\n",
       "      <td>-121.800000</td>\n",
       "      <td>1.196000</td>\n",
       "    </tr>\n",
       "    <tr>\n",
       "      <th>50%</th>\n",
       "      <td>3.541700</td>\n",
       "      <td>29.000000</td>\n",
       "      <td>5.229129</td>\n",
       "      <td>1.048780</td>\n",
       "      <td>1166.000000</td>\n",
       "      <td>2.818116</td>\n",
       "      <td>34.260000</td>\n",
       "      <td>-118.490000</td>\n",
       "      <td>1.797000</td>\n",
       "    </tr>\n",
       "    <tr>\n",
       "      <th>75%</th>\n",
       "      <td>4.740050</td>\n",
       "      <td>37.000000</td>\n",
       "      <td>6.052381</td>\n",
       "      <td>1.099526</td>\n",
       "      <td>1725.000000</td>\n",
       "      <td>3.282261</td>\n",
       "      <td>37.710000</td>\n",
       "      <td>-118.010000</td>\n",
       "      <td>2.647250</td>\n",
       "    </tr>\n",
       "    <tr>\n",
       "      <th>max</th>\n",
       "      <td>15.000100</td>\n",
       "      <td>52.000000</td>\n",
       "      <td>141.909091</td>\n",
       "      <td>34.066667</td>\n",
       "      <td>35682.000000</td>\n",
       "      <td>1243.333333</td>\n",
       "      <td>41.950000</td>\n",
       "      <td>-114.310000</td>\n",
       "      <td>5.000010</td>\n",
       "    </tr>\n",
       "  </tbody>\n",
       "</table>\n",
       "</div>"
      ],
      "text/plain": [
       "                  0             1             2             3             4  \\\n",
       "count  13808.000000  20640.000000  20640.000000  20640.000000  20640.000000   \n",
       "mean       3.865725     28.639486      5.429000      1.096675   1425.476744   \n",
       "std        1.882365     12.585558      2.474173      0.473911   1132.462122   \n",
       "min        0.499900      1.000000      0.846154      0.333333      3.000000   \n",
       "25%        2.566700     18.000000      4.440716      1.006079    787.000000   \n",
       "50%        3.541700     29.000000      5.229129      1.048780   1166.000000   \n",
       "75%        4.740050     37.000000      6.052381      1.099526   1725.000000   \n",
       "max       15.000100     52.000000    141.909091     34.066667  35682.000000   \n",
       "\n",
       "                  5             6             7        target  \n",
       "count  20640.000000  20640.000000  20640.000000  20640.000000  \n",
       "mean       3.070655     35.631861   -119.569704      2.068558  \n",
       "std       10.386050      2.135952      2.003532      1.153956  \n",
       "min        0.692308     32.540000   -124.350000      0.149990  \n",
       "25%        2.429741     33.930000   -121.800000      1.196000  \n",
       "50%        2.818116     34.260000   -118.490000      1.797000  \n",
       "75%        3.282261     37.710000   -118.010000      2.647250  \n",
       "max     1243.333333     41.950000   -114.310000      5.000010  "
      ]
     },
     "execution_count": 6,
     "metadata": {},
     "output_type": "execute_result"
    }
   ],
   "source": [
    "cali.describe()\n"
   ]
  },
  {
   "cell_type": "code",
   "execution_count": 7,
   "metadata": {},
   "outputs": [
    {
     "data": {
      "text/plain": [
       "0         6832\n",
       "1            0\n",
       "2            0\n",
       "3            0\n",
       "4            0\n",
       "5            0\n",
       "6            0\n",
       "7            0\n",
       "target       0\n",
       "dtype: int64"
      ]
     },
     "execution_count": 7,
     "metadata": {},
     "output_type": "execute_result"
    }
   ],
   "source": [
    "cali.isnull().sum()\n"
   ]
  },
  {
   "cell_type": "code",
   "execution_count": 8,
   "metadata": {},
   "outputs": [],
   "source": [
    "# Isolate independent and dependent variables\n",
    "cali_y = cali['target']\n",
    "cali_x = cali.drop(['target', '0'], axis=1)\n"
   ]
  },
  {
   "cell_type": "code",
   "execution_count": 9,
   "metadata": {},
   "outputs": [],
   "source": [
    "# Assign independent and dependent variables\n",
    "X = cali_x\n",
    "y = cali_y  # Variable: Target\n"
   ]
  },
  {
   "cell_type": "code",
   "execution_count": 10,
   "metadata": {},
   "outputs": [],
   "source": [
    "# Split data train and test\n",
    "X_train, X_test, y_train, y_test = train_test_split(X, y, test_size=0.25, random_state=42)\n"
   ]
  },
  {
   "cell_type": "markdown",
   "metadata": {},
   "source": [
    "### Random Forest"
   ]
  },
  {
   "cell_type": "code",
   "execution_count": 11,
   "metadata": {},
   "outputs": [
    {
     "data": {
      "text/plain": [
       "SVR(C=1.0, cache_size=200, coef0=0.0, degree=3, epsilon=0.2, gamma='scale',\n",
       "  kernel='rbf', max_iter=-1, shrinking=True, tol=0.001, verbose=False)"
      ]
     },
     "execution_count": 11,
     "metadata": {},
     "output_type": "execute_result"
    }
   ],
   "source": [
    "# Build Random Forest model\n",
    "#rgr = RandomForestRegressor(max_depth=2, random_state=42, n_estimators=100)\n",
    "#rgr.fit(X_train, y_train)\n",
    "\n",
    "# Build SVM model\n",
    "svm = SVR(gamma='scale', C=1.0, epsilon=0.2)\n",
    "svm.fit(X, y)\n"
   ]
  },
  {
   "cell_type": "code",
   "execution_count": 12,
   "metadata": {},
   "outputs": [
    {
     "data": {
      "text/plain": [
       "1.3883785269576872"
      ]
     },
     "execution_count": 12,
     "metadata": {},
     "output_type": "execute_result"
    }
   ],
   "source": [
    "# Evaluating the model\n",
    "scores_rf = cross_val_score(svm, X_train, y_train, cv=5, scoring='neg_mean_squared_error')\n",
    "np.mean(abs(scores_rf))\n"
   ]
  },
  {
   "cell_type": "code",
   "execution_count": 13,
   "metadata": {},
   "outputs": [],
   "source": [
    "cali_x_new = cali.drop(['target'], axis=1)\n",
    "X_new = cali_x\n"
   ]
  },
  {
   "cell_type": "code",
   "execution_count": 14,
   "metadata": {},
   "outputs": [],
   "source": [
    "# Split data train and test\n",
    "X_train_new, X_test_new, y_train_new, y_test_new = train_test_split(X_new, y, \n",
    "                                                                    test_size=0.25, random_state=42)\n"
   ]
  },
  {
   "cell_type": "code",
   "execution_count": 15,
   "metadata": {},
   "outputs": [],
   "source": [
    "# Build Random Forest model\n",
    "#rgr_new = RandomForestRegressor(max_depth=2, random_state=42, n_estimators=100)\n",
    "#rgr_new.fit(X_train_new, y_train_new)\n",
    "\n",
    "# Build SVM model\n",
    "#svm_new = SVR(gamma='scale', C=1.0, epsilon=0.2)\n",
    "#svm_new.fit(X_new, y) \n"
   ]
  },
  {
   "cell_type": "code",
   "execution_count": 16,
   "metadata": {},
   "outputs": [
    {
     "data": {
      "text/plain": [
       "\"imp = SimpleImputer(strategy='constant')\\nsteps = [('imputation', imp),('RandomForestRegressor', svm_new)]\\npipeline = Pipeline(steps)\\npipeline.fit(X_train_new, y_train_new)\""
      ]
     },
     "execution_count": 16,
     "metadata": {},
     "output_type": "execute_result"
    }
   ],
   "source": [
    "'''imp = SimpleImputer(strategy='constant')\n",
    "steps = [('imputation', imp),('RandomForestRegressor', svm_new)]\n",
    "pipeline = Pipeline(steps)\n",
    "pipeline.fit(X_train_new, y_train_new)'''\n"
   ]
  },
  {
   "cell_type": "code",
   "execution_count": 17,
   "metadata": {},
   "outputs": [
    {
     "name": "stderr",
     "output_type": "stream",
     "text": [
      "/Users/acallil/anaconda3/lib/python3.7/site-packages/fancyimpute/solver.py:58: UserWarning: Input matrix is not missing any values\n",
      "  warnings.warn(\"Input matrix is not missing any values\")\n"
     ]
    },
    {
     "name": "stdout",
     "output_type": "stream",
     "text": [
      "Imputing row 1/20640 with 0 missing, elapsed time: 60.067\n",
      "Imputing row 101/20640 with 0 missing, elapsed time: 60.067\n",
      "Imputing row 201/20640 with 0 missing, elapsed time: 60.068\n",
      "Imputing row 301/20640 with 0 missing, elapsed time: 60.068\n",
      "Imputing row 401/20640 with 0 missing, elapsed time: 60.068\n",
      "Imputing row 501/20640 with 0 missing, elapsed time: 60.068\n",
      "Imputing row 601/20640 with 0 missing, elapsed time: 60.069\n",
      "Imputing row 701/20640 with 0 missing, elapsed time: 60.069\n",
      "Imputing row 801/20640 with 0 missing, elapsed time: 60.069\n",
      "Imputing row 901/20640 with 0 missing, elapsed time: 60.070\n",
      "Imputing row 1001/20640 with 0 missing, elapsed time: 60.071\n",
      "Imputing row 1101/20640 with 0 missing, elapsed time: 60.071\n",
      "Imputing row 1201/20640 with 0 missing, elapsed time: 60.071\n",
      "Imputing row 1301/20640 with 0 missing, elapsed time: 60.071\n",
      "Imputing row 1401/20640 with 0 missing, elapsed time: 60.072\n",
      "Imputing row 1501/20640 with 0 missing, elapsed time: 60.072\n",
      "Imputing row 1601/20640 with 0 missing, elapsed time: 60.072\n",
      "Imputing row 1701/20640 with 0 missing, elapsed time: 60.072\n",
      "Imputing row 1801/20640 with 0 missing, elapsed time: 60.073\n",
      "Imputing row 1901/20640 with 0 missing, elapsed time: 60.073\n",
      "Imputing row 2001/20640 with 0 missing, elapsed time: 60.073\n",
      "Imputing row 2101/20640 with 0 missing, elapsed time: 60.073\n",
      "Imputing row 2201/20640 with 0 missing, elapsed time: 60.074\n",
      "Imputing row 2301/20640 with 0 missing, elapsed time: 60.074\n",
      "Imputing row 2401/20640 with 0 missing, elapsed time: 60.074\n",
      "Imputing row 2501/20640 with 0 missing, elapsed time: 60.074\n",
      "Imputing row 2601/20640 with 0 missing, elapsed time: 60.075\n",
      "Imputing row 2701/20640 with 0 missing, elapsed time: 60.075\n",
      "Imputing row 2801/20640 with 0 missing, elapsed time: 60.075\n",
      "Imputing row 2901/20640 with 0 missing, elapsed time: 60.075\n",
      "Imputing row 3001/20640 with 0 missing, elapsed time: 60.076\n",
      "Imputing row 3101/20640 with 0 missing, elapsed time: 60.077\n",
      "Imputing row 3201/20640 with 0 missing, elapsed time: 60.077\n",
      "Imputing row 3301/20640 with 0 missing, elapsed time: 60.077\n",
      "Imputing row 3401/20640 with 0 missing, elapsed time: 60.077\n",
      "Imputing row 3501/20640 with 0 missing, elapsed time: 60.078\n",
      "Imputing row 3601/20640 with 0 missing, elapsed time: 60.078\n",
      "Imputing row 3701/20640 with 0 missing, elapsed time: 60.078\n",
      "Imputing row 3801/20640 with 0 missing, elapsed time: 60.078\n",
      "Imputing row 3901/20640 with 0 missing, elapsed time: 60.079\n",
      "Imputing row 4001/20640 with 0 missing, elapsed time: 60.079\n",
      "Imputing row 4101/20640 with 0 missing, elapsed time: 60.079\n",
      "Imputing row 4201/20640 with 0 missing, elapsed time: 60.079\n",
      "Imputing row 4301/20640 with 0 missing, elapsed time: 60.080\n",
      "Imputing row 4401/20640 with 0 missing, elapsed time: 60.080\n",
      "Imputing row 4501/20640 with 0 missing, elapsed time: 60.080\n",
      "Imputing row 4601/20640 with 0 missing, elapsed time: 60.080\n",
      "Imputing row 4701/20640 with 0 missing, elapsed time: 60.081\n",
      "Imputing row 4801/20640 with 0 missing, elapsed time: 60.081\n",
      "Imputing row 4901/20640 with 0 missing, elapsed time: 60.081\n",
      "Imputing row 5001/20640 with 0 missing, elapsed time: 60.081\n",
      "Imputing row 5101/20640 with 0 missing, elapsed time: 60.082\n",
      "Imputing row 5201/20640 with 0 missing, elapsed time: 60.082\n",
      "Imputing row 5301/20640 with 0 missing, elapsed time: 60.082\n",
      "Imputing row 5401/20640 with 0 missing, elapsed time: 60.082\n",
      "Imputing row 5501/20640 with 0 missing, elapsed time: 60.083\n",
      "Imputing row 5601/20640 with 0 missing, elapsed time: 60.083\n",
      "Imputing row 5701/20640 with 0 missing, elapsed time: 60.083\n",
      "Imputing row 5801/20640 with 0 missing, elapsed time: 60.083\n",
      "Imputing row 5901/20640 with 0 missing, elapsed time: 60.084\n",
      "Imputing row 6001/20640 with 0 missing, elapsed time: 60.084\n",
      "Imputing row 6101/20640 with 0 missing, elapsed time: 60.084\n",
      "Imputing row 6201/20640 with 0 missing, elapsed time: 60.084\n",
      "Imputing row 6301/20640 with 0 missing, elapsed time: 60.085\n",
      "Imputing row 6401/20640 with 0 missing, elapsed time: 60.085\n",
      "Imputing row 6501/20640 with 0 missing, elapsed time: 60.085\n",
      "Imputing row 6601/20640 with 0 missing, elapsed time: 60.085\n",
      "Imputing row 6701/20640 with 0 missing, elapsed time: 60.086\n",
      "Imputing row 6801/20640 with 0 missing, elapsed time: 60.086\n",
      "Imputing row 6901/20640 with 0 missing, elapsed time: 60.086\n",
      "Imputing row 7001/20640 with 0 missing, elapsed time: 60.086\n",
      "Imputing row 7101/20640 with 0 missing, elapsed time: 60.087\n",
      "Imputing row 7201/20640 with 0 missing, elapsed time: 60.087\n",
      "Imputing row 7301/20640 with 0 missing, elapsed time: 60.087\n",
      "Imputing row 7401/20640 with 0 missing, elapsed time: 60.087\n",
      "Imputing row 7501/20640 with 0 missing, elapsed time: 60.088\n",
      "Imputing row 7601/20640 with 0 missing, elapsed time: 60.088\n",
      "Imputing row 7701/20640 with 0 missing, elapsed time: 60.088\n",
      "Imputing row 7801/20640 with 0 missing, elapsed time: 60.088\n",
      "Imputing row 7901/20640 with 0 missing, elapsed time: 60.089\n",
      "Imputing row 8001/20640 with 0 missing, elapsed time: 60.089\n",
      "Imputing row 8101/20640 with 0 missing, elapsed time: 60.089\n",
      "Imputing row 8201/20640 with 0 missing, elapsed time: 60.089\n",
      "Imputing row 8301/20640 with 0 missing, elapsed time: 60.089\n",
      "Imputing row 8401/20640 with 0 missing, elapsed time: 60.090\n",
      "Imputing row 8501/20640 with 0 missing, elapsed time: 60.090\n",
      "Imputing row 8601/20640 with 0 missing, elapsed time: 60.090\n",
      "Imputing row 8701/20640 with 0 missing, elapsed time: 60.090\n",
      "Imputing row 8801/20640 with 0 missing, elapsed time: 60.091\n",
      "Imputing row 8901/20640 with 0 missing, elapsed time: 60.091\n",
      "Imputing row 9001/20640 with 0 missing, elapsed time: 60.091\n",
      "Imputing row 9101/20640 with 0 missing, elapsed time: 60.091\n",
      "Imputing row 9201/20640 with 0 missing, elapsed time: 60.092\n",
      "Imputing row 9301/20640 with 0 missing, elapsed time: 60.092\n",
      "Imputing row 9401/20640 with 0 missing, elapsed time: 60.092\n",
      "Imputing row 9501/20640 with 0 missing, elapsed time: 60.092\n",
      "Imputing row 9601/20640 with 0 missing, elapsed time: 60.093\n",
      "Imputing row 9701/20640 with 0 missing, elapsed time: 60.093\n",
      "Imputing row 9801/20640 with 0 missing, elapsed time: 60.093\n",
      "Imputing row 9901/20640 with 0 missing, elapsed time: 60.094\n",
      "Imputing row 10001/20640 with 0 missing, elapsed time: 60.094\n",
      "Imputing row 10101/20640 with 0 missing, elapsed time: 60.094\n",
      "Imputing row 10201/20640 with 0 missing, elapsed time: 60.094\n",
      "Imputing row 10301/20640 with 0 missing, elapsed time: 60.095\n",
      "Imputing row 10401/20640 with 0 missing, elapsed time: 60.095\n",
      "Imputing row 10501/20640 with 0 missing, elapsed time: 60.095\n",
      "Imputing row 10601/20640 with 0 missing, elapsed time: 60.095\n",
      "Imputing row 10701/20640 with 0 missing, elapsed time: 60.096\n",
      "Imputing row 10801/20640 with 0 missing, elapsed time: 60.096\n",
      "Imputing row 10901/20640 with 0 missing, elapsed time: 60.096\n",
      "Imputing row 11001/20640 with 0 missing, elapsed time: 60.096\n",
      "Imputing row 11101/20640 with 0 missing, elapsed time: 60.097\n",
      "Imputing row 11201/20640 with 0 missing, elapsed time: 60.097\n",
      "Imputing row 11301/20640 with 0 missing, elapsed time: 60.097\n",
      "Imputing row 11401/20640 with 0 missing, elapsed time: 60.097\n",
      "Imputing row 11501/20640 with 0 missing, elapsed time: 60.098\n",
      "Imputing row 11601/20640 with 0 missing, elapsed time: 60.098\n",
      "Imputing row 11701/20640 with 0 missing, elapsed time: 60.098\n",
      "Imputing row 11801/20640 with 0 missing, elapsed time: 60.098\n",
      "Imputing row 11901/20640 with 0 missing, elapsed time: 60.099\n",
      "Imputing row 12001/20640 with 0 missing, elapsed time: 60.099\n",
      "Imputing row 12101/20640 with 0 missing, elapsed time: 60.099\n",
      "Imputing row 12201/20640 with 0 missing, elapsed time: 60.099\n",
      "Imputing row 12301/20640 with 0 missing, elapsed time: 60.100\n",
      "Imputing row 12401/20640 with 0 missing, elapsed time: 60.100\n",
      "Imputing row 12501/20640 with 0 missing, elapsed time: 60.100\n",
      "Imputing row 12601/20640 with 0 missing, elapsed time: 60.100\n",
      "Imputing row 12701/20640 with 0 missing, elapsed time: 60.101\n",
      "Imputing row 12801/20640 with 0 missing, elapsed time: 60.101\n",
      "Imputing row 12901/20640 with 0 missing, elapsed time: 60.101\n",
      "Imputing row 13001/20640 with 0 missing, elapsed time: 60.101\n",
      "Imputing row 13101/20640 with 0 missing, elapsed time: 60.102\n",
      "Imputing row 13201/20640 with 0 missing, elapsed time: 60.102\n",
      "Imputing row 13301/20640 with 0 missing, elapsed time: 60.102\n",
      "Imputing row 13401/20640 with 0 missing, elapsed time: 60.102\n",
      "Imputing row 13501/20640 with 0 missing, elapsed time: 60.103\n",
      "Imputing row 13601/20640 with 0 missing, elapsed time: 60.103\n",
      "Imputing row 13701/20640 with 0 missing, elapsed time: 60.103\n",
      "Imputing row 13801/20640 with 0 missing, elapsed time: 60.103\n",
      "Imputing row 13901/20640 with 0 missing, elapsed time: 60.104\n",
      "Imputing row 14001/20640 with 0 missing, elapsed time: 60.104\n",
      "Imputing row 14101/20640 with 0 missing, elapsed time: 60.105\n",
      "Imputing row 14201/20640 with 0 missing, elapsed time: 60.106\n",
      "Imputing row 14301/20640 with 0 missing, elapsed time: 60.106\n",
      "Imputing row 14401/20640 with 0 missing, elapsed time: 60.106\n",
      "Imputing row 14501/20640 with 0 missing, elapsed time: 60.106\n",
      "Imputing row 14601/20640 with 0 missing, elapsed time: 60.107\n",
      "Imputing row 14701/20640 with 0 missing, elapsed time: 60.107\n",
      "Imputing row 14801/20640 with 0 missing, elapsed time: 60.107\n",
      "Imputing row 14901/20640 with 0 missing, elapsed time: 60.107\n",
      "Imputing row 15001/20640 with 0 missing, elapsed time: 60.108\n",
      "Imputing row 15101/20640 with 0 missing, elapsed time: 60.108\n",
      "Imputing row 15201/20640 with 0 missing, elapsed time: 60.108\n",
      "Imputing row 15301/20640 with 0 missing, elapsed time: 60.108\n",
      "Imputing row 15401/20640 with 0 missing, elapsed time: 60.109\n",
      "Imputing row 15501/20640 with 0 missing, elapsed time: 60.109\n",
      "Imputing row 15601/20640 with 0 missing, elapsed time: 60.109\n",
      "Imputing row 15701/20640 with 0 missing, elapsed time: 60.109\n",
      "Imputing row 15801/20640 with 0 missing, elapsed time: 60.110\n",
      "Imputing row 15901/20640 with 0 missing, elapsed time: 60.110\n",
      "Imputing row 16001/20640 with 0 missing, elapsed time: 60.110\n",
      "Imputing row 16101/20640 with 0 missing, elapsed time: 60.110\n",
      "Imputing row 16201/20640 with 0 missing, elapsed time: 60.111\n",
      "Imputing row 16301/20640 with 0 missing, elapsed time: 60.111\n",
      "Imputing row 16401/20640 with 0 missing, elapsed time: 60.111\n",
      "Imputing row 16501/20640 with 0 missing, elapsed time: 60.111\n",
      "Imputing row 16601/20640 with 0 missing, elapsed time: 60.112\n",
      "Imputing row 16701/20640 with 0 missing, elapsed time: 60.112\n",
      "Imputing row 16801/20640 with 0 missing, elapsed time: 60.112\n",
      "Imputing row 16901/20640 with 0 missing, elapsed time: 60.112\n",
      "Imputing row 17001/20640 with 0 missing, elapsed time: 60.113\n",
      "Imputing row 17101/20640 with 0 missing, elapsed time: 60.113\n",
      "Imputing row 17201/20640 with 0 missing, elapsed time: 60.113\n",
      "Imputing row 17301/20640 with 0 missing, elapsed time: 60.113\n",
      "Imputing row 17401/20640 with 0 missing, elapsed time: 60.114\n",
      "Imputing row 17501/20640 with 0 missing, elapsed time: 60.114\n",
      "Imputing row 17601/20640 with 0 missing, elapsed time: 60.114\n",
      "Imputing row 17701/20640 with 0 missing, elapsed time: 60.114\n",
      "Imputing row 17801/20640 with 0 missing, elapsed time: 60.115\n",
      "Imputing row 17901/20640 with 0 missing, elapsed time: 60.115\n",
      "Imputing row 18001/20640 with 0 missing, elapsed time: 60.115\n",
      "Imputing row 18101/20640 with 0 missing, elapsed time: 60.115\n",
      "Imputing row 18201/20640 with 0 missing, elapsed time: 60.116\n",
      "Imputing row 18301/20640 with 0 missing, elapsed time: 60.116\n",
      "Imputing row 18401/20640 with 0 missing, elapsed time: 60.116\n",
      "Imputing row 18501/20640 with 0 missing, elapsed time: 60.116\n",
      "Imputing row 18601/20640 with 0 missing, elapsed time: 60.117\n",
      "Imputing row 18701/20640 with 0 missing, elapsed time: 60.117\n",
      "Imputing row 18801/20640 with 0 missing, elapsed time: 60.117\n",
      "Imputing row 18901/20640 with 0 missing, elapsed time: 60.117\n",
      "Imputing row 19001/20640 with 0 missing, elapsed time: 60.118\n",
      "Imputing row 19101/20640 with 0 missing, elapsed time: 60.118\n",
      "Imputing row 19201/20640 with 0 missing, elapsed time: 60.118\n",
      "Imputing row 19301/20640 with 0 missing, elapsed time: 60.118\n",
      "Imputing row 19401/20640 with 0 missing, elapsed time: 60.119\n",
      "Imputing row 19501/20640 with 0 missing, elapsed time: 60.119\n",
      "Imputing row 19601/20640 with 0 missing, elapsed time: 60.119\n",
      "Imputing row 19701/20640 with 0 missing, elapsed time: 60.119\n",
      "Imputing row 19801/20640 with 0 missing, elapsed time: 60.120\n",
      "Imputing row 19901/20640 with 0 missing, elapsed time: 60.120\n",
      "Imputing row 20001/20640 with 0 missing, elapsed time: 60.120\n",
      "Imputing row 20101/20640 with 0 missing, elapsed time: 60.120\n",
      "Imputing row 20201/20640 with 0 missing, elapsed time: 60.121\n",
      "Imputing row 20301/20640 with 0 missing, elapsed time: 60.121\n",
      "Imputing row 20401/20640 with 0 missing, elapsed time: 60.121\n",
      "Imputing row 20501/20640 with 0 missing, elapsed time: 60.121\n",
      "Imputing row 20601/20640 with 0 missing, elapsed time: 60.122\n"
     ]
    }
   ],
   "source": [
    "X_filled_knn = KNN(k=3).fit_transform(X_train_new) "
   ]
  },
  {
   "cell_type": "code",
   "execution_count": 18,
   "metadata": {},
   "outputs": [
    {
     "data": {
      "text/plain": [
       "SVR(C=1.0, cache_size=200, coef0=0.0, degree=3, epsilon=0.2, gamma='scale',\n",
       "  kernel='rbf', max_iter=-1, shrinking=True, tol=0.001, verbose=False)"
      ]
     },
     "execution_count": 18,
     "metadata": {},
     "output_type": "execute_result"
    }
   ],
   "source": [
    "# Build SVM model\n",
    "svm_new = SVR(gamma='scale', C=1.0, epsilon=0.2)\n",
    "svm_new.fit(X_filled_knn, y) "
   ]
  },
  {
   "cell_type": "code",
   "execution_count": 20,
   "metadata": {},
   "outputs": [
    {
     "data": {
      "text/plain": [
       "1.3883785269576872"
      ]
     },
     "execution_count": 20,
     "metadata": {},
     "output_type": "execute_result"
    }
   ],
   "source": [
    "# Evaluating the model\n",
    "scores_rf_imp = cross_val_score(svm_new, X_train_new, y_train_new, cv=5, scoring='neg_mean_squared_error')\n",
    "np.mean(abs(scores_rf_imp))\n"
   ]
  }
 ],
 "metadata": {
  "kernelspec": {
   "display_name": "Python 3",
   "language": "python",
   "name": "python3"
  },
  "language_info": {
   "codemirror_mode": {
    "name": "ipython",
    "version": 3
   },
   "file_extension": ".py",
   "mimetype": "text/x-python",
   "name": "python",
   "nbconvert_exporter": "python",
   "pygments_lexer": "ipython3",
   "version": "3.6.8"
  }
 },
 "nbformat": 4,
 "nbformat_minor": 2
}
