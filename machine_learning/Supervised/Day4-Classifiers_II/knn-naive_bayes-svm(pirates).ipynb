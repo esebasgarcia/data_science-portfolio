{
 "cells": [
  {
   "cell_type": "markdown",
   "metadata": {},
   "source": [
    "# Sebastian Garcia\n",
    "\n",
    "# Pirate Attacks\n",
    "\n",
    "Use KNN, Naive Bayes and SVM on the ‘Pirate Attacks’ dataset to predict pirate attack success.\n",
    "\n",
    "- Clean and preprocess data using a one-hot-encoder for categorical variables.\n",
    "- Run the three models on the data.\n",
    "- Which model is the best in predicting attacks?"
   ]
  },
  {
   "cell_type": "code",
   "execution_count": 1,
   "metadata": {},
   "outputs": [],
   "source": [
    "import pandas as pd\n",
    "import numpy as np\n",
    "from sklearn.model_selection import train_test_split, cross_val_score\n",
    "from sklearn.neighbors import KNeighborsClassifier\n",
    "from sklearn.naive_bayes import BernoulliNB\n",
    "from sklearn.svm import SVC\n",
    "from sklearn.preprocessing import StandardScaler\n",
    "from sklearn import metrics\n",
    "import matplotlib.pyplot as plt\n"
   ]
  },
  {
   "cell_type": "code",
   "execution_count": 2,
   "metadata": {},
   "outputs": [],
   "source": [
    "pirate = pd.read_csv('pirate_data.csv')\n"
   ]
  },
  {
   "cell_type": "code",
   "execution_count": 3,
   "metadata": {},
   "outputs": [
    {
     "data": {
      "text/html": [
       "<div>\n",
       "<style scoped>\n",
       "    .dataframe tbody tr th:only-of-type {\n",
       "        vertical-align: middle;\n",
       "    }\n",
       "\n",
       "    .dataframe tbody tr th {\n",
       "        vertical-align: top;\n",
       "    }\n",
       "\n",
       "    .dataframe thead th {\n",
       "        text-align: right;\n",
       "    }\n",
       "</style>\n",
       "<table border=\"1\" class=\"dataframe\">\n",
       "  <thead>\n",
       "    <tr style=\"text-align: right;\">\n",
       "      <th></th>\n",
       "      <th>Unnamed: 0</th>\n",
       "      <th>DATETIME (LOCAL)</th>\n",
       "      <th>DATETIME (UTC)</th>\n",
       "      <th>DATE (LT)</th>\n",
       "      <th>DATE (UTC)</th>\n",
       "      <th>REGION</th>\n",
       "      <th>COUNTRY</th>\n",
       "      <th>INCIDENT TYPE</th>\n",
       "      <th>VESSEL TYPE</th>\n",
       "      <th>MAERSK?</th>\n",
       "      <th>VESSEL ACTIVITY LOCATION</th>\n",
       "      <th>LAT</th>\n",
       "      <th>LONG</th>\n",
       "      <th>TIMEZONE</th>\n",
       "      <th>TIME OF DAY</th>\n",
       "      <th>ATTACKS</th>\n",
       "      <th>ATTACK SUCCESS</th>\n",
       "    </tr>\n",
       "  </thead>\n",
       "  <tbody>\n",
       "    <tr>\n",
       "      <th>0</th>\n",
       "      <td>1</td>\n",
       "      <td>2016-01-30 23:34:00</td>\n",
       "      <td>2016-01-30 22:34:00</td>\n",
       "      <td>2016-01-30</td>\n",
       "      <td>2016-01-30</td>\n",
       "      <td>WEST AFRICA</td>\n",
       "      <td>NIGERIA</td>\n",
       "      <td>FAILED ATTACK, HIJACKING</td>\n",
       "      <td>CONTAINER SHIP</td>\n",
       "      <td>0</td>\n",
       "      <td>OFF SHORE</td>\n",
       "      <td>3.000000</td>\n",
       "      <td>6.250000</td>\n",
       "      <td>Africa/Lagos</td>\n",
       "      <td>EVENING</td>\n",
       "      <td>1</td>\n",
       "      <td>0</td>\n",
       "    </tr>\n",
       "    <tr>\n",
       "      <th>1</th>\n",
       "      <td>2</td>\n",
       "      <td>2016-01-29 23:40:00</td>\n",
       "      <td>2016-01-29 22:40:00</td>\n",
       "      <td>2016-01-29</td>\n",
       "      <td>2016-01-29</td>\n",
       "      <td>WEST AFRICA</td>\n",
       "      <td>NIGERIA</td>\n",
       "      <td>KIDNAP/RANSOM AT SEA</td>\n",
       "      <td>PRODUCT TANKER</td>\n",
       "      <td>0</td>\n",
       "      <td>OFF SHORE</td>\n",
       "      <td>2.500000</td>\n",
       "      <td>5.750000</td>\n",
       "      <td>Africa/Lagos</td>\n",
       "      <td>EVENING</td>\n",
       "      <td>1</td>\n",
       "      <td>1</td>\n",
       "    </tr>\n",
       "    <tr>\n",
       "      <th>2</th>\n",
       "      <td>3</td>\n",
       "      <td>2016-01-28 03:00:00</td>\n",
       "      <td>2016-01-28 02:00:00</td>\n",
       "      <td>2016-01-28</td>\n",
       "      <td>2016-01-28</td>\n",
       "      <td>SOUTH ASIA</td>\n",
       "      <td>INDIA</td>\n",
       "      <td>FAILED ATTACK, ROBBERY</td>\n",
       "      <td>PRODUCT TANKER</td>\n",
       "      <td>0</td>\n",
       "      <td>ANCHORAGE</td>\n",
       "      <td>22.816667</td>\n",
       "      <td>70.116667</td>\n",
       "      <td>Asia/Kolkata</td>\n",
       "      <td>NIGHT</td>\n",
       "      <td>1</td>\n",
       "      <td>0</td>\n",
       "    </tr>\n",
       "    <tr>\n",
       "      <th>3</th>\n",
       "      <td>4</td>\n",
       "      <td>NaN</td>\n",
       "      <td>NaN</td>\n",
       "      <td>2016-01-27</td>\n",
       "      <td>2016-01-27</td>\n",
       "      <td>HORN OF AFRICA/ GULF OF ADEN</td>\n",
       "      <td>SOMALIA</td>\n",
       "      <td>SUSPICIOUS ACTIVITY AT SEA</td>\n",
       "      <td>NaN</td>\n",
       "      <td>0</td>\n",
       "      <td>OFF SHORE</td>\n",
       "      <td>13.998747</td>\n",
       "      <td>54.112792</td>\n",
       "      <td>Asia/Riyadh</td>\n",
       "      <td>UNKNOWN</td>\n",
       "      <td>1</td>\n",
       "      <td>0</td>\n",
       "    </tr>\n",
       "    <tr>\n",
       "      <th>4</th>\n",
       "      <td>5</td>\n",
       "      <td>2016-01-25 23:55:00</td>\n",
       "      <td>2016-01-25 22:55:00</td>\n",
       "      <td>2016-01-25</td>\n",
       "      <td>2016-01-25</td>\n",
       "      <td>SOUTH AMERICA</td>\n",
       "      <td>VENEZUELA</td>\n",
       "      <td>THEFT AT ANCHORAGE</td>\n",
       "      <td>GENERAL CARGO VESSEL</td>\n",
       "      <td>0</td>\n",
       "      <td>ANCHORAGE</td>\n",
       "      <td>10.267500</td>\n",
       "      <td>-63.432500</td>\n",
       "      <td>America/Caracas</td>\n",
       "      <td>EVENING</td>\n",
       "      <td>1</td>\n",
       "      <td>1</td>\n",
       "    </tr>\n",
       "  </tbody>\n",
       "</table>\n",
       "</div>"
      ],
      "text/plain": [
       "   Unnamed: 0     DATETIME (LOCAL)       DATETIME (UTC)   DATE (LT)  \\\n",
       "0           1  2016-01-30 23:34:00  2016-01-30 22:34:00  2016-01-30   \n",
       "1           2  2016-01-29 23:40:00  2016-01-29 22:40:00  2016-01-29   \n",
       "2           3  2016-01-28 03:00:00  2016-01-28 02:00:00  2016-01-28   \n",
       "3           4                  NaN                  NaN  2016-01-27   \n",
       "4           5  2016-01-25 23:55:00  2016-01-25 22:55:00  2016-01-25   \n",
       "\n",
       "   DATE (UTC)                        REGION    COUNTRY  \\\n",
       "0  2016-01-30                   WEST AFRICA    NIGERIA   \n",
       "1  2016-01-29                   WEST AFRICA    NIGERIA   \n",
       "2  2016-01-28                    SOUTH ASIA      INDIA   \n",
       "3  2016-01-27  HORN OF AFRICA/ GULF OF ADEN    SOMALIA   \n",
       "4  2016-01-25                 SOUTH AMERICA  VENEZUELA   \n",
       "\n",
       "                INCIDENT TYPE           VESSEL TYPE  MAERSK?  \\\n",
       "0    FAILED ATTACK, HIJACKING        CONTAINER SHIP        0   \n",
       "1        KIDNAP/RANSOM AT SEA        PRODUCT TANKER        0   \n",
       "2      FAILED ATTACK, ROBBERY        PRODUCT TANKER        0   \n",
       "3  SUSPICIOUS ACTIVITY AT SEA                   NaN        0   \n",
       "4          THEFT AT ANCHORAGE  GENERAL CARGO VESSEL        0   \n",
       "\n",
       "  VESSEL ACTIVITY LOCATION        LAT       LONG         TIMEZONE TIME OF DAY  \\\n",
       "0                OFF SHORE   3.000000   6.250000     Africa/Lagos     EVENING   \n",
       "1                OFF SHORE   2.500000   5.750000     Africa/Lagos     EVENING   \n",
       "2                ANCHORAGE  22.816667  70.116667     Asia/Kolkata       NIGHT   \n",
       "3                OFF SHORE  13.998747  54.112792      Asia/Riyadh     UNKNOWN   \n",
       "4                ANCHORAGE  10.267500 -63.432500  America/Caracas     EVENING   \n",
       "\n",
       "   ATTACKS  ATTACK SUCCESS  \n",
       "0        1               0  \n",
       "1        1               1  \n",
       "2        1               0  \n",
       "3        1               0  \n",
       "4        1               1  "
      ]
     },
     "execution_count": 3,
     "metadata": {},
     "output_type": "execute_result"
    }
   ],
   "source": [
    "pirate.head()\n"
   ]
  },
  {
   "cell_type": "code",
   "execution_count": 4,
   "metadata": {},
   "outputs": [
    {
     "data": {
      "text/html": [
       "<div>\n",
       "<style scoped>\n",
       "    .dataframe tbody tr th:only-of-type {\n",
       "        vertical-align: middle;\n",
       "    }\n",
       "\n",
       "    .dataframe tbody tr th {\n",
       "        vertical-align: top;\n",
       "    }\n",
       "\n",
       "    .dataframe thead th {\n",
       "        text-align: right;\n",
       "    }\n",
       "</style>\n",
       "<table border=\"1\" class=\"dataframe\">\n",
       "  <thead>\n",
       "    <tr style=\"text-align: right;\">\n",
       "      <th></th>\n",
       "      <th>Unnamed: 0</th>\n",
       "      <th>MAERSK?</th>\n",
       "      <th>LAT</th>\n",
       "      <th>LONG</th>\n",
       "      <th>ATTACKS</th>\n",
       "      <th>ATTACK SUCCESS</th>\n",
       "    </tr>\n",
       "  </thead>\n",
       "  <tbody>\n",
       "    <tr>\n",
       "      <th>count</th>\n",
       "      <td>802.000000</td>\n",
       "      <td>802.000000</td>\n",
       "      <td>802.000000</td>\n",
       "      <td>802.000000</td>\n",
       "      <td>802.0</td>\n",
       "      <td>802.000000</td>\n",
       "    </tr>\n",
       "    <tr>\n",
       "      <th>mean</th>\n",
       "      <td>401.500000</td>\n",
       "      <td>0.009975</td>\n",
       "      <td>7.422105</td>\n",
       "      <td>53.992284</td>\n",
       "      <td>1.0</td>\n",
       "      <td>0.623441</td>\n",
       "    </tr>\n",
       "    <tr>\n",
       "      <th>std</th>\n",
       "      <td>231.661751</td>\n",
       "      <td>0.099438</td>\n",
       "      <td>10.137042</td>\n",
       "      <td>52.871852</td>\n",
       "      <td>0.0</td>\n",
       "      <td>0.484825</td>\n",
       "    </tr>\n",
       "    <tr>\n",
       "      <th>min</th>\n",
       "      <td>1.000000</td>\n",
       "      <td>0.000000</td>\n",
       "      <td>-40.713697</td>\n",
       "      <td>-89.814563</td>\n",
       "      <td>1.0</td>\n",
       "      <td>0.000000</td>\n",
       "    </tr>\n",
       "    <tr>\n",
       "      <th>25%</th>\n",
       "      <td>201.250000</td>\n",
       "      <td>0.000000</td>\n",
       "      <td>1.243519</td>\n",
       "      <td>6.061853</td>\n",
       "      <td>1.0</td>\n",
       "      <td>0.000000</td>\n",
       "    </tr>\n",
       "    <tr>\n",
       "      <th>50%</th>\n",
       "      <td>401.500000</td>\n",
       "      <td>0.000000</td>\n",
       "      <td>4.454002</td>\n",
       "      <td>57.825000</td>\n",
       "      <td>1.0</td>\n",
       "      <td>1.000000</td>\n",
       "    </tr>\n",
       "    <tr>\n",
       "      <th>75%</th>\n",
       "      <td>601.750000</td>\n",
       "      <td>0.000000</td>\n",
       "      <td>10.250000</td>\n",
       "      <td>103.650375</td>\n",
       "      <td>1.0</td>\n",
       "      <td>1.000000</td>\n",
       "    </tr>\n",
       "    <tr>\n",
       "      <th>max</th>\n",
       "      <td>802.000000</td>\n",
       "      <td>1.000000</td>\n",
       "      <td>60.157067</td>\n",
       "      <td>174.809990</td>\n",
       "      <td>1.0</td>\n",
       "      <td>1.000000</td>\n",
       "    </tr>\n",
       "  </tbody>\n",
       "</table>\n",
       "</div>"
      ],
      "text/plain": [
       "       Unnamed: 0     MAERSK?         LAT        LONG  ATTACKS  ATTACK SUCCESS\n",
       "count  802.000000  802.000000  802.000000  802.000000    802.0      802.000000\n",
       "mean   401.500000    0.009975    7.422105   53.992284      1.0        0.623441\n",
       "std    231.661751    0.099438   10.137042   52.871852      0.0        0.484825\n",
       "min      1.000000    0.000000  -40.713697  -89.814563      1.0        0.000000\n",
       "25%    201.250000    0.000000    1.243519    6.061853      1.0        0.000000\n",
       "50%    401.500000    0.000000    4.454002   57.825000      1.0        1.000000\n",
       "75%    601.750000    0.000000   10.250000  103.650375      1.0        1.000000\n",
       "max    802.000000    1.000000   60.157067  174.809990      1.0        1.000000"
      ]
     },
     "execution_count": 4,
     "metadata": {},
     "output_type": "execute_result"
    }
   ],
   "source": [
    "# Analyze data\n",
    "pirate.describe()\n"
   ]
  },
  {
   "cell_type": "code",
   "execution_count": 5,
   "metadata": {},
   "outputs": [],
   "source": [
    "# Isolate independent and dependent variables\n",
    "pirate_y = pirate['ATTACK SUCCESS']\n",
    "pirate_x = pirate.drop(['ATTACK SUCCESS', 'Unnamed: 0', 'DATETIME (LOCAL)',\n",
    "                        'DATETIME (UTC)', 'DATE (LT)', 'DATE (UTC)', 'INCIDENT TYPE',\n",
    "                        'MAERSK?', 'LAT', 'LONG', 'TIMEZONE', 'ATTACKS'], axis=1)\n"
   ]
  },
  {
   "cell_type": "code",
   "execution_count": 6,
   "metadata": {},
   "outputs": [
    {
     "data": {
      "text/plain": [
       "REGION                      object\n",
       "COUNTRY                     object\n",
       "VESSEL TYPE                 object\n",
       "VESSEL ACTIVITY LOCATION    object\n",
       "TIME OF DAY                 object\n",
       "dtype: object"
      ]
     },
     "execution_count": 6,
     "metadata": {},
     "output_type": "execute_result"
    }
   ],
   "source": [
    "# Check column types\n",
    "pirate_x.dtypes\n"
   ]
  },
  {
   "cell_type": "code",
   "execution_count": 7,
   "metadata": {},
   "outputs": [],
   "source": [
    "# Enconde the categorical variables in order to turn it numerical\n",
    "def one_hot(cat):\n",
    "    dummies = pd.get_dummies(pirate_x[cat], prefix=cat)\n",
    "    res = pd.concat([pirate_x, dummies], axis=1)\n",
    "    return(res)\n"
   ]
  },
  {
   "cell_type": "code",
   "execution_count": 8,
   "metadata": {},
   "outputs": [],
   "source": [
    "# Isolate categorical and numerical ones\n",
    "cat_features = pirate_x.select_dtypes(include=['object'])\n",
    "num_features = pirate_x.select_dtypes(include=['int', 'float'])\n"
   ]
  },
  {
   "cell_type": "code",
   "execution_count": 9,
   "metadata": {},
   "outputs": [],
   "source": [
    "# Apply the encoding to the categorical columns\n",
    "for cat_var in cat_features:\n",
    "    pirate_x = one_hot(cat_var)\n",
    "    "
   ]
  },
  {
   "cell_type": "code",
   "execution_count": 10,
   "metadata": {},
   "outputs": [],
   "source": [
    "# Drop the old ones from the dataset\n",
    "pirate_x.drop(cat_features, axis=1, inplace = True)\n"
   ]
  },
  {
   "cell_type": "code",
   "execution_count": 11,
   "metadata": {},
   "outputs": [
    {
     "data": {
      "text/plain": [
       "Index([], dtype='object')"
      ]
     },
     "execution_count": 11,
     "metadata": {},
     "output_type": "execute_result"
    }
   ],
   "source": [
    "# Check numerical columns names\n",
    "num_features.columns\n"
   ]
  },
  {
   "cell_type": "code",
   "execution_count": 12,
   "metadata": {},
   "outputs": [],
   "source": [
    "# Assign independent and dependent variables\n",
    "X = pirate_x # Variables: REGION, COUNTRY, VESSEL TYPE, VESSEL ACTIVITY LOCATION, TIME OF DAY\n",
    "y = pirate_y # Variable: ATTACK SUCCESS\n"
   ]
  },
  {
   "cell_type": "code",
   "execution_count": 13,
   "metadata": {},
   "outputs": [
    {
     "data": {
      "text/html": [
       "<div>\n",
       "<style scoped>\n",
       "    .dataframe tbody tr th:only-of-type {\n",
       "        vertical-align: middle;\n",
       "    }\n",
       "\n",
       "    .dataframe tbody tr th {\n",
       "        vertical-align: top;\n",
       "    }\n",
       "\n",
       "    .dataframe thead th {\n",
       "        text-align: right;\n",
       "    }\n",
       "</style>\n",
       "<table border=\"1\" class=\"dataframe\">\n",
       "  <thead>\n",
       "    <tr style=\"text-align: right;\">\n",
       "      <th></th>\n",
       "      <th>REGION_CARIBBEAN</th>\n",
       "      <th>REGION_EAST AFRICA</th>\n",
       "      <th>REGION_EUROPE</th>\n",
       "      <th>REGION_HORN OF AFRICA/ GULF OF ADEN</th>\n",
       "      <th>REGION_MIDDLE EAST</th>\n",
       "      <th>REGION_NORTH AFRICA</th>\n",
       "      <th>REGION_NORTH AMERICA</th>\n",
       "      <th>REGION_NORTH EAST ASIA</th>\n",
       "      <th>REGION_PACIFIC</th>\n",
       "      <th>REGION_SOUTH AMERICA</th>\n",
       "      <th>...</th>\n",
       "      <th>VESSEL TYPE_WOOD CHIPS CARRIER</th>\n",
       "      <th>VESSEL TYPE_YACHT</th>\n",
       "      <th>VESSEL ACTIVITY LOCATION_ANCHORAGE</th>\n",
       "      <th>VESSEL ACTIVITY LOCATION_BERTH</th>\n",
       "      <th>VESSEL ACTIVITY LOCATION_OFF SHORE</th>\n",
       "      <th>TIME OF DAY_AFTERNOON</th>\n",
       "      <th>TIME OF DAY_EVENING</th>\n",
       "      <th>TIME OF DAY_MORNING</th>\n",
       "      <th>TIME OF DAY_NIGHT</th>\n",
       "      <th>TIME OF DAY_UNKNOWN</th>\n",
       "    </tr>\n",
       "  </thead>\n",
       "  <tbody>\n",
       "    <tr>\n",
       "      <th>0</th>\n",
       "      <td>0</td>\n",
       "      <td>0</td>\n",
       "      <td>0</td>\n",
       "      <td>0</td>\n",
       "      <td>0</td>\n",
       "      <td>0</td>\n",
       "      <td>0</td>\n",
       "      <td>0</td>\n",
       "      <td>0</td>\n",
       "      <td>0</td>\n",
       "      <td>...</td>\n",
       "      <td>0</td>\n",
       "      <td>0</td>\n",
       "      <td>0</td>\n",
       "      <td>0</td>\n",
       "      <td>1</td>\n",
       "      <td>0</td>\n",
       "      <td>1</td>\n",
       "      <td>0</td>\n",
       "      <td>0</td>\n",
       "      <td>0</td>\n",
       "    </tr>\n",
       "    <tr>\n",
       "      <th>1</th>\n",
       "      <td>0</td>\n",
       "      <td>0</td>\n",
       "      <td>0</td>\n",
       "      <td>0</td>\n",
       "      <td>0</td>\n",
       "      <td>0</td>\n",
       "      <td>0</td>\n",
       "      <td>0</td>\n",
       "      <td>0</td>\n",
       "      <td>0</td>\n",
       "      <td>...</td>\n",
       "      <td>0</td>\n",
       "      <td>0</td>\n",
       "      <td>0</td>\n",
       "      <td>0</td>\n",
       "      <td>1</td>\n",
       "      <td>0</td>\n",
       "      <td>1</td>\n",
       "      <td>0</td>\n",
       "      <td>0</td>\n",
       "      <td>0</td>\n",
       "    </tr>\n",
       "    <tr>\n",
       "      <th>2</th>\n",
       "      <td>0</td>\n",
       "      <td>0</td>\n",
       "      <td>0</td>\n",
       "      <td>0</td>\n",
       "      <td>0</td>\n",
       "      <td>0</td>\n",
       "      <td>0</td>\n",
       "      <td>0</td>\n",
       "      <td>0</td>\n",
       "      <td>0</td>\n",
       "      <td>...</td>\n",
       "      <td>0</td>\n",
       "      <td>0</td>\n",
       "      <td>1</td>\n",
       "      <td>0</td>\n",
       "      <td>0</td>\n",
       "      <td>0</td>\n",
       "      <td>0</td>\n",
       "      <td>0</td>\n",
       "      <td>1</td>\n",
       "      <td>0</td>\n",
       "    </tr>\n",
       "    <tr>\n",
       "      <th>3</th>\n",
       "      <td>0</td>\n",
       "      <td>0</td>\n",
       "      <td>0</td>\n",
       "      <td>1</td>\n",
       "      <td>0</td>\n",
       "      <td>0</td>\n",
       "      <td>0</td>\n",
       "      <td>0</td>\n",
       "      <td>0</td>\n",
       "      <td>0</td>\n",
       "      <td>...</td>\n",
       "      <td>0</td>\n",
       "      <td>0</td>\n",
       "      <td>0</td>\n",
       "      <td>0</td>\n",
       "      <td>1</td>\n",
       "      <td>0</td>\n",
       "      <td>0</td>\n",
       "      <td>0</td>\n",
       "      <td>0</td>\n",
       "      <td>1</td>\n",
       "    </tr>\n",
       "    <tr>\n",
       "      <th>4</th>\n",
       "      <td>0</td>\n",
       "      <td>0</td>\n",
       "      <td>0</td>\n",
       "      <td>0</td>\n",
       "      <td>0</td>\n",
       "      <td>0</td>\n",
       "      <td>0</td>\n",
       "      <td>0</td>\n",
       "      <td>0</td>\n",
       "      <td>1</td>\n",
       "      <td>...</td>\n",
       "      <td>0</td>\n",
       "      <td>0</td>\n",
       "      <td>1</td>\n",
       "      <td>0</td>\n",
       "      <td>0</td>\n",
       "      <td>0</td>\n",
       "      <td>1</td>\n",
       "      <td>0</td>\n",
       "      <td>0</td>\n",
       "      <td>0</td>\n",
       "    </tr>\n",
       "  </tbody>\n",
       "</table>\n",
       "<p>5 rows × 120 columns</p>\n",
       "</div>"
      ],
      "text/plain": [
       "   REGION_CARIBBEAN  REGION_EAST AFRICA  REGION_EUROPE  \\\n",
       "0                 0                   0              0   \n",
       "1                 0                   0              0   \n",
       "2                 0                   0              0   \n",
       "3                 0                   0              0   \n",
       "4                 0                   0              0   \n",
       "\n",
       "   REGION_HORN OF AFRICA/ GULF OF ADEN  REGION_MIDDLE EAST  \\\n",
       "0                                    0                   0   \n",
       "1                                    0                   0   \n",
       "2                                    0                   0   \n",
       "3                                    1                   0   \n",
       "4                                    0                   0   \n",
       "\n",
       "   REGION_NORTH AFRICA  REGION_NORTH AMERICA  REGION_NORTH EAST ASIA  \\\n",
       "0                    0                     0                       0   \n",
       "1                    0                     0                       0   \n",
       "2                    0                     0                       0   \n",
       "3                    0                     0                       0   \n",
       "4                    0                     0                       0   \n",
       "\n",
       "   REGION_PACIFIC  REGION_SOUTH AMERICA  ...  VESSEL TYPE_WOOD CHIPS CARRIER  \\\n",
       "0               0                     0  ...                               0   \n",
       "1               0                     0  ...                               0   \n",
       "2               0                     0  ...                               0   \n",
       "3               0                     0  ...                               0   \n",
       "4               0                     1  ...                               0   \n",
       "\n",
       "   VESSEL TYPE_YACHT  VESSEL ACTIVITY LOCATION_ANCHORAGE  \\\n",
       "0                  0                                   0   \n",
       "1                  0                                   0   \n",
       "2                  0                                   1   \n",
       "3                  0                                   0   \n",
       "4                  0                                   1   \n",
       "\n",
       "   VESSEL ACTIVITY LOCATION_BERTH  VESSEL ACTIVITY LOCATION_OFF SHORE  \\\n",
       "0                               0                                   1   \n",
       "1                               0                                   1   \n",
       "2                               0                                   0   \n",
       "3                               0                                   1   \n",
       "4                               0                                   0   \n",
       "\n",
       "   TIME OF DAY_AFTERNOON  TIME OF DAY_EVENING  TIME OF DAY_MORNING  \\\n",
       "0                      0                    1                    0   \n",
       "1                      0                    1                    0   \n",
       "2                      0                    0                    0   \n",
       "3                      0                    0                    0   \n",
       "4                      0                    1                    0   \n",
       "\n",
       "   TIME OF DAY_NIGHT  TIME OF DAY_UNKNOWN  \n",
       "0                  0                    0  \n",
       "1                  0                    0  \n",
       "2                  1                    0  \n",
       "3                  0                    1  \n",
       "4                  0                    0  \n",
       "\n",
       "[5 rows x 120 columns]"
      ]
     },
     "execution_count": 13,
     "metadata": {},
     "output_type": "execute_result"
    }
   ],
   "source": [
    "X.head()"
   ]
  },
  {
   "cell_type": "code",
   "execution_count": 14,
   "metadata": {},
   "outputs": [
    {
     "data": {
      "text/plain": [
       "0    0\n",
       "1    1\n",
       "2    0\n",
       "3    0\n",
       "4    1\n",
       "Name: ATTACK SUCCESS, dtype: int64"
      ]
     },
     "execution_count": 14,
     "metadata": {},
     "output_type": "execute_result"
    }
   ],
   "source": [
    "y.head()"
   ]
  },
  {
   "cell_type": "code",
   "execution_count": 15,
   "metadata": {},
   "outputs": [],
   "source": [
    "# Split data train and test\n",
    "X_train, X_test, y_train, y_test = train_test_split(X, y, test_size=0.25, random_state=37)\n"
   ]
  },
  {
   "cell_type": "markdown",
   "metadata": {},
   "source": [
    "## KNN Model"
   ]
  },
  {
   "cell_type": "code",
   "execution_count": 16,
   "metadata": {},
   "outputs": [
    {
     "data": {
      "text/plain": [
       "1    500\n",
       "0    302\n",
       "Name: ATTACK SUCCESS, dtype: int64"
      ]
     },
     "execution_count": 16,
     "metadata": {},
     "output_type": "execute_result"
    }
   ],
   "source": [
    "# Checking distribution\n",
    "pirate['ATTACK SUCCESS'].value_counts()\n"
   ]
  },
  {
   "cell_type": "code",
   "execution_count": 17,
   "metadata": {},
   "outputs": [],
   "source": [
    "# Build KNN model\n",
    "knn = KNeighborsClassifier(n_neighbors=10)\n"
   ]
  },
  {
   "cell_type": "code",
   "execution_count": 18,
   "metadata": {},
   "outputs": [
    {
     "data": {
      "image/png": "[encoded data removed]",
      "text/plain": [
       "<Figure size 432x288 with 1 Axes>"
      ]
     },
     "metadata": {
      "needs_background": "light"
     },
     "output_type": "display_data"
    }
   ],
   "source": [
    "# Choose K between 1 to 40 to analyze score outcomes\n",
    "k_range = range(1, 40)\n",
    "k_scores = []\n",
    "\n",
    "# Use iteration to caclulate different K in models, then return the average accuracy based on the CV\n",
    "for k in k_range:\n",
    "    knn = KNeighborsClassifier(n_neighbors=k)\n",
    "    scores_knn = cross_val_score(knn, X_train, y_train, cv=5, scoring='roc_auc')\n",
    "    k_scores.append(scores_knn.mean())\n",
    "\n",
    "# Plot\n",
    "plt.plot(k_range, k_scores)\n",
    "plt.xlabel('Value of K for KNN')\n",
    "plt.ylabel('Cross-Validated ROC_AUC')\n",
    "plt.show()\n"
   ]
  },
  {
   "cell_type": "code",
   "execution_count": 19,
   "metadata": {},
   "outputs": [
    {
     "data": {
      "text/plain": [
       "9"
      ]
     },
     "execution_count": 19,
     "metadata": {},
     "output_type": "execute_result"
    }
   ],
   "source": [
    "index_max = np.argmax(k_scores)\n",
    "index_max\n"
   ]
  },
  {
   "cell_type": "code",
   "execution_count": 20,
   "metadata": {},
   "outputs": [],
   "source": [
    "# 10 (9 index) is then the best K which gives a value of 0.6177 for ROC_AUC\n"
   ]
  },
  {
   "cell_type": "markdown",
   "metadata": {},
   "source": [
    "## Naive Bayes Model"
   ]
  },
  {
   "cell_type": "code",
   "execution_count": 21,
   "metadata": {},
   "outputs": [
    {
     "name": "stdout",
     "output_type": "stream",
     "text": [
      "0.6226423146119522\n",
      "0.6251602089334782\n",
      "0.6277500264574637\n",
      "0.6106977201372294\n",
      "0.5771599650795728\n"
     ]
    },
    {
     "data": {
      "image/png": "[encoded data removed]",
      "text/plain": [
       "<Figure size 432x288 with 1 Axes>"
      ]
     },
     "metadata": {
      "needs_background": "light"
     },
     "output_type": "display_data"
    }
   ],
   "source": [
    "alpha = [0.01, 0.1, 1, 10, 100]\n",
    "n_scores = []\n",
    "\n",
    "for a in alpha:\n",
    "    bnl = BernoulliNB(a)\n",
    "    scores_nb = cross_val_score(bnl, X_train, y_train, cv=5, scoring='roc_auc')\n",
    "    n_scores.append(scores_nb.mean())\n",
    "    print(np.mean(scores_nb))\n",
    "\n",
    "# Plot\n",
    "plt.semilogx(alpha, n_scores)\n",
    "plt.xlabel('Value of alpha for Naive Bayes')\n",
    "plt.ylabel('Cross-Validated ROC_AUC')\n",
    "plt.show()\n"
   ]
  },
  {
   "cell_type": "code",
   "execution_count": 22,
   "metadata": {},
   "outputs": [
    {
     "data": {
      "text/plain": [
       "0.6277500264574637"
      ]
     },
     "execution_count": 22,
     "metadata": {},
     "output_type": "execute_result"
    }
   ],
   "source": [
    "max(n_scores)\n"
   ]
  },
  {
   "cell_type": "code",
   "execution_count": 23,
   "metadata": {},
   "outputs": [],
   "source": [
    "# 0.1 alpha is then the best alpha which gives a value of 0.6277 for ROC_AUC\n"
   ]
  },
  {
   "cell_type": "markdown",
   "metadata": {},
   "source": [
    "## SVM Model"
   ]
  },
  {
   "cell_type": "code",
   "execution_count": 31,
   "metadata": {},
   "outputs": [
    {
     "name": "stdout",
     "output_type": "stream",
     "text": [
      "0.6179649946348715\n",
      "0.623646602262293\n",
      "0.6350006901202521\n",
      "0.6519943447813381\n",
      "0.6393619247470956\n",
      "0.6409145411933291\n"
     ]
    },
    {
     "data": {
      "image/png": "[encoded data removed]",
      "text/plain": [
       "<Figure size 432x288 with 1 Axes>"
      ]
     },
     "metadata": {
      "needs_background": "light"
     },
     "output_type": "display_data"
    }
   ],
   "source": [
    "alpha = [0.001, 0.1, 1, 10, 100, 1000]\n",
    "s_scores = []\n",
    "\n",
    "for a in alpha:\n",
    "    svm = SVC(gamma='scale', C=a, probability=True)\n",
    "    scores_svm = cross_val_score(svm, X_train, y_train, cv=5, scoring='roc_auc')\n",
    "    s_scores.append(scores_svm.mean())\n",
    "    print(np.mean(scores_svm))\n",
    "\n",
    "# Plot\n",
    "plt.semilogx(alpha, s_scores)\n",
    "plt.xlabel('Value of alpha for SVM')\n",
    "plt.ylabel('Cross-Validated ROC_AUC')\n",
    "plt.show()\n"
   ]
  },
  {
   "cell_type": "code",
   "execution_count": 32,
   "metadata": {},
   "outputs": [
    {
     "data": {
      "text/plain": [
       "0.6519943447813381"
      ]
     },
     "execution_count": 32,
     "metadata": {},
     "output_type": "execute_result"
    }
   ],
   "source": [
    "max(s_scores)\n"
   ]
  },
  {
   "cell_type": "code",
   "execution_count": 33,
   "metadata": {},
   "outputs": [],
   "source": [
    "# 10 alpha is then the best alpha which gives a value of 0.6519 for ROC_AUC\n"
   ]
  },
  {
   "cell_type": "markdown",
   "metadata": {},
   "source": [
    "### Best overall model"
   ]
  },
  {
   "cell_type": "code",
   "execution_count": 34,
   "metadata": {},
   "outputs": [],
   "source": [
    "# Applying best model\n",
    "best_model = SVC(gamma='scale', C=10, probability=True)\n",
    "train = best_model.fit(X_train, np.ravel(y_train))\n"
   ]
  },
  {
   "cell_type": "code",
   "execution_count": 35,
   "metadata": {},
   "outputs": [],
   "source": [
    "# Predictions\n",
    "predictions_test = best_model.predict_proba(X_test)[:, 1]\n",
    "fpr_test, tpr_test, _ = metrics.roc_curve(y_test, predictions_test)\n"
   ]
  },
  {
   "cell_type": "code",
   "execution_count": 36,
   "metadata": {},
   "outputs": [
    {
     "data": {
      "image/png": "[encoded data removed]",
      "text/plain": [
       "<Figure size 432x288 with 1 Axes>"
      ]
     },
     "metadata": {
      "needs_background": "light"
     },
     "output_type": "display_data"
    }
   ],
   "source": [
    "# Plotting\n",
    "plt.plot(fpr_test, tpr_test, 'r', linewidth=2, markersize=4)\n",
    "plt.xlabel('False Positive Rate')\n",
    "plt.ylabel('True Positive Rate')\n",
    "plt.ylim([0.0, 1.05])\n",
    "plt.xlim([0.0, 1.0])\n",
    "plt.title('ROC curve')\n",
    "plt.show()\n"
   ]
  },
  {
   "cell_type": "code",
   "execution_count": 37,
   "metadata": {},
   "outputs": [
    {
     "data": {
      "text/plain": [
       "0.6231335090030742"
      ]
     },
     "execution_count": 37,
     "metadata": {},
     "output_type": "execute_result"
    }
   ],
   "source": [
    "metrics.roc_auc_score(y_test, predictions_test)\n"
   ]
  }
 ],
 "metadata": {
  "kernelspec": {
   "display_name": "Python 3",
   "language": "python",
   "name": "python3"
  },
  "language_info": {
   "codemirror_mode": {
    "name": "ipython",
    "version": 3
   },
   "file_extension": ".py",
   "mimetype": "text/x-python",
   "name": "python",
   "nbconvert_exporter": "python",
   "pygments_lexer": "ipython3",
   "version": "3.6.8"
  }
 },
 "nbformat": 4,
 "nbformat_minor": 2
}
