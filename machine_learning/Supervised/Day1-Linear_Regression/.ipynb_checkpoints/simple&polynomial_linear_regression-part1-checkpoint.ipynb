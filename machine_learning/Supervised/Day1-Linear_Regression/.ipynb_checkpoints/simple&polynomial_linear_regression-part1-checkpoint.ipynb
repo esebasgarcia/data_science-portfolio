{
 "cells": [
  {
   "cell_type": "markdown",
   "metadata": {},
   "source": [
    "# Sebastian Garcia\n",
    "# Simple/Polynomial Linear Regression - Part 1\n",
    "\n",
    "Run a simple linear regression performing train-test split on salary data file and plot the line plot of predicted vs the values from the test datasets."
   ]
  },
  {
   "cell_type": "code",
   "execution_count": 1,
   "metadata": {},
   "outputs": [],
   "source": [
    "import numpy as np\n",
    "import pandas as pd\n",
    "import matplotlib.pyplot as plt\n",
    "%matplotlib inline\n",
    "\n",
    "from sklearn.linear_model import LinearRegression\n",
    "from sklearn.preprocessing import PolynomialFeatures\n",
    "from sklearn import linear_model\n",
    "from sklearn.model_selection import train_test_split\n",
    "from sklearn.model_selection import KFold\n",
    "from sklearn.preprocessing import StandardScaler\n",
    "\n",
    "from sklearn.model_selection import cross_val_score\n",
    "from sklearn import metrics\n"
   ]
  },
  {
   "cell_type": "markdown",
   "metadata": {},
   "source": [
    "## Data Preprocess"
   ]
  },
  {
   "cell_type": "code",
   "execution_count": 2,
   "metadata": {},
   "outputs": [],
   "source": [
    "data = pd.read_csv('Salary_Data.csv')\n"
   ]
  },
  {
   "cell_type": "code",
   "execution_count": 3,
   "metadata": {},
   "outputs": [
    {
     "data": {
      "text/html": [
       "<div>\n",
       "<style scoped>\n",
       "    .dataframe tbody tr th:only-of-type {\n",
       "        vertical-align: middle;\n",
       "    }\n",
       "\n",
       "    .dataframe tbody tr th {\n",
       "        vertical-align: top;\n",
       "    }\n",
       "\n",
       "    .dataframe thead th {\n",
       "        text-align: right;\n",
       "    }\n",
       "</style>\n",
       "<table border=\"1\" class=\"dataframe\">\n",
       "  <thead>\n",
       "    <tr style=\"text-align: right;\">\n",
       "      <th></th>\n",
       "      <th>YearsExperience</th>\n",
       "      <th>Salary</th>\n",
       "    </tr>\n",
       "  </thead>\n",
       "  <tbody>\n",
       "    <tr>\n",
       "      <th>0</th>\n",
       "      <td>1.1</td>\n",
       "      <td>39343.0</td>\n",
       "    </tr>\n",
       "    <tr>\n",
       "      <th>1</th>\n",
       "      <td>1.3</td>\n",
       "      <td>46205.0</td>\n",
       "    </tr>\n",
       "    <tr>\n",
       "      <th>2</th>\n",
       "      <td>1.5</td>\n",
       "      <td>37731.0</td>\n",
       "    </tr>\n",
       "    <tr>\n",
       "      <th>3</th>\n",
       "      <td>2.0</td>\n",
       "      <td>43525.0</td>\n",
       "    </tr>\n",
       "    <tr>\n",
       "      <th>4</th>\n",
       "      <td>2.2</td>\n",
       "      <td>39891.0</td>\n",
       "    </tr>\n",
       "  </tbody>\n",
       "</table>\n",
       "</div>"
      ],
      "text/plain": [
       "   YearsExperience   Salary\n",
       "0              1.1  39343.0\n",
       "1              1.3  46205.0\n",
       "2              1.5  37731.0\n",
       "3              2.0  43525.0\n",
       "4              2.2  39891.0"
      ]
     },
     "execution_count": 3,
     "metadata": {},
     "output_type": "execute_result"
    }
   ],
   "source": [
    "data.head()\n"
   ]
  },
  {
   "cell_type": "code",
   "execution_count": 4,
   "metadata": {},
   "outputs": [],
   "source": [
    "# Select Years of Experience column as X (independent variable) and Salary column as Y (dependent variable)\n",
    "X = data.iloc[:,:-1].values\n",
    "y = data.iloc[:,1].values\n"
   ]
  },
  {
   "cell_type": "code",
   "execution_count": 5,
   "metadata": {},
   "outputs": [
    {
     "name": "stdout",
     "output_type": "stream",
     "text": [
      "Training set has 20 samples.\n",
      "Testing set has 10 samples.\n"
     ]
    }
   ],
   "source": [
    "# Split the data as in 67/33\n",
    "X_train, X_test, y_train, y_test = train_test_split(X, y, test_size=.33, random_state=0)\n",
    "print(\"Training set has {} samples.\".format(X_train.shape[0]))\n",
    "print(\"Testing set has {} samples.\".format(X_test.shape[0]))\n"
   ]
  },
  {
   "cell_type": "markdown",
   "metadata": {},
   "source": [
    "# Fitting Model"
   ]
  },
  {
   "cell_type": "code",
   "execution_count": 6,
   "metadata": {},
   "outputs": [
    {
     "name": "stdout",
     "output_type": "stream",
     "text": [
      "LinearRegression(copy_X=True, fit_intercept=True, n_jobs=None,\n",
      "         normalize=False)\n"
     ]
    }
   ],
   "source": [
    "# We allways fit the model on the train set\n",
    "model = LinearRegression()\n",
    "model.fit(X_train,y_train)\n",
    "print(model)\n"
   ]
  },
  {
   "cell_type": "code",
   "execution_count": 7,
   "metadata": {},
   "outputs": [
    {
     "name": "stdout",
     "output_type": "stream",
     "text": [
      "26816.192244 [ 9345.94244312]\n"
     ]
    }
   ],
   "source": [
    "print(model.intercept_,model.coef_)\n"
   ]
  },
  {
   "cell_type": "markdown",
   "metadata": {},
   "source": [
    "# Predicting"
   ]
  },
  {
   "cell_type": "code",
   "execution_count": 8,
   "metadata": {},
   "outputs": [],
   "source": [
    "predictions = model.predict(X_test)\n"
   ]
  },
  {
   "cell_type": "code",
   "execution_count": 9,
   "metadata": {},
   "outputs": [
    {
     "data": {
      "image/png": "[encoded data removed]",
      "text/plain": [
       "<Figure size 432x288 with 1 Axes>"
      ]
     },
     "metadata": {
      "needs_background": "light"
     },
     "output_type": "display_data"
    }
   ],
   "source": [
    "plt.scatter(y_test,predictions,color='red')\n",
    "\n",
    "plt.xlabel('True Values')\n",
    "plt.ylabel('Predictions')\n",
    "None\n"
   ]
  },
  {
   "cell_type": "markdown",
   "metadata": {},
   "source": [
    "For Linear Regression in scikit-learn, the method 'score' returns the coefficient of determination R^2 of the prediction: https://scikit-learn.org/stable/modules/generated/sklearn.linear_model.LinearRegression.html"
   ]
  },
  {
   "cell_type": "code",
   "execution_count": 10,
   "metadata": {},
   "outputs": [
    {
     "data": {
      "text/plain": [
       "0.97491544077083525"
      ]
     },
     "execution_count": 10,
     "metadata": {},
     "output_type": "execute_result"
    }
   ],
   "source": [
    "model.score(X_test, y_test)\n"
   ]
  },
  {
   "cell_type": "markdown",
   "metadata": {},
   "source": [
    "# Evaluating the Model"
   ]
  },
  {
   "cell_type": "markdown",
   "metadata": {},
   "source": [
    "We might want to look at other metrics apart from the 'score', therefore, we can compute them using the metrics package from sklearn "
   ]
  },
  {
   "cell_type": "code",
   "execution_count": 11,
   "metadata": {},
   "outputs": [
    {
     "name": "stdout",
     "output_type": "stream",
     "text": [
      "MAE 3426.42693743\n",
      "MSE 21026037.3295\n",
      "RMSE 4585.41572047\n",
      "Explained Var Score 0.977300427611\n"
     ]
    }
   ],
   "source": [
    "print('MAE',metrics.mean_absolute_error(y_test,predictions))\n",
    "print('MSE',metrics.mean_squared_error(y_test,predictions))\n",
    "print('RMSE',np.sqrt(metrics.mean_squared_error(y_test,predictions)))\n",
    "print('Explained Var Score',metrics.explained_variance_score(y_test,predictions))\n"
   ]
  },
  {
   "cell_type": "markdown",
   "metadata": {},
   "source": [
    "# Visualising Model"
   ]
  },
  {
   "cell_type": "code",
   "execution_count": 12,
   "metadata": {},
   "outputs": [
    {
     "data": {
      "image/png": "[encoded data removed]",
      "text/plain": [
       "<Figure size 432x288 with 1 Axes>"
      ]
     },
     "metadata": {
      "needs_background": "light"
     },
     "output_type": "display_data"
    }
   ],
   "source": [
    "plt.scatter(X_train,y_train, color = 'red')\n",
    "plt.scatter(X_test,y_test, color = 'green')\n",
    "plt.plot(X_train, model.predict(X_train), color = 'blue')\n",
    "plt.title('Salary vs Experience (Training & Test set)')\n",
    "plt.xlabel('Years of Experience')\n",
    "plt.ylabel('Salary')\n",
    "plt.show()\n"
   ]
  },
  {
   "cell_type": "code",
   "execution_count": 13,
   "metadata": {},
   "outputs": [
    {
     "data": {
      "image/png": "[encoded data removed]",
      "text/plain": [
       "<Figure size 432x288 with 1 Axes>"
      ]
     },
     "metadata": {
      "needs_background": "light"
     },
     "output_type": "display_data"
    }
   ],
   "source": [
    "plt.scatter(X_train,y_train, color = 'red')\n",
    "plt.plot(X_train, model.predict(X_train), color = 'blue')\n",
    "plt.title('Salary vs Experience (Training set)')\n",
    "plt.xlabel('Years of Experience')\n",
    "plt.ylabel('Salary')\n",
    "plt.show()\n"
   ]
  },
  {
   "cell_type": "code",
   "execution_count": 14,
   "metadata": {},
   "outputs": [
    {
     "data": {
      "image/png": "[encoded data removed]",
      "text/plain": [
       "<Figure size 432x288 with 1 Axes>"
      ]
     },
     "metadata": {
      "needs_background": "light"
     },
     "output_type": "display_data"
    }
   ],
   "source": [
    "plt.scatter(X_test,y_test, color = 'green')\n",
    "plt.plot(X_train, model.predict(X_train), color = 'blue') # Fit compared with Training set\n",
    "plt.title('Salary vs Experience (Test set)')\n",
    "plt.xlabel('Years of Experience')\n",
    "plt.ylabel('Salary')\n",
    "plt.show()\n"
   ]
  },
  {
   "cell_type": "markdown",
   "metadata": {},
   "source": [
    "# Polynomial Regression\n",
    "Perform a polynomial regression of salary feature with degrees 2, 3 and 4, and compare the results."
   ]
  },
  {
   "cell_type": "code",
   "execution_count": 15,
   "metadata": {},
   "outputs": [],
   "source": [
    "X = data.iloc[:,:-1].values\n",
    "y = data.iloc[:,1].values\n"
   ]
  },
  {
   "cell_type": "code",
   "execution_count": 16,
   "metadata": {},
   "outputs": [
    {
     "name": "stdout",
     "output_type": "stream",
     "text": [
      "Training set has 20 samples.\n",
      "Testing set has 10 samples.\n"
     ]
    }
   ],
   "source": [
    "X_train, X_test, y_train, y_test = train_test_split(X, y, test_size=.33, random_state=0)\n",
    "print(\"Training set has {} samples.\".format(X_train.shape[0]))\n",
    "print(\"Testing set has {} samples.\".format(X_test.shape[0]))\n"
   ]
  },
  {
   "cell_type": "code",
   "execution_count": 17,
   "metadata": {},
   "outputs": [
    {
     "data": {
      "text/plain": [
       "LinearRegression(copy_X=True, fit_intercept=True, n_jobs=None,\n",
       "         normalize=False)"
      ]
     },
     "execution_count": 17,
     "metadata": {},
     "output_type": "execute_result"
    }
   ],
   "source": [
    "lin_model = LinearRegression(fit_intercept=True)\n",
    "lin_model.fit(X_train,y_train)\n"
   ]
  },
  {
   "cell_type": "code",
   "execution_count": 18,
   "metadata": {},
   "outputs": [],
   "source": [
    "#Transform lin model to polynomial matrix (both train and test)\n",
    "#2 Degrees\n",
    "poly_model2 = PolynomialFeatures(degree=2)\n",
    "X_poly2 = poly_model2.fit_transform(X_train)\n",
    "X_poly2_test = poly_model2.transform(X_test)\n",
    "\n",
    "#3 Degrees\n",
    "poly_model3 = PolynomialFeatures(degree=3)\n",
    "X_poly3 = poly_model3.fit_transform(X_train)\n",
    "X_poly3_test = poly_model3.transform(X_test)\n",
    "\n",
    "#4 Degrees\n",
    "poly_model4 = PolynomialFeatures(degree=4)\n",
    "X_poly4 = poly_model4.fit_transform(X_train)\n",
    "X_poly4_test = poly_model4.transform(X_test)\n"
   ]
  },
  {
   "cell_type": "code",
   "execution_count": 19,
   "metadata": {
    "scrolled": true
   },
   "outputs": [
    {
     "name": "stdout",
     "output_type": "stream",
     "text": [
      "[[   1.      2.9     8.41]\n",
      " [   1.      5.1    26.01]\n",
      " [   1.      3.2    10.24]\n",
      " [   1.      4.5    20.25]\n",
      " [   1.      8.2    67.24]\n",
      " [   1.      6.8    46.24]\n",
      " [   1.      1.3     1.69]\n",
      " [   1.     10.5   110.25]\n",
      " [   1.      3.      9.  ]\n",
      " [   1.      2.2     4.84]\n",
      " [   1.      5.9    34.81]\n",
      " [   1.      6.     36.  ]\n",
      " [   1.      3.7    13.69]\n",
      " [   1.      3.2    10.24]\n",
      " [   1.      9.     81.  ]\n",
      " [   1.      2.      4.  ]\n",
      " [   1.      1.1     1.21]\n",
      " [   1.      7.1    50.41]\n",
      " [   1.      4.9    24.01]\n",
      " [   1.      4.     16.  ]]\n",
      "[[  1.00000000e+00   2.90000000e+00   8.41000000e+00   2.43890000e+01]\n",
      " [  1.00000000e+00   5.10000000e+00   2.60100000e+01   1.32651000e+02]\n",
      " [  1.00000000e+00   3.20000000e+00   1.02400000e+01   3.27680000e+01]\n",
      " [  1.00000000e+00   4.50000000e+00   2.02500000e+01   9.11250000e+01]\n",
      " [  1.00000000e+00   8.20000000e+00   6.72400000e+01   5.51368000e+02]\n",
      " [  1.00000000e+00   6.80000000e+00   4.62400000e+01   3.14432000e+02]\n",
      " [  1.00000000e+00   1.30000000e+00   1.69000000e+00   2.19700000e+00]\n",
      " [  1.00000000e+00   1.05000000e+01   1.10250000e+02   1.15762500e+03]\n",
      " [  1.00000000e+00   3.00000000e+00   9.00000000e+00   2.70000000e+01]\n",
      " [  1.00000000e+00   2.20000000e+00   4.84000000e+00   1.06480000e+01]\n",
      " [  1.00000000e+00   5.90000000e+00   3.48100000e+01   2.05379000e+02]\n",
      " [  1.00000000e+00   6.00000000e+00   3.60000000e+01   2.16000000e+02]\n",
      " [  1.00000000e+00   3.70000000e+00   1.36900000e+01   5.06530000e+01]\n",
      " [  1.00000000e+00   3.20000000e+00   1.02400000e+01   3.27680000e+01]\n",
      " [  1.00000000e+00   9.00000000e+00   8.10000000e+01   7.29000000e+02]\n",
      " [  1.00000000e+00   2.00000000e+00   4.00000000e+00   8.00000000e+00]\n",
      " [  1.00000000e+00   1.10000000e+00   1.21000000e+00   1.33100000e+00]\n",
      " [  1.00000000e+00   7.10000000e+00   5.04100000e+01   3.57911000e+02]\n",
      " [  1.00000000e+00   4.90000000e+00   2.40100000e+01   1.17649000e+02]\n",
      " [  1.00000000e+00   4.00000000e+00   1.60000000e+01   6.40000000e+01]]\n",
      "[[  1.00000000e+00   2.90000000e+00   8.41000000e+00   2.43890000e+01\n",
      "    7.07281000e+01]\n",
      " [  1.00000000e+00   5.10000000e+00   2.60100000e+01   1.32651000e+02\n",
      "    6.76520100e+02]\n",
      " [  1.00000000e+00   3.20000000e+00   1.02400000e+01   3.27680000e+01\n",
      "    1.04857600e+02]\n",
      " [  1.00000000e+00   4.50000000e+00   2.02500000e+01   9.11250000e+01\n",
      "    4.10062500e+02]\n",
      " [  1.00000000e+00   8.20000000e+00   6.72400000e+01   5.51368000e+02\n",
      "    4.52121760e+03]\n",
      " [  1.00000000e+00   6.80000000e+00   4.62400000e+01   3.14432000e+02\n",
      "    2.13813760e+03]\n",
      " [  1.00000000e+00   1.30000000e+00   1.69000000e+00   2.19700000e+00\n",
      "    2.85610000e+00]\n",
      " [  1.00000000e+00   1.05000000e+01   1.10250000e+02   1.15762500e+03\n",
      "    1.21550625e+04]\n",
      " [  1.00000000e+00   3.00000000e+00   9.00000000e+00   2.70000000e+01\n",
      "    8.10000000e+01]\n",
      " [  1.00000000e+00   2.20000000e+00   4.84000000e+00   1.06480000e+01\n",
      "    2.34256000e+01]\n",
      " [  1.00000000e+00   5.90000000e+00   3.48100000e+01   2.05379000e+02\n",
      "    1.21173610e+03]\n",
      " [  1.00000000e+00   6.00000000e+00   3.60000000e+01   2.16000000e+02\n",
      "    1.29600000e+03]\n",
      " [  1.00000000e+00   3.70000000e+00   1.36900000e+01   5.06530000e+01\n",
      "    1.87416100e+02]\n",
      " [  1.00000000e+00   3.20000000e+00   1.02400000e+01   3.27680000e+01\n",
      "    1.04857600e+02]\n",
      " [  1.00000000e+00   9.00000000e+00   8.10000000e+01   7.29000000e+02\n",
      "    6.56100000e+03]\n",
      " [  1.00000000e+00   2.00000000e+00   4.00000000e+00   8.00000000e+00\n",
      "    1.60000000e+01]\n",
      " [  1.00000000e+00   1.10000000e+00   1.21000000e+00   1.33100000e+00\n",
      "    1.46410000e+00]\n",
      " [  1.00000000e+00   7.10000000e+00   5.04100000e+01   3.57911000e+02\n",
      "    2.54116810e+03]\n",
      " [  1.00000000e+00   4.90000000e+00   2.40100000e+01   1.17649000e+02\n",
      "    5.76480100e+02]\n",
      " [  1.00000000e+00   4.00000000e+00   1.60000000e+01   6.40000000e+01\n",
      "    2.56000000e+02]]\n"
     ]
    }
   ],
   "source": [
    "#Polynomial Matrices\n",
    "print(X_poly2)\n",
    "print(X_poly3)\n",
    "print(X_poly4)\n"
   ]
  },
  {
   "cell_type": "code",
   "execution_count": 20,
   "metadata": {},
   "outputs": [
    {
     "data": {
      "text/plain": [
       "LinearRegression(copy_X=True, fit_intercept=False, n_jobs=None,\n",
       "         normalize=False)"
      ]
     },
     "execution_count": 20,
     "metadata": {},
     "output_type": "execute_result"
    }
   ],
   "source": [
    "#Create new lin models using Poly Matrix\n",
    "lin_model2 = LinearRegression(fit_intercept=False)\n",
    "lin_model2.fit(X_poly2,y_train)\n",
    "\n",
    "lin_model3 = LinearRegression(fit_intercept=False)\n",
    "lin_model3.fit(X_poly3,y_train)\n",
    "\n",
    "lin_model4 = LinearRegression(fit_intercept=False)\n",
    "lin_model4.fit(X_poly4,y_train)\n"
   ]
  },
  {
   "cell_type": "code",
   "execution_count": 21,
   "metadata": {},
   "outputs": [
    {
     "name": "stdout",
     "output_type": "stream",
     "text": [
      "Intercept 26816.192244\n",
      "Coefficients [ 9345.94244312]\n",
      "0.974915440771\n",
      "MAE 3426.42693743\n",
      "MSE 21026037.3295\n",
      "RMSE 4585.41572047\n",
      "Explained Var Score 0.977300427611\n"
     ]
    },
    {
     "data": {
      "image/png": "[encoded data removed]",
      "text/plain": [
       "<Figure size 432x288 with 1 Axes>"
      ]
     },
     "metadata": {
      "needs_background": "light"
     },
     "output_type": "display_data"
    }
   ],
   "source": [
    "#Visualising Linear Regression\n",
    "plt.scatter(X_train,y_train, color = 'red')\n",
    "plt.scatter(X_test,y_test, color = 'green')\n",
    "plt.plot(X,lin_model.predict(X),color = 'blue')\n",
    "plt.title('Salary or Experience (Linear)')\n",
    "plt.xlabel('Years of Experience')\n",
    "plt.ylabel('Salary')\n",
    "\n",
    "predictions = lin_model.predict(X_test)\n",
    "print('Intercept', lin_model.intercept_)\n",
    "print('Coefficients', lin_model.coef_)\n",
    "print(lin_model.score(X_test, y_test))\n",
    "print('MAE',metrics.mean_absolute_error(y_test,predictions))\n",
    "print('MSE',metrics.mean_squared_error(y_test,predictions))\n",
    "print('RMSE',np.sqrt(metrics.mean_squared_error(y_test,predictions)))\n",
    "print('Explained Var Score',metrics.explained_variance_score(y_test,predictions))\n",
    "plt.show()\n"
   ]
  },
  {
   "cell_type": "code",
   "execution_count": 22,
   "metadata": {},
   "outputs": [
    {
     "name": "stdout",
     "output_type": "stream",
     "text": [
      "Intercept 0.0\n",
      "Coefficients [ 28150.60458913   8712.28148584     57.78239507]\n",
      "0.974279246179\n",
      "MAE 3562.93903553\n",
      "MSE 21559299.6888\n",
      "RMSE 4643.19929454\n",
      "Explained Var Score 0.97718247099\n"
     ]
    },
    {
     "data": {
      "image/png": "[encoded data removed]",
      "text/plain": [
       "<Figure size 432x288 with 1 Axes>"
      ]
     },
     "metadata": {
      "needs_background": "light"
     },
     "output_type": "display_data"
    }
   ],
   "source": [
    "#Visualising Polynomial Regression 2 Deg\n",
    "plt.scatter(X_train,y_train, color = 'red')\n",
    "plt.scatter(X_test,y_test, color = 'green')\n",
    "plt.plot(X,lin_model2.predict(poly_model2.fit_transform(X)),color = 'blue')\n",
    "plt.title('Salary or Experience (Polynomial) - Deg 2')\n",
    "plt.xlabel('Years of Experience')\n",
    "plt.ylabel('Salary')\n",
    "\n",
    "predictions_2 = lin_model2.predict(X_poly2_test)\n",
    "print('Intercept', lin_model2.intercept_)\n",
    "print('Coefficients', lin_model2.coef_)\n",
    "print(lin_model2.score(X_poly2_test, y_test))\n",
    "print('MAE',metrics.mean_absolute_error(y_test,predictions_2))\n",
    "print('MSE',metrics.mean_squared_error(y_test,predictions_2))\n",
    "print('RMSE',np.sqrt(metrics.mean_squared_error(y_test,predictions_2)))\n",
    "print('Explained Var Score',metrics.explained_variance_score(y_test,predictions_2))\n",
    "plt.show()\n"
   ]
  },
  {
   "cell_type": "code",
   "execution_count": 23,
   "metadata": {},
   "outputs": [
    {
     "name": "stdout",
     "output_type": "stream",
     "text": [
      "Intercept 0.0\n",
      "Coefficients [ 42060.48813548  -2343.14885868   2372.33722618   -136.77910017]\n",
      "0.97644486013\n",
      "MAE 3884.85255662\n",
      "MSE 19744068.2809\n",
      "RMSE 4443.429788\n"
     ]
    },
    {
     "data": {
      "image/png": "[encoded data removed]",
      "text/plain": [
       "<Figure size 432x288 with 1 Axes>"
      ]
     },
     "metadata": {
      "needs_background": "light"
     },
     "output_type": "display_data"
    }
   ],
   "source": [
    "#Visualising Polynomial Regression 3 Deg\n",
    "plt.scatter(X_train,y_train, color = 'red')\n",
    "plt.scatter(X_test,y_test, color = 'green')\n",
    "plt.plot(X,lin_model3.predict(poly_model3.fit_transform(X)),color = 'blue')\n",
    "plt.title('Salary or Experience (Polynomial) - Deg 3')\n",
    "plt.xlabel('Years of Experience')\n",
    "plt.ylabel('Salary')\n",
    "\n",
    "predictions_3 = lin_model3.predict(X_poly3_test)\n",
    "print('Intercept', lin_model3.intercept_)\n",
    "print('Coefficients', lin_model3.coef_)\n",
    "print(lin_model3.score(X_poly3_test, y_test))\n",
    "print('MAE',metrics.mean_absolute_error(y_test,predictions_3))\n",
    "print('MSE',metrics.mean_squared_error(y_test,predictions_3))\n",
    "print('RMSE',np.sqrt(metrics.mean_squared_error(y_test,predictions_3)))\n",
    "plt.show()\n"
   ]
  },
  {
   "cell_type": "code",
   "execution_count": 24,
   "metadata": {},
   "outputs": [
    {
     "name": "stdout",
     "output_type": "stream",
     "text": [
      "Intercept 0.0\n",
      "Coefficients [  3.69644593e+04   3.55323371e+03   3.10709228e+02   1.36612121e+02\n",
      "  -1.20714280e+01]\n",
      "0.973594752738\n",
      "MAE 4214.72620661\n",
      "MSE 22133046.4509\n",
      "RMSE 4704.57718089\n",
      "Explained Var Score 0.977054114455\n"
     ]
    },
    {
     "data": {
      "image/png": "[encoded data removed]",
      "text/plain": [
       "<Figure size 432x288 with 1 Axes>"
      ]
     },
     "metadata": {
      "needs_background": "light"
     },
     "output_type": "display_data"
    }
   ],
   "source": [
    "#Visualising Polynomial Regression 4 Deg\n",
    "plt.scatter(X_train,y_train, color = 'red')\n",
    "plt.scatter(X_test,y_test, color = 'green')\n",
    "plt.plot(X,lin_model4.predict(poly_model4.fit_transform(X)),color = 'blue')\n",
    "plt.title('Salary or Experience (Polynomial) - Deg 4')\n",
    "plt.xlabel('Years of Experience')\n",
    "plt.ylabel('Salary')\n",
    "\n",
    "predictions_4 = lin_model4.predict(X_poly4_test)\n",
    "print('Intercept', lin_model4.intercept_)\n",
    "print('Coefficients', lin_model4.coef_)\n",
    "print(lin_model4.score(X_poly4_test, y_test))\n",
    "print('MAE',metrics.mean_absolute_error(y_test,predictions_4))\n",
    "print('MSE',metrics.mean_squared_error(y_test,predictions_4))\n",
    "print('RMSE',np.sqrt(metrics.mean_squared_error(y_test,predictions_4)))\n",
    "print('Explained Var Score',metrics.explained_variance_score(y_test,predictions_4))\n",
    "plt.show()\n"
   ]
  },
  {
   "cell_type": "code",
   "execution_count": 25,
   "metadata": {
    "scrolled": true
   },
   "outputs": [
    {
     "name": "stdout",
     "output_type": "stream",
     "text": [
      "[ 82891.84690277]\n",
      "[ 82504.45972659]\n",
      "[ 83861.44948828]\n",
      "[ 83333.04134851]\n"
     ]
    }
   ],
   "source": [
    "# Predict for 6 years of experience using all the models\n",
    "# need to reshape into shape (1,1) or will break\n",
    "\n",
    "print(lin_model.predict(np.array([6]).reshape(1,1))) #Linear regression\n",
    "print(lin_model2.predict(poly_model2.fit_transform(np.array([6]).reshape(1,1)))) #Poly - Deg 2\n",
    "print(lin_model3.predict(poly_model3.fit_transform(np.array([6]).reshape(1,1)))) #Poly - Deg 3\n",
    "print(lin_model4.predict(poly_model4.fit_transform(np.array([6]).reshape(1,1)))) #Poly - Deg 4\n"
   ]
  },
  {
   "cell_type": "markdown",
   "metadata": {},
   "source": [
    "## Which one of the 4 models will you use and why?\n",
    "The best fit is the one with the lowest test error, but in this case the predictions are quite similar so I will choose always the one with the LESS complexity --> DEGREES = 3!!"
   ]
  }
 ],
 "metadata": {
  "kernelspec": {
   "display_name": "Python 3",
   "language": "python",
   "name": "python3"
  },
  "language_info": {
   "codemirror_mode": {
    "name": "ipython",
    "version": 3
   },
   "file_extension": ".py",
   "mimetype": "text/x-python",
   "name": "python",
   "nbconvert_exporter": "python",
   "pygments_lexer": "ipython3",
   "version": "3.6.8"
  }
 },
 "nbformat": 4,
 "nbformat_minor": 2
}
