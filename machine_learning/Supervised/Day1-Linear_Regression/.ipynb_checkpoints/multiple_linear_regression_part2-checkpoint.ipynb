{
 "cells": [
  {
   "cell_type": "markdown",
   "metadata": {},
   "source": [
    "# Sebastian Garcia\n",
    "# Multiple Linear Regression - Part 2\n",
    "\n",
    "Perform multiple regression using the wine dataset with the goal to predict alcohol level in a wine."
   ]
  },
  {
   "cell_type": "code",
   "execution_count": 1,
   "metadata": {
    "ExecuteTime": {
     "end_time": "2018-12-11T16:17:31.686406Z",
     "start_time": "2018-12-11T16:17:29.549208Z"
    }
   },
   "outputs": [],
   "source": [
    "import numpy as np\n",
    "import pandas as pd\n",
    "import matplotlib.pyplot as plt\n",
    "import seaborn as sns\n",
    "%matplotlib inline\n",
    "\n",
    "from sklearn.linear_model import LinearRegression\n",
    "from sklearn import linear_model\n",
    "from sklearn.model_selection import train_test_split\n",
    "from sklearn.model_selection import KFold\n",
    "from sklearn.model_selection import cross_val_score, cross_val_predict\n",
    "from sklearn.preprocessing import StandardScaler\n",
    "\n",
    "from sklearn import metrics\n"
   ]
  },
  {
   "cell_type": "markdown",
   "metadata": {},
   "source": [
    "## Data Preprocess"
   ]
  },
  {
   "cell_type": "code",
   "execution_count": 2,
   "metadata": {
    "ExecuteTime": {
     "end_time": "2018-12-11T16:17:31.714564Z",
     "start_time": "2018-12-11T16:17:31.689640Z"
    }
   },
   "outputs": [],
   "source": [
    "data = pd.read_csv('winequality-white.csv',sep=';')\n"
   ]
  },
  {
   "cell_type": "code",
   "execution_count": 3,
   "metadata": {
    "ExecuteTime": {
     "end_time": "2018-12-11T16:17:31.751765Z",
     "start_time": "2018-12-11T16:17:31.719044Z"
    }
   },
   "outputs": [
    {
     "data": {
      "text/html": [
       "<div>\n",
       "<style scoped>\n",
       "    .dataframe tbody tr th:only-of-type {\n",
       "        vertical-align: middle;\n",
       "    }\n",
       "\n",
       "    .dataframe tbody tr th {\n",
       "        vertical-align: top;\n",
       "    }\n",
       "\n",
       "    .dataframe thead th {\n",
       "        text-align: right;\n",
       "    }\n",
       "</style>\n",
       "<table border=\"1\" class=\"dataframe\">\n",
       "  <thead>\n",
       "    <tr style=\"text-align: right;\">\n",
       "      <th></th>\n",
       "      <th>fixed acidity</th>\n",
       "      <th>volatile acidity</th>\n",
       "      <th>citric acid</th>\n",
       "      <th>residual sugar</th>\n",
       "      <th>chlorides</th>\n",
       "      <th>free sulfur dioxide</th>\n",
       "      <th>total sulfur dioxide</th>\n",
       "      <th>density</th>\n",
       "      <th>pH</th>\n",
       "      <th>sulphates</th>\n",
       "      <th>alcohol</th>\n",
       "      <th>quality</th>\n",
       "    </tr>\n",
       "  </thead>\n",
       "  <tbody>\n",
       "    <tr>\n",
       "      <th>0</th>\n",
       "      <td>7.0</td>\n",
       "      <td>0.27</td>\n",
       "      <td>0.36</td>\n",
       "      <td>20.7</td>\n",
       "      <td>0.045</td>\n",
       "      <td>45.0</td>\n",
       "      <td>170.0</td>\n",
       "      <td>1.0010</td>\n",
       "      <td>3.00</td>\n",
       "      <td>0.45</td>\n",
       "      <td>8.8</td>\n",
       "      <td>6</td>\n",
       "    </tr>\n",
       "    <tr>\n",
       "      <th>1</th>\n",
       "      <td>6.3</td>\n",
       "      <td>0.30</td>\n",
       "      <td>0.34</td>\n",
       "      <td>1.6</td>\n",
       "      <td>0.049</td>\n",
       "      <td>14.0</td>\n",
       "      <td>132.0</td>\n",
       "      <td>0.9940</td>\n",
       "      <td>3.30</td>\n",
       "      <td>0.49</td>\n",
       "      <td>9.5</td>\n",
       "      <td>6</td>\n",
       "    </tr>\n",
       "    <tr>\n",
       "      <th>2</th>\n",
       "      <td>8.1</td>\n",
       "      <td>0.28</td>\n",
       "      <td>0.40</td>\n",
       "      <td>6.9</td>\n",
       "      <td>0.050</td>\n",
       "      <td>30.0</td>\n",
       "      <td>97.0</td>\n",
       "      <td>0.9951</td>\n",
       "      <td>3.26</td>\n",
       "      <td>0.44</td>\n",
       "      <td>10.1</td>\n",
       "      <td>6</td>\n",
       "    </tr>\n",
       "    <tr>\n",
       "      <th>3</th>\n",
       "      <td>7.2</td>\n",
       "      <td>0.23</td>\n",
       "      <td>0.32</td>\n",
       "      <td>8.5</td>\n",
       "      <td>0.058</td>\n",
       "      <td>47.0</td>\n",
       "      <td>186.0</td>\n",
       "      <td>0.9956</td>\n",
       "      <td>3.19</td>\n",
       "      <td>0.40</td>\n",
       "      <td>9.9</td>\n",
       "      <td>6</td>\n",
       "    </tr>\n",
       "    <tr>\n",
       "      <th>4</th>\n",
       "      <td>7.2</td>\n",
       "      <td>0.23</td>\n",
       "      <td>0.32</td>\n",
       "      <td>8.5</td>\n",
       "      <td>0.058</td>\n",
       "      <td>47.0</td>\n",
       "      <td>186.0</td>\n",
       "      <td>0.9956</td>\n",
       "      <td>3.19</td>\n",
       "      <td>0.40</td>\n",
       "      <td>9.9</td>\n",
       "      <td>6</td>\n",
       "    </tr>\n",
       "  </tbody>\n",
       "</table>\n",
       "</div>"
      ],
      "text/plain": [
       "   fixed acidity  volatile acidity  citric acid  residual sugar  chlorides  \\\n",
       "0            7.0              0.27         0.36            20.7      0.045   \n",
       "1            6.3              0.30         0.34             1.6      0.049   \n",
       "2            8.1              0.28         0.40             6.9      0.050   \n",
       "3            7.2              0.23         0.32             8.5      0.058   \n",
       "4            7.2              0.23         0.32             8.5      0.058   \n",
       "\n",
       "   free sulfur dioxide  total sulfur dioxide  density    pH  sulphates  \\\n",
       "0                 45.0                 170.0   1.0010  3.00       0.45   \n",
       "1                 14.0                 132.0   0.9940  3.30       0.49   \n",
       "2                 30.0                  97.0   0.9951  3.26       0.44   \n",
       "3                 47.0                 186.0   0.9956  3.19       0.40   \n",
       "4                 47.0                 186.0   0.9956  3.19       0.40   \n",
       "\n",
       "   alcohol  quality  \n",
       "0      8.8        6  \n",
       "1      9.5        6  \n",
       "2     10.1        6  \n",
       "3      9.9        6  \n",
       "4      9.9        6  "
      ]
     },
     "execution_count": 3,
     "metadata": {},
     "output_type": "execute_result"
    }
   ],
   "source": [
    "data.head()\n"
   ]
  },
  {
   "cell_type": "code",
   "execution_count": 4,
   "metadata": {
    "ExecuteTime": {
     "end_time": "2018-12-11T16:17:31.759604Z",
     "start_time": "2018-12-11T16:17:31.753968Z"
    }
   },
   "outputs": [],
   "source": [
    "# Select X (independent variable) and Y (dependent variable)\n",
    "X = data.iloc[:,:-2].values\n",
    "y = data.iloc[:,10].values\n"
   ]
  },
  {
   "cell_type": "code",
   "execution_count": 5,
   "metadata": {
    "ExecuteTime": {
     "end_time": "2018-12-11T16:17:31.783777Z",
     "start_time": "2018-12-11T16:17:31.762536Z"
    }
   },
   "outputs": [
    {
     "name": "stdout",
     "output_type": "stream",
     "text": [
      "Training set has 3281 samples.\n",
      "Testing set has 1617 samples.\n"
     ]
    }
   ],
   "source": [
    "# Split the data as in train and test\n",
    "X_train, X_test, y_train, y_test = train_test_split(X, y, test_size=.33, random_state=0)\n",
    "\n",
    "#Feature Scaling\n",
    "\n",
    "sc = StandardScaler()\n",
    "X_train = sc.fit_transform(X_train)\n",
    "X_test = sc.transform(X_test)\n",
    "\n",
    "print(\"Training set has {} samples.\".format(X_train.shape[0]))\n",
    "print(\"Testing set has {} samples.\".format(X_test.shape[0]))\n"
   ]
  },
  {
   "cell_type": "markdown",
   "metadata": {},
   "source": [
    "## Perform a 5 fold cross validation on this data. (K-Fold)"
   ]
  },
  {
   "cell_type": "code",
   "execution_count": 6,
   "metadata": {
    "ExecuteTime": {
     "end_time": "2018-12-11T16:17:31.876918Z",
     "start_time": "2018-12-11T16:17:31.785811Z"
    },
    "scrolled": true
   },
   "outputs": [
    {
     "name": "stdout",
     "output_type": "stream",
     "text": [
      "-----------------------------------------------------\n",
      "MAE 0.329256594637\n",
      "MSE 0.165156143572\n",
      "RMSE 0.406394074234\n",
      "Explained Var Score 0.887696835439\n",
      "                      Coefficients\n",
      "fixed acidity             0.444963\n",
      "volatile acidity          0.104858\n",
      "citric acid               0.049739\n",
      "residual sugar            1.210762\n",
      "chlorides                -0.012289\n",
      "free sulfur dioxide      -0.056939\n",
      "total sulfur dioxide      0.020758\n",
      "density                  -2.079405\n",
      "pH                        0.375598\n",
      "sulphates                 0.116214\n",
      "-----------------------------------------------------\n",
      "MAE 0.344145057601\n",
      "MSE 0.216230778624\n",
      "RMSE 0.465006213533\n",
      "Explained Var Score 0.851118189319\n",
      "                      Coefficients\n",
      "fixed acidity             0.386670\n",
      "volatile acidity          0.088119\n",
      "citric acid               0.043703\n",
      "residual sugar            1.248790\n",
      "chlorides                -0.011403\n",
      "free sulfur dioxide      -0.047096\n",
      "total sulfur dioxide      0.004507\n",
      "density                  -2.119640\n",
      "pH                        0.353430\n",
      "sulphates                 0.113240\n",
      "-----------------------------------------------------\n",
      "MAE 0.296007112083\n",
      "MSE 0.454415929237\n",
      "RMSE 0.67410379708\n",
      "Explained Var Score 0.64008368006\n",
      "                      Coefficients\n",
      "fixed acidity             0.458335\n",
      "volatile acidity          0.055455\n",
      "citric acid               0.033953\n",
      "residual sugar            1.270851\n",
      "chlorides                 0.007197\n",
      "free sulfur dioxide      -0.056600\n",
      "total sulfur dioxide      0.067541\n",
      "density                  -2.169904\n",
      "pH                        0.368082\n",
      "sulphates                 0.117047\n",
      "-----------------------------------------------------\n",
      "MAE 0.289268767163\n",
      "MSE 0.145594635122\n",
      "RMSE 0.381568650601\n",
      "Explained Var Score 0.923060753937\n",
      "                      Coefficients\n",
      "fixed acidity             0.455039\n",
      "volatile acidity          0.081886\n",
      "citric acid               0.051754\n",
      "residual sugar            1.207234\n",
      "chlorides                -0.001745\n",
      "free sulfur dioxide      -0.068964\n",
      "total sulfur dioxide      0.026378\n",
      "density                  -2.008177\n",
      "pH                        0.383359\n",
      "sulphates                 0.122945\n",
      "-----------------------------------------------------\n",
      "MAE 0.27911246306\n",
      "MSE 0.124674213554\n",
      "RMSE 0.353092358391\n",
      "Explained Var Score 0.922076590142\n",
      "                      Coefficients\n",
      "fixed acidity             0.437013\n",
      "volatile acidity          0.095153\n",
      "citric acid               0.041027\n",
      "residual sugar            1.213280\n",
      "chlorides                -0.003882\n",
      "free sulfur dioxide      -0.063579\n",
      "total sulfur dioxide      0.020197\n",
      "density                  -2.044193\n",
      "pH                        0.370677\n",
      "sulphates                 0.117011\n",
      "Training set has 3919 samples.\n",
      "Testing set has 979 samples.\n"
     ]
    }
   ],
   "source": [
    "#Kfold cross validation\n",
    "n_splits = 5\n",
    "\n",
    "kf=KFold(n_splits=n_splits,random_state=None)\n",
    "kf.get_n_splits(X)\n",
    "\n",
    "for train_index, test_index in kf.split(X):\n",
    "   #print(\"TRAIN:\", train_index, \"TEST:\", test_index)\n",
    "    X_train_K, X_test_K = X[train_index], X[test_index]\n",
    "    y_train_K, y_test_K = y[train_index], y[test_index]\n",
    "    sc = StandardScaler()\n",
    "    X_train_K = sc.fit_transform(X_train_K)\n",
    "    X_test_K = sc.transform(X_test_K)\n",
    "    model = LinearRegression()\n",
    "    model.fit(X_train_K,y_train_K)\n",
    "    predictions = model.predict(X_test_K)\n",
    "    print('-----------------------------------------------------')\n",
    "    print('MAE',metrics.mean_absolute_error(y_test_K,predictions))\n",
    "    print('MSE',metrics.mean_squared_error(y_test_K,predictions))\n",
    "    print('RMSE',np.sqrt(metrics.mean_squared_error(y_test_K,predictions)))\n",
    "    print('Explained Var Score',metrics.explained_variance_score(y_test_K,predictions))\n",
    "    print(pd.DataFrame(model.coef_,data.columns.values[0:10],columns=['Coefficients']))\n",
    "\n",
    "# Show the results of the split\n",
    "print(\"Training set has {} samples.\".format(X_train_K.shape[0]))\n",
    "print(\"Testing set has {} samples.\".format(X_test_K.shape[0]))\n"
   ]
  },
  {
   "cell_type": "code",
   "execution_count": 7,
   "metadata": {
    "ExecuteTime": {
     "end_time": "2018-12-11T16:17:31.957712Z",
     "start_time": "2018-12-11T16:17:31.881759Z"
    }
   },
   "outputs": [
    {
     "name": "stdout",
     "output_type": "stream",
     "text": [
      "0.834162023583\n",
      "MSE 0.221249489028\n"
     ]
    }
   ],
   "source": [
    "#KFold avg score\n",
    "scores = cross_val_score(LinearRegression(), X, y, cv=kf)\n",
    "accuracy = np.mean(scores)\n",
    "print(accuracy)\n",
    "\n",
    "predictions = cross_val_predict(LinearRegression(), X, y, cv=kf)\n",
    "print('MSE',metrics.mean_squared_error(y,predictions))\n"
   ]
  },
  {
   "cell_type": "markdown",
   "metadata": {},
   "source": [
    "## Fitting Model"
   ]
  },
  {
   "cell_type": "code",
   "execution_count": 8,
   "metadata": {
    "ExecuteTime": {
     "end_time": "2018-12-11T16:17:31.974002Z",
     "start_time": "2018-12-11T16:17:31.960913Z"
    }
   },
   "outputs": [
    {
     "name": "stdout",
     "output_type": "stream",
     "text": [
      "LinearRegression(copy_X=True, fit_intercept=True, n_jobs=None,\n",
      "         normalize=False)\n"
     ]
    }
   ],
   "source": [
    "model = LinearRegression()\n",
    "model.fit(X_train,y_train)\n",
    "print(model)\n"
   ]
  },
  {
   "cell_type": "code",
   "execution_count": 9,
   "metadata": {
    "ExecuteTime": {
     "end_time": "2018-12-11T16:17:31.982835Z",
     "start_time": "2018-12-11T16:17:31.977031Z"
    }
   },
   "outputs": [
    {
     "name": "stdout",
     "output_type": "stream",
     "text": [
      "10.5290236716 [ 0.4633316   0.04995031  0.02897389  1.26105387  0.01036714 -0.05855385\n",
      "  0.07487591 -2.1792222   0.37921421  0.1192185 ]\n"
     ]
    }
   ],
   "source": [
    "print(model.intercept_,model.coef_)\n"
   ]
  },
  {
   "cell_type": "markdown",
   "metadata": {},
   "source": [
    "## Predict Model"
   ]
  },
  {
   "cell_type": "code",
   "execution_count": 10,
   "metadata": {
    "ExecuteTime": {
     "end_time": "2018-12-11T16:17:31.992207Z",
     "start_time": "2018-12-11T16:17:31.985780Z"
    }
   },
   "outputs": [],
   "source": [
    "predictions = model.predict(X_test)\n"
   ]
  },
  {
   "cell_type": "code",
   "execution_count": 11,
   "metadata": {
    "ExecuteTime": {
     "end_time": "2018-12-11T16:17:32.282794Z",
     "start_time": "2018-12-11T16:17:31.995359Z"
    }
   },
   "outputs": [
    {
     "data": {
      "image/png": "[encoded data removed]",
      "text/plain": [
       "<Figure size 432x288 with 1 Axes>"
      ]
     },
     "metadata": {
      "needs_background": "light"
     },
     "output_type": "display_data"
    }
   ],
   "source": [
    "plt.scatter(y_test,predictions,color='red')\n",
    "\n",
    "plt.xlabel('True Values')\n",
    "plt.ylabel('Predictions')\n",
    "None\n"
   ]
  },
  {
   "cell_type": "code",
   "execution_count": 12,
   "metadata": {
    "ExecuteTime": {
     "end_time": "2018-12-11T16:17:32.304975Z",
     "start_time": "2018-12-11T16:17:32.295445Z"
    }
   },
   "outputs": [
    {
     "data": {
      "text/plain": [
       "0.7715038918768552"
      ]
     },
     "execution_count": 12,
     "metadata": {},
     "output_type": "execute_result"
    }
   ],
   "source": [
    "model.score(X_test, y_test)\n"
   ]
  },
  {
   "cell_type": "code",
   "execution_count": 13,
   "metadata": {
    "ExecuteTime": {
     "end_time": "2018-12-11T16:17:32.403757Z",
     "start_time": "2018-12-11T16:17:32.309692Z"
    }
   },
   "outputs": [
    {
     "data": {
      "text/html": [
       "<div>\n",
       "<style scoped>\n",
       "    .dataframe tbody tr th:only-of-type {\n",
       "        vertical-align: middle;\n",
       "    }\n",
       "\n",
       "    .dataframe tbody tr th {\n",
       "        vertical-align: top;\n",
       "    }\n",
       "\n",
       "    .dataframe thead th {\n",
       "        text-align: right;\n",
       "    }\n",
       "</style>\n",
       "<table border=\"1\" class=\"dataframe\">\n",
       "  <thead>\n",
       "    <tr style=\"text-align: right;\">\n",
       "      <th></th>\n",
       "      <th>alcohol</th>\n",
       "      <th>pred_alcohol</th>\n",
       "      <th>diff</th>\n",
       "    </tr>\n",
       "  </thead>\n",
       "  <tbody>\n",
       "    <tr>\n",
       "      <th>0</th>\n",
       "      <td>10.7</td>\n",
       "      <td>10.890855</td>\n",
       "      <td>-0.190855</td>\n",
       "    </tr>\n",
       "    <tr>\n",
       "      <th>1</th>\n",
       "      <td>9.8</td>\n",
       "      <td>9.724273</td>\n",
       "      <td>0.075727</td>\n",
       "    </tr>\n",
       "    <tr>\n",
       "      <th>2</th>\n",
       "      <td>10.8</td>\n",
       "      <td>11.113447</td>\n",
       "      <td>-0.313447</td>\n",
       "    </tr>\n",
       "    <tr>\n",
       "      <th>3</th>\n",
       "      <td>12.9</td>\n",
       "      <td>12.530475</td>\n",
       "      <td>0.369525</td>\n",
       "    </tr>\n",
       "    <tr>\n",
       "      <th>4</th>\n",
       "      <td>10.1</td>\n",
       "      <td>10.246465</td>\n",
       "      <td>-0.146465</td>\n",
       "    </tr>\n",
       "  </tbody>\n",
       "</table>\n",
       "</div>"
      ],
      "text/plain": [
       "   alcohol  pred_alcohol      diff\n",
       "0     10.7     10.890855 -0.190855\n",
       "1      9.8      9.724273  0.075727\n",
       "2     10.8     11.113447 -0.313447\n",
       "3     12.9     12.530475  0.369525\n",
       "4     10.1     10.246465 -0.146465"
      ]
     },
     "execution_count": 13,
     "metadata": {},
     "output_type": "execute_result"
    }
   ],
   "source": [
    "df = pd.DataFrame(y_test) #Y test data into DF\n",
    "tdf = pd.DataFrame(predictions) #Y predictions into DF\n",
    "df = pd.concat([df,tdf],axis=1) #Combine into one DF\n",
    "df.columns = ['alcohol','pred_alcohol'] # Rename columns\n",
    "df['diff'] = df['alcohol'] - df['pred_alcohol']\n",
    "df.head()\n"
   ]
  },
  {
   "cell_type": "markdown",
   "metadata": {},
   "source": [
    "## Evaluating the Model"
   ]
  },
  {
   "cell_type": "code",
   "execution_count": 14,
   "metadata": {
    "ExecuteTime": {
     "end_time": "2018-12-11T16:17:32.428056Z",
     "start_time": "2018-12-11T16:17:32.407666Z"
    }
   },
   "outputs": [
    {
     "name": "stdout",
     "output_type": "stream",
     "text": [
      "MAE 0.301143010826\n",
      "MSE 0.343603067514\n",
      "RMSE 0.58617665214\n",
      "Explained Var Score 0.771666726526\n"
     ]
    }
   ],
   "source": [
    "print('MAE',metrics.mean_absolute_error(y_test,predictions)) #Mean Absolute Error\n",
    "print('MSE',metrics.mean_squared_error(y_test,predictions)) #Mean Squared Error\n",
    "print('RMSE',np.sqrt(metrics.mean_squared_error(y_test,predictions))) # Root Mean Error\n",
    "print('Explained Var Score',metrics.explained_variance_score(y_test,predictions))\n"
   ]
  },
  {
   "cell_type": "code",
   "execution_count": 15,
   "metadata": {
    "ExecuteTime": {
     "end_time": "2018-12-11T16:17:33.044849Z",
     "start_time": "2018-12-11T16:17:32.432967Z"
    }
   },
   "outputs": [
    {
     "data": {
      "image/png": "[encoded data removed]",
      "text/plain": [
       "<Figure size 432x288 with 1 Axes>"
      ]
     },
     "metadata": {
      "needs_background": "light"
     },
     "output_type": "display_data"
    }
   ],
   "source": [
    "sns.distplot((y_test-predictions),bins=100)\n",
    "plt.xlim(-5,5)\n",
    "None\n"
   ]
  },
  {
   "cell_type": "code",
   "execution_count": 16,
   "metadata": {
    "ExecuteTime": {
     "end_time": "2018-12-11T16:17:33.062938Z",
     "start_time": "2018-12-11T16:17:33.049171Z"
    }
   },
   "outputs": [
    {
     "data": {
      "text/html": [
       "<div>\n",
       "<style scoped>\n",
       "    .dataframe tbody tr th:only-of-type {\n",
       "        vertical-align: middle;\n",
       "    }\n",
       "\n",
       "    .dataframe tbody tr th {\n",
       "        vertical-align: top;\n",
       "    }\n",
       "\n",
       "    .dataframe thead th {\n",
       "        text-align: right;\n",
       "    }\n",
       "</style>\n",
       "<table border=\"1\" class=\"dataframe\">\n",
       "  <thead>\n",
       "    <tr style=\"text-align: right;\">\n",
       "      <th></th>\n",
       "      <th>Coefficients</th>\n",
       "    </tr>\n",
       "  </thead>\n",
       "  <tbody>\n",
       "    <tr>\n",
       "      <th>fixed acidity</th>\n",
       "      <td>0.463332</td>\n",
       "    </tr>\n",
       "    <tr>\n",
       "      <th>volatile acidity</th>\n",
       "      <td>0.049950</td>\n",
       "    </tr>\n",
       "    <tr>\n",
       "      <th>citric acid</th>\n",
       "      <td>0.028974</td>\n",
       "    </tr>\n",
       "    <tr>\n",
       "      <th>residual sugar</th>\n",
       "      <td>1.261054</td>\n",
       "    </tr>\n",
       "    <tr>\n",
       "      <th>chlorides</th>\n",
       "      <td>0.010367</td>\n",
       "    </tr>\n",
       "    <tr>\n",
       "      <th>free sulfur dioxide</th>\n",
       "      <td>-0.058554</td>\n",
       "    </tr>\n",
       "    <tr>\n",
       "      <th>total sulfur dioxide</th>\n",
       "      <td>0.074876</td>\n",
       "    </tr>\n",
       "    <tr>\n",
       "      <th>density</th>\n",
       "      <td>-2.179222</td>\n",
       "    </tr>\n",
       "    <tr>\n",
       "      <th>pH</th>\n",
       "      <td>0.379214</td>\n",
       "    </tr>\n",
       "    <tr>\n",
       "      <th>sulphates</th>\n",
       "      <td>0.119218</td>\n",
       "    </tr>\n",
       "  </tbody>\n",
       "</table>\n",
       "</div>"
      ],
      "text/plain": [
       "                      Coefficients\n",
       "fixed acidity             0.463332\n",
       "volatile acidity          0.049950\n",
       "citric acid               0.028974\n",
       "residual sugar            1.261054\n",
       "chlorides                 0.010367\n",
       "free sulfur dioxide      -0.058554\n",
       "total sulfur dioxide      0.074876\n",
       "density                  -2.179222\n",
       "pH                        0.379214\n",
       "sulphates                 0.119218"
      ]
     },
     "execution_count": 16,
     "metadata": {},
     "output_type": "execute_result"
    }
   ],
   "source": [
    "pd.DataFrame(model.coef_,data.columns.values[0:10],columns=['Coefficients'])\n"
   ]
  },
  {
   "cell_type": "markdown",
   "metadata": {},
   "source": [
    "## Chlorides\n",
    "\n",
    "Adjust the model above to replace “chlorides” feature with 1/chlorides and compare the results to model above. Does the prediction get better or worse? If so, by how much %?"
   ]
  },
  {
   "cell_type": "code",
   "execution_count": 17,
   "metadata": {
    "ExecuteTime": {
     "end_time": "2018-12-11T16:17:33.367417Z",
     "start_time": "2018-12-11T16:17:33.066205Z"
    }
   },
   "outputs": [
    {
     "data": {
      "text/plain": [
       "<seaborn.axisgrid.PairGrid at 0x11364e320>"
      ]
     },
     "execution_count": 17,
     "metadata": {},
     "output_type": "execute_result"
    },
    {
     "data": {
      "image/png": "[encoded data removed]",
      "text/plain": [
       "<Figure size 180x180 with 1 Axes>"
      ]
     },
     "metadata": {
      "needs_background": "light"
     },
     "output_type": "display_data"
    }
   ],
   "source": [
    "g = sns.pairplot(data,x_vars=['chlorides'],y_vars=['alcohol'])\n",
    "g\n"
   ]
  },
  {
   "cell_type": "code",
   "execution_count": 18,
   "metadata": {
    "ExecuteTime": {
     "end_time": "2018-12-11T16:17:33.373790Z",
     "start_time": "2018-12-11T16:17:33.369673Z"
    }
   },
   "outputs": [],
   "source": [
    "data['chlorides'] = 1/data['chlorides']\n"
   ]
  },
  {
   "cell_type": "code",
   "execution_count": 19,
   "metadata": {
    "ExecuteTime": {
     "end_time": "2018-12-11T16:17:33.572359Z",
     "start_time": "2018-12-11T16:17:33.376363Z"
    }
   },
   "outputs": [
    {
     "data": {
      "text/plain": [
       "<seaborn.axisgrid.PairGrid at 0x1181049e8>"
      ]
     },
     "execution_count": 19,
     "metadata": {},
     "output_type": "execute_result"
    },
    {
     "data": {
      "image/png": "[encoded data removed]",
      "text/plain": [
       "<Figure size 180x180 with 1 Axes>"
      ]
     },
     "metadata": {
      "needs_background": "light"
     },
     "output_type": "display_data"
    }
   ],
   "source": [
    "g = sns.pairplot(data,x_vars=['chlorides'],y_vars=['alcohol'])\n",
    "g\n"
   ]
  },
  {
   "cell_type": "code",
   "execution_count": 20,
   "metadata": {
    "ExecuteTime": {
     "end_time": "2018-12-11T16:17:33.578876Z",
     "start_time": "2018-12-11T16:17:33.574872Z"
    }
   },
   "outputs": [],
   "source": [
    "X = data.iloc[:,:-2].values\n",
    "y = data.iloc[:,10].values\n"
   ]
  },
  {
   "cell_type": "code",
   "execution_count": 21,
   "metadata": {
    "ExecuteTime": {
     "end_time": "2018-12-11T16:17:33.589596Z",
     "start_time": "2018-12-11T16:17:33.580877Z"
    }
   },
   "outputs": [
    {
     "name": "stdout",
     "output_type": "stream",
     "text": [
      "Training set has 3281 samples.\n",
      "Testing set has 1617 samples.\n"
     ]
    }
   ],
   "source": [
    "X_train, X_test, y_train, y_test = train_test_split(X, y, test_size=.33, random_state=0)\n",
    "\n",
    "#Feature Scaling\n",
    "\n",
    "sc = StandardScaler()\n",
    "X_train = sc.fit_transform(X_train)\n",
    "X_test = sc.transform(X_test)\n",
    "\n",
    "print(\"Training set has {} samples.\".format(X_train.shape[0]))\n",
    "print(\"Testing set has {} samples.\".format(X_test.shape[0]))\n"
   ]
  },
  {
   "cell_type": "code",
   "execution_count": 22,
   "metadata": {
    "ExecuteTime": {
     "end_time": "2018-12-11T16:17:33.597919Z",
     "start_time": "2018-12-11T16:17:33.591692Z"
    }
   },
   "outputs": [
    {
     "name": "stdout",
     "output_type": "stream",
     "text": [
      "LinearRegression(copy_X=True, fit_intercept=True, n_jobs=None,\n",
      "         normalize=False)\n"
     ]
    }
   ],
   "source": [
    "model = LinearRegression()\n",
    "model.fit(X_train,y_train)\n",
    "print(model)\n"
   ]
  },
  {
   "cell_type": "code",
   "execution_count": 23,
   "metadata": {
    "ExecuteTime": {
     "end_time": "2018-12-11T16:17:33.604096Z",
     "start_time": "2018-12-11T16:17:33.600316Z"
    }
   },
   "outputs": [],
   "source": [
    "predictions = model.predict(X_test)\n"
   ]
  },
  {
   "cell_type": "code",
   "execution_count": 24,
   "metadata": {
    "ExecuteTime": {
     "end_time": "2018-12-11T16:17:33.619741Z",
     "start_time": "2018-12-11T16:17:33.607225Z"
    }
   },
   "outputs": [
    {
     "name": "stdout",
     "output_type": "stream",
     "text": [
      "MAE 0.301996562858\n",
      "MSE 0.342157622447\n",
      "RMSE 0.584942409513\n",
      "Explained Var Score 0.772616337109\n"
     ]
    }
   ],
   "source": [
    "print('MAE',metrics.mean_absolute_error(y_test,predictions))\n",
    "print('MSE',metrics.mean_squared_error(y_test,predictions))\n",
    "print('RMSE',np.sqrt(metrics.mean_squared_error(y_test,predictions)))\n",
    "\n",
    "print('Explained Var Score',metrics.explained_variance_score(y_test,predictions))\n"
   ]
  },
  {
   "cell_type": "code",
   "execution_count": 25,
   "metadata": {
    "ExecuteTime": {
     "end_time": "2018-12-11T16:17:33.635765Z",
     "start_time": "2018-12-11T16:17:33.623402Z"
    }
   },
   "outputs": [
    {
     "data": {
      "text/html": [
       "<div>\n",
       "<style scoped>\n",
       "    .dataframe tbody tr th:only-of-type {\n",
       "        vertical-align: middle;\n",
       "    }\n",
       "\n",
       "    .dataframe tbody tr th {\n",
       "        vertical-align: top;\n",
       "    }\n",
       "\n",
       "    .dataframe thead th {\n",
       "        text-align: right;\n",
       "    }\n",
       "</style>\n",
       "<table border=\"1\" class=\"dataframe\">\n",
       "  <thead>\n",
       "    <tr style=\"text-align: right;\">\n",
       "      <th></th>\n",
       "      <th>Coefficients</th>\n",
       "    </tr>\n",
       "  </thead>\n",
       "  <tbody>\n",
       "    <tr>\n",
       "      <th>fixed acidity</th>\n",
       "      <td>0.459388</td>\n",
       "    </tr>\n",
       "    <tr>\n",
       "      <th>volatile acidity</th>\n",
       "      <td>0.051167</td>\n",
       "    </tr>\n",
       "    <tr>\n",
       "      <th>citric acid</th>\n",
       "      <td>0.030327</td>\n",
       "    </tr>\n",
       "    <tr>\n",
       "      <th>residual sugar</th>\n",
       "      <td>1.250847</td>\n",
       "    </tr>\n",
       "    <tr>\n",
       "      <th>chlorides</th>\n",
       "      <td>0.005035</td>\n",
       "    </tr>\n",
       "    <tr>\n",
       "      <th>free sulfur dioxide</th>\n",
       "      <td>-0.058172</td>\n",
       "    </tr>\n",
       "    <tr>\n",
       "      <th>total sulfur dioxide</th>\n",
       "      <td>0.075346</td>\n",
       "    </tr>\n",
       "    <tr>\n",
       "      <th>density</th>\n",
       "      <td>-2.165537</td>\n",
       "    </tr>\n",
       "    <tr>\n",
       "      <th>pH</th>\n",
       "      <td>0.376047</td>\n",
       "    </tr>\n",
       "    <tr>\n",
       "      <th>sulphates</th>\n",
       "      <td>0.118867</td>\n",
       "    </tr>\n",
       "  </tbody>\n",
       "</table>\n",
       "</div>"
      ],
      "text/plain": [
       "                      Coefficients\n",
       "fixed acidity             0.459388\n",
       "volatile acidity          0.051167\n",
       "citric acid               0.030327\n",
       "residual sugar            1.250847\n",
       "chlorides                 0.005035\n",
       "free sulfur dioxide      -0.058172\n",
       "total sulfur dioxide      0.075346\n",
       "density                  -2.165537\n",
       "pH                        0.376047\n",
       "sulphates                 0.118867"
      ]
     },
     "execution_count": 25,
     "metadata": {},
     "output_type": "execute_result"
    }
   ],
   "source": [
    "pd.DataFrame(model.coef_,data.columns.values[0:10],columns=['Coefficients'])\n"
   ]
  }
 ],
 "metadata": {
  "kernelspec": {
   "display_name": "Python 3",
   "language": "python",
   "name": "python3"
  },
  "language_info": {
   "codemirror_mode": {
    "name": "ipython",
    "version": 3
   },
   "file_extension": ".py",
   "mimetype": "text/x-python",
   "name": "python",
   "nbconvert_exporter": "python",
   "pygments_lexer": "ipython3",
   "version": "3.6.8"
  }
 },
 "nbformat": 4,
 "nbformat_minor": 2
}
