{
 "cells": [
  {
   "cell_type": "markdown",
   "metadata": {},
   "source": [
    "# Sebastian Garcia\n",
    "\n",
    "# Part 1: Regression with Gradient Descents\n",
    "\n",
    "Perform regression with gradient descent and stochastic gradient descent on salary data and compare results to standard regression in sklearn."
   ]
  },
  {
   "cell_type": "code",
   "execution_count": 1,
   "metadata": {},
   "outputs": [],
   "source": [
    "import numpy as np\n",
    "import pandas as pd\n",
    "from sklearn import linear_model\n",
    "from sklearn.metrics import mean_squared_error, r2_score\n",
    "from matplotlib import pyplot as plt\n"
   ]
  },
  {
   "cell_type": "code",
   "execution_count": 2,
   "metadata": {},
   "outputs": [
    {
     "data": {
      "text/html": [
       "<div>\n",
       "<style scoped>\n",
       "    .dataframe tbody tr th:only-of-type {\n",
       "        vertical-align: middle;\n",
       "    }\n",
       "\n",
       "    .dataframe tbody tr th {\n",
       "        vertical-align: top;\n",
       "    }\n",
       "\n",
       "    .dataframe thead th {\n",
       "        text-align: right;\n",
       "    }\n",
       "</style>\n",
       "<table border=\"1\" class=\"dataframe\">\n",
       "  <thead>\n",
       "    <tr style=\"text-align: right;\">\n",
       "      <th></th>\n",
       "      <th>YearsExperience</th>\n",
       "      <th>Salary</th>\n",
       "    </tr>\n",
       "  </thead>\n",
       "  <tbody>\n",
       "    <tr>\n",
       "      <th>0</th>\n",
       "      <td>1.1</td>\n",
       "      <td>39343.0</td>\n",
       "    </tr>\n",
       "    <tr>\n",
       "      <th>1</th>\n",
       "      <td>1.3</td>\n",
       "      <td>46205.0</td>\n",
       "    </tr>\n",
       "    <tr>\n",
       "      <th>2</th>\n",
       "      <td>1.5</td>\n",
       "      <td>37731.0</td>\n",
       "    </tr>\n",
       "    <tr>\n",
       "      <th>3</th>\n",
       "      <td>2.0</td>\n",
       "      <td>43525.0</td>\n",
       "    </tr>\n",
       "    <tr>\n",
       "      <th>4</th>\n",
       "      <td>2.2</td>\n",
       "      <td>39891.0</td>\n",
       "    </tr>\n",
       "  </tbody>\n",
       "</table>\n",
       "</div>"
      ],
      "text/plain": [
       "   YearsExperience   Salary\n",
       "0              1.1  39343.0\n",
       "1              1.3  46205.0\n",
       "2              1.5  37731.0\n",
       "3              2.0  43525.0\n",
       "4              2.2  39891.0"
      ]
     },
     "execution_count": 2,
     "metadata": {},
     "output_type": "execute_result"
    }
   ],
   "source": [
    "# Load the data\n",
    "salary = pd.read_csv('Salary_Data.csv')\n",
    "salary.head()\n"
   ]
  },
  {
   "cell_type": "code",
   "execution_count": 3,
   "metadata": {},
   "outputs": [
    {
     "data": {
      "text/plain": [
       "0    1.1\n",
       "1    1.3\n",
       "2    1.5\n",
       "3    2.0\n",
       "4    2.2\n",
       "Name: YearsExperience, dtype: float64"
      ]
     },
     "execution_count": 3,
     "metadata": {},
     "output_type": "execute_result"
    }
   ],
   "source": [
    "# Select Years of Experience column as X (independent variable)\n",
    "sx = salary.iloc[:, 0]\n",
    "sx[:5]\n"
   ]
  },
  {
   "cell_type": "code",
   "execution_count": 4,
   "metadata": {},
   "outputs": [
    {
     "data": {
      "text/plain": [
       "0    39343.0\n",
       "1    46205.0\n",
       "2    37731.0\n",
       "3    43525.0\n",
       "4    39891.0\n",
       "Name: Salary, dtype: float64"
      ]
     },
     "execution_count": 4,
     "metadata": {},
     "output_type": "execute_result"
    }
   ],
   "source": [
    "# Select Salary column as Y (dependent variable)\n",
    "sy = salary.iloc[:, 1]\n",
    "sy[:5]\n"
   ]
  },
  {
   "cell_type": "code",
   "execution_count": 5,
   "metadata": {},
   "outputs": [
    {
     "data": {
      "image/png": "[encoded data removed]",
      "text/plain": [
       "<Figure size 432x288 with 1 Axes>"
      ]
     },
     "metadata": {
      "needs_background": "light"
     },
     "output_type": "display_data"
    }
   ],
   "source": [
    "# Checking the data\n",
    "plt.scatter(sx, sy)\n",
    "plt.show()\n"
   ]
  },
  {
   "cell_type": "markdown",
   "metadata": {},
   "source": [
    "## Regression with Gradient Descent"
   ]
  },
  {
   "cell_type": "code",
   "execution_count": 6,
   "metadata": {},
   "outputs": [
    {
     "name": "stdout",
     "output_type": "stream",
     "text": [
      "9449.973190685818 25792.12695380759\n"
     ]
    }
   ],
   "source": [
    "# Building the model\n",
    "\n",
    "W = np.random.uniform(high=0.5, low=-0.5)  # Slope (W)\n",
    "b = np.random.uniform(high=0.5, low=-0.5)  # Intercept (b)\n",
    "\n",
    "L = 0.001  # Learning Rate\n",
    "epochs = 1000  # Number of iterations\n",
    "\n",
    "n = float(len(sx))  # Number of elements in the X's variables\n",
    "\n",
    "for epoch in range(epochs):\n",
    "    #if epoch%100 == 0:\n",
    "        #print(epoch)\n",
    "\n",
    "    for i in range(len(sx)):\n",
    "        sy_pred = W*sx + b  # Predict value of Y with the X's variables\n",
    "        d_W = (-2/n) * sum(sx * (sy - sy_pred))  # Partial derivative with respect to W\n",
    "        d_b = (-2/n) * sum(sy - sy_pred)  # Partial derivative with respect to b\n",
    "        W = W - L*d_W  # Update the value of W\n",
    "        b = b - L*d_b  # Update the value of b\n",
    "\n",
    "# With each iteration, as the accuracy increases, the error of the difference\n",
    "# between the actual y and the predicted y will get smaller.\n",
    "# Which means, the values of W and b will also be updated accordingly.\n",
    "\n",
    "print(W, b)\n"
   ]
  },
  {
   "cell_type": "code",
   "execution_count": 7,
   "metadata": {},
   "outputs": [
    {
     "data": {
      "image/png": "[encoded data removed]",
      "text/plain": [
       "<Figure size 432x288 with 1 Axes>"
      ]
     },
     "metadata": {
      "needs_background": "light"
     },
     "output_type": "display_data"
    }
   ],
   "source": [
    "# Making predictions\n",
    "sy_pred = W*sx + b\n",
    "\n",
    "plt.scatter(sx, sy)\n",
    "plt.plot(sx, sy_pred, color=\"red\")\n",
    "plt.xlabel('Years of Experience')\n",
    "plt.ylabel('Salary')\n",
    "plt.show()\n"
   ]
  },
  {
   "cell_type": "code",
   "execution_count": 8,
   "metadata": {},
   "outputs": [
    {
     "name": "stdout",
     "output_type": "stream",
     "text": [
      "RMSE for the model is 5592.043608864359\n"
     ]
    }
   ],
   "source": [
    "rmse_data = np.sqrt(mean_squared_error(sy, sy_pred))\n",
    "print(\"RMSE for the model is {}\".format(rmse_data))\n"
   ]
  },
  {
   "cell_type": "markdown",
   "metadata": {},
   "source": [
    "## Regression with Stochastic Gradient Descent"
   ]
  },
  {
   "cell_type": "code",
   "execution_count": 9,
   "metadata": {},
   "outputs": [
    {
     "name": "stdout",
     "output_type": "stream",
     "text": [
      "9287.564505393311 26512.8747762898\n"
     ]
    }
   ],
   "source": [
    "# Building the model\n",
    "\n",
    "Ws = np.random.uniform(high=0.5, low=-0.5)  # Slope (W)\n",
    "bs = np.random.uniform(high=0.5, low=-0.5)  # Intercept (b)\n",
    "\n",
    "Ls = 0.001  # Learning Rate\n",
    "epochs_s = 1000  # Number of iterations\n",
    "\n",
    "for epoch in range(epochs_s):\n",
    "    #if epoch%100 == 0:\n",
    "        #print(epoch)\n",
    "    for i in range(len(sx)):\n",
    "        sys_pred = Ws*sx[i] + bs  # Predict value of Y with the X's variables\n",
    "        d_Ws = (-2) * (sx[i] * (sy[i] - sys_pred))  # Partial derivative with respect to Ws\n",
    "        d_bs = (-2) * (sy[i] - sys_pred)  # Partial derivative with respect to bs\n",
    "        Ws = Ws - Ls*d_Ws  # Update the value of Ws\n",
    "        bs = bs - Ls*d_bs  # Update the value of bs\n",
    "\n",
    "# With each iteration, as the accuracy increases,\n",
    "# the error of the diffference between the actual y and the predicted y will get smaller.\n",
    "# Which means, the values of W and b will also be updated accordingly.\n",
    "\n",
    "print(Ws, bs)\n"
   ]
  },
  {
   "cell_type": "code",
   "execution_count": 10,
   "metadata": {},
   "outputs": [
    {
     "data": {
      "image/png": "[encoded data removed]",
      "text/plain": [
       "<Figure size 432x288 with 1 Axes>"
      ]
     },
     "metadata": {
      "needs_background": "light"
     },
     "output_type": "display_data"
    }
   ],
   "source": [
    "# Making predictions\n",
    "sys_pred = Ws*sx + bs\n",
    "\n",
    "plt.scatter(sx, sy)\n",
    "#plt.scatter(sx, sys_pred)\n",
    "plt.plot(sx, sys_pred, color=\"red\")\n",
    "plt.xlabel('Years of Experience')\n",
    "plt.ylabel('Salary')\n",
    "plt.show()\n"
   ]
  },
  {
   "cell_type": "code",
   "execution_count": 11,
   "metadata": {},
   "outputs": [
    {
     "name": "stdout",
     "output_type": "stream",
     "text": [
      "RMSE for the model is 5612.173431292579\n"
     ]
    }
   ],
   "source": [
    "rmse_sge = np.sqrt(mean_squared_error(sy, sys_pred))\n",
    "print(\"RMSE for the model is {}\".format(rmse_sge))\n"
   ]
  },
  {
   "cell_type": "code",
   "execution_count": 12,
   "metadata": {},
   "outputs": [],
   "source": [
    "# RMSE of test set for simple linear regression is 6146.92.\n",
    "# RMSE for Regression with Gradient Descent is 5592.04.\n",
    "# RMSE for Regression with Stochastic Gradient Descent is 5612.17.\n",
    "# Therefore, Regression with Gradient Descent is the best model in this case."
   ]
  }
 ],
 "metadata": {
  "kernelspec": {
   "display_name": "Python 3",
   "language": "python",
   "name": "python3"
  },
  "language_info": {
   "codemirror_mode": {
    "name": "ipython",
    "version": 3
   },
   "file_extension": ".py",
   "mimetype": "text/x-python",
   "name": "python",
   "nbconvert_exporter": "python",
   "pygments_lexer": "ipython3",
   "version": "3.6.8"
  }
 },
 "nbformat": 4,
 "nbformat_minor": 2
}
