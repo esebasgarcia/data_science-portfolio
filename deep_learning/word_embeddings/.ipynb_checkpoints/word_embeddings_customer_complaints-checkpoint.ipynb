{
 "cells": [
  {
   "cell_type": "markdown",
   "metadata": {},
   "source": [
    "# Sebastian Garcia\n",
    "# Word Embeddings and t-SNE\n",
    "Customer complaints dataset\n",
    "\n",
    "Classify consumer complaints into 12 pre-defined classes by using a doc2vec model. The main steps are:\n",
    "\n",
    "- Clean the data, remove stop words\n",
    "\n",
    "- Build and train a doc2vec model\n",
    "\n",
    "- Build a classification model to predict the product classes"
   ]
  },
  {
   "cell_type": "code",
   "execution_count": 32,
   "metadata": {},
   "outputs": [],
   "source": [
    "import pandas as pd\n",
    "pd.options.mode.chained_assignment = None \n",
    "from tqdm import tqdm\n",
    "tqdm.pandas(desc=\"progress-bar\")\n",
    "import numpy as np\n",
    "import re\n",
    "import nltk\n",
    "from nltk.corpus import stopwords\n",
    "from gensim.models.doc2vec import TaggedDocument\n",
    "\n",
    "import gensim\n",
    "from gensim.utils import simple_preprocess\n",
    "import gensim.corpora as corpora\n",
    "from gensim.models import word2vec\n",
    "from gensim.models import Doc2Vec\n",
    "import multiprocessing\n",
    "from sklearn import utils\n",
    "\n",
    "from sklearn.manifold import TSNE\n",
    "from sklearn.decomposition import PCA\n",
    "\n",
    "from sklearn.model_selection import train_test_split, cross_val_score\n",
    "from sklearn.linear_model import LogisticRegression\n",
    "from sklearn.metrics import accuracy_score, f1_score\n",
    "\n",
    "import matplotlib.pyplot as plt\n",
    "%matplotlib inline\n",
    "import seaborn as sns\n",
    "sns.set_style(\"darkgrid\")\n"
   ]
  },
  {
   "cell_type": "code",
   "execution_count": 2,
   "metadata": {},
   "outputs": [
    {
     "name": "stderr",
     "output_type": "stream",
     "text": [
      "C:\\Users\\okupa\\Anaconda3\\lib\\site-packages\\IPython\\core\\interactiveshell.py:3049: DtypeWarning: Columns (4,5,6,11,16) have mixed types. Specify dtype option on import or set low_memory=False.\n",
      "  interactivity=interactivity, compiler=compiler, result=result)\n"
     ]
    },
    {
     "data": {
      "text/html": [
       "<div>\n",
       "<style scoped>\n",
       "    .dataframe tbody tr th:only-of-type {\n",
       "        vertical-align: middle;\n",
       "    }\n",
       "\n",
       "    .dataframe tbody tr th {\n",
       "        vertical-align: top;\n",
       "    }\n",
       "\n",
       "    .dataframe thead th {\n",
       "        text-align: right;\n",
       "    }\n",
       "</style>\n",
       "<table border=\"1\" class=\"dataframe\">\n",
       "  <thead>\n",
       "    <tr style=\"text-align: right;\">\n",
       "      <th></th>\n",
       "      <th>Consumer complaint narrative</th>\n",
       "      <th>Product</th>\n",
       "    </tr>\n",
       "  </thead>\n",
       "  <tbody>\n",
       "    <tr>\n",
       "      <th>60</th>\n",
       "      <td>I am disputing this debt for XXXX XXXX that is...</td>\n",
       "      <td>Debt collection</td>\n",
       "    </tr>\n",
       "    <tr>\n",
       "      <th>91</th>\n",
       "      <td>Ok education credit management corporation XXX...</td>\n",
       "      <td>Debt collection</td>\n",
       "    </tr>\n",
       "    <tr>\n",
       "      <th>146</th>\n",
       "      <td>The Account from Ability Recovery Services has...</td>\n",
       "      <td>Credit reporting, credit repair services, or o...</td>\n",
       "    </tr>\n",
       "    <tr>\n",
       "      <th>171</th>\n",
       "      <td>I made cash &amp; check deposit at my banks atm on...</td>\n",
       "      <td>Checking or savings account</td>\n",
       "    </tr>\n",
       "    <tr>\n",
       "      <th>172</th>\n",
       "      <td>Monterey Collection is trying to collect on a ...</td>\n",
       "      <td>Debt collection</td>\n",
       "    </tr>\n",
       "    <tr>\n",
       "      <th>173</th>\n",
       "      <td>I was looking through my credit karma and see ...</td>\n",
       "      <td>Credit reporting, credit repair services, or o...</td>\n",
       "    </tr>\n",
       "    <tr>\n",
       "      <th>174</th>\n",
       "      <td>Hi, I am constantly being harassed by a compan...</td>\n",
       "      <td>Debt collection</td>\n",
       "    </tr>\n",
       "    <tr>\n",
       "      <th>187</th>\n",
       "      <td>I ATTENDED XXXX XXXX XXXX FOR A WHILE THEN COU...</td>\n",
       "      <td>Debt collection</td>\n",
       "    </tr>\n",
       "    <tr>\n",
       "      <th>189</th>\n",
       "      <td>First I received communications from Source RM...</td>\n",
       "      <td>Debt collection</td>\n",
       "    </tr>\n",
       "    <tr>\n",
       "      <th>208</th>\n",
       "      <td>On Friday XX/XX/18 I was called 6 times in a r...</td>\n",
       "      <td>Debt collection</td>\n",
       "    </tr>\n",
       "  </tbody>\n",
       "</table>\n",
       "</div>"
      ],
      "text/plain": [
       "                          Consumer complaint narrative  \\\n",
       "60   I am disputing this debt for XXXX XXXX that is...   \n",
       "91   Ok education credit management corporation XXX...   \n",
       "146  The Account from Ability Recovery Services has...   \n",
       "171  I made cash & check deposit at my banks atm on...   \n",
       "172  Monterey Collection is trying to collect on a ...   \n",
       "173  I was looking through my credit karma and see ...   \n",
       "174  Hi, I am constantly being harassed by a compan...   \n",
       "187  I ATTENDED XXXX XXXX XXXX FOR A WHILE THEN COU...   \n",
       "189  First I received communications from Source RM...   \n",
       "208  On Friday XX/XX/18 I was called 6 times in a r...   \n",
       "\n",
       "                                               Product  \n",
       "60                                     Debt collection  \n",
       "91                                     Debt collection  \n",
       "146  Credit reporting, credit repair services, or o...  \n",
       "171                        Checking or savings account  \n",
       "172                                    Debt collection  \n",
       "173  Credit reporting, credit repair services, or o...  \n",
       "174                                    Debt collection  \n",
       "187                                    Debt collection  \n",
       "189                                    Debt collection  \n",
       "208                                    Debt collection  "
      ]
     },
     "execution_count": 2,
     "metadata": {},
     "output_type": "execute_result"
    }
   ],
   "source": [
    "df = pd.read_csv('Consumer_Complaints.csv')\n",
    "df = df[['Consumer complaint narrative','Product']]\n",
    "df = df[pd.notnull(df['Consumer complaint narrative'])]\n",
    "df.head(10)\n"
   ]
  },
  {
   "cell_type": "code",
   "execution_count": 3,
   "metadata": {},
   "outputs": [],
   "source": [
    "df = df.sample(frac = 0.01)\n"
   ]
  },
  {
   "cell_type": "code",
   "execution_count": 4,
   "metadata": {},
   "outputs": [
    {
     "data": {
      "text/plain": [
       "(3546, 2)"
      ]
     },
     "execution_count": 4,
     "metadata": {},
     "output_type": "execute_result"
    }
   ],
   "source": [
    "df.shape\n"
   ]
  },
  {
   "cell_type": "code",
   "execution_count": 5,
   "metadata": {},
   "outputs": [],
   "source": [
    "df.index = range(df.shape[0])\n"
   ]
  },
  {
   "cell_type": "code",
   "execution_count": 6,
   "metadata": {},
   "outputs": [
    {
     "data": {
      "text/plain": [
       "697756"
      ]
     },
     "execution_count": 6,
     "metadata": {},
     "output_type": "execute_result"
    }
   ],
   "source": [
    "df['Consumer complaint narrative'].apply(lambda x: len(x.split(' '))).sum()\n"
   ]
  },
  {
   "cell_type": "code",
   "execution_count": 7,
   "metadata": {},
   "outputs": [
    {
     "data": {
      "image/png": "[encoded data removed]",
      "text/plain": [
       "<Figure size 864x288 with 1 Axes>"
      ]
     },
     "metadata": {
      "needs_background": "light"
     },
     "output_type": "display_data"
    }
   ],
   "source": [
    "cnt_pro = df['Product'].value_counts()\n",
    "\n",
    "plt.figure(figsize=(12,4))\n",
    "sns.barplot(cnt_pro.index, cnt_pro.values, alpha=0.8)\n",
    "plt.ylabel('Number of Occurrences', fontsize=12)\n",
    "plt.xlabel('Product', fontsize=12)\n",
    "plt.xticks(rotation=90)\n",
    "plt.show();\n"
   ]
  },
  {
   "cell_type": "code",
   "execution_count": 8,
   "metadata": {},
   "outputs": [],
   "source": [
    " def print_complaint(index):\n",
    "    example = df[df.index == index][['Consumer complaint narrative', 'Product']].values[0]\n",
    "    if len(example) > 0:\n",
    "        print(example[0])\n",
    "        print('Product:', example[1])\n"
   ]
  },
  {
   "cell_type": "code",
   "execution_count": 9,
   "metadata": {},
   "outputs": [
    {
     "name": "stdout",
     "output_type": "stream",
     "text": [
      "I am a former student of XXXX Colleges and attended the XXXX campus. I was conned into taking out their so-called XXXX loans referred to as XXXX loans. The CFPB sued XXXX XXXX for XXXX XXXX dollars for illegal predatory lending. Unfortunately I was n't able to receive any relief from these predatory loans because my loans were sold before the lawsuit. This in my opinion is unfair, as I was still a victim of predatory lending, and it shouldnt matter whether or not these fraudulent loans were sold or not!! They are still fraud!!! Now they have been sold once again to UAS. I refuse to make any payments on these loans, and I disputed the validity of them with XXXX as well as the FTC. The loans have since been removed from my credit report. I received a notice in the mail on XXXX/XXXX/2015, stating if I didnt make a payment, i would be turned over to collections, and forced to pay all of the fraudulent loan plus fees. I am unemployed, I have no money, and I will not pay this fraudulent loan that I did n't get relief from. \n",
      "It should n't matter that these loans were sold prior to the lawsuit. What matters is, I AM A VICTIM OF PREDATORY LENDING!!! This company is getting away with fraud!! \n",
      "I want relief from these sickening loans!! I want this lending company to cease contact with me. They told me on a recorded line, that they had nothing to do with XXXX XXXX and they could do what ever they wanted. It is my understanding that they have to abide by the same rules as XXXX did, regarding the lawsuit.\n",
      "Product: Student loan\n"
     ]
    }
   ],
   "source": [
    "print_complaint(0)\n"
   ]
  },
  {
   "cell_type": "markdown",
   "metadata": {},
   "source": [
    "# Text preprocessing"
   ]
  },
  {
   "cell_type": "code",
   "execution_count": 10,
   "metadata": {},
   "outputs": [
    {
     "data": {
      "text/plain": [
       "' former student colleges attended campus conned into taking their socalled loans referred loans cfpb sued dollars illegal predatory lending unfortunately able receive relief from these predatory loans because loans were sold before lawsuit this opinion unfair still victim predatory lending shouldnt matter whether these fraudulent loans were sold they still fraud they have been sold once again refuse make payments these loans disputed validity them with well loans have since been removed from credit report received notice mail stating didnt make payment would turned over collections forced fraudulent loan plus fees unemployed have money will this fraudulent loan that relief from should matter that these loans were sold prior lawsuit what matters victim predatory lending this company getting away with fraud want relief from these sickening loans want this lending company cease contact with they told recorded line that they nothing with they could what ever they wanted understanding that they have abide same rules regarding lawsuit'"
      ]
     },
     "execution_count": 10,
     "metadata": {},
     "output_type": "execute_result"
    }
   ],
   "source": [
    "text_corpus = df['Consumer complaint narrative'].values.tolist()\n",
    "text_corpus = [re.sub('([^\\s\\w]|_)+','', doc) for doc in text_corpus] # remove characters that are not letters or numbers\n",
    "text_corpus = [doc.lower() for doc in text_corpus] # lowercase the list\n",
    "text_corpus = [re.sub(r'\\S*@\\S*\\s?', '', doc) for doc in text_corpus] #removing email addresses\n",
    "text_corpus = [re.sub(\"\\'\", \"\", doc) for doc in text_corpus] #removing single quote characters\n",
    "text_corpus = [re.sub(\"\\d\", \"\", doc) for doc in text_corpus] #removing numbers\n",
    "text_corpus = [re.sub(r'\\b\\w{1,3}\\b', '', doc) for doc in text_corpus] #removing short words\n",
    "text_corpus = [re.sub('xx', '', doc) for doc in text_corpus] #removing the xxxx (only for this exercise)\n",
    "\n",
    "#Allways remove spaces after changes\n",
    "text_corpus = [re.sub('\\s+', ' ', doc) for doc in text_corpus] #removing newline characters\n",
    "text_corpus = [re.sub(r'\\s', ' ', str(doc)) for doc in text_corpus] # replace all whitespace characters by ' '\n",
    "\n",
    "text_corpus[0]\n"
   ]
  },
  {
   "cell_type": "code",
   "execution_count": 11,
   "metadata": {},
   "outputs": [],
   "source": [
    "df['Consumer complaint narrative'] = text_corpus\n"
   ]
  },
  {
   "cell_type": "code",
   "execution_count": 12,
   "metadata": {},
   "outputs": [
    {
     "data": {
      "text/html": [
       "<div>\n",
       "<style scoped>\n",
       "    .dataframe tbody tr th:only-of-type {\n",
       "        vertical-align: middle;\n",
       "    }\n",
       "\n",
       "    .dataframe tbody tr th {\n",
       "        vertical-align: top;\n",
       "    }\n",
       "\n",
       "    .dataframe thead th {\n",
       "        text-align: right;\n",
       "    }\n",
       "</style>\n",
       "<table border=\"1\" class=\"dataframe\">\n",
       "  <thead>\n",
       "    <tr style=\"text-align: right;\">\n",
       "      <th></th>\n",
       "      <th>Consumer complaint narrative</th>\n",
       "      <th>Product</th>\n",
       "    </tr>\n",
       "  </thead>\n",
       "  <tbody>\n",
       "    <tr>\n",
       "      <th>0</th>\n",
       "      <td>former student colleges attended campus conne...</td>\n",
       "      <td>Student loan</td>\n",
       "    </tr>\n",
       "    <tr>\n",
       "      <th>1</th>\n",
       "      <td>keybank consistently posted payments made acco...</td>\n",
       "      <td>Credit card</td>\n",
       "    </tr>\n",
       "    <tr>\n",
       "      <th>2</th>\n",
       "      <td>previously filed complaint company never resp...</td>\n",
       "      <td>Debt collection</td>\n",
       "    </tr>\n",
       "    <tr>\n",
       "      <th>3</th>\n",
       "      <td>victim fraud sent digital payment from bank a...</td>\n",
       "      <td>Money transfer, virtual currency, or money ser...</td>\n",
       "    </tr>\n",
       "    <tr>\n",
       "      <th>4</th>\n",
       "      <td>contacted hunter warfield first time regards ...</td>\n",
       "      <td>Debt collection</td>\n",
       "    </tr>\n",
       "  </tbody>\n",
       "</table>\n",
       "</div>"
      ],
      "text/plain": [
       "                        Consumer complaint narrative  \\\n",
       "0   former student colleges attended campus conne...   \n",
       "1  keybank consistently posted payments made acco...   \n",
       "2   previously filed complaint company never resp...   \n",
       "3   victim fraud sent digital payment from bank a...   \n",
       "4   contacted hunter warfield first time regards ...   \n",
       "\n",
       "                                             Product  \n",
       "0                                       Student loan  \n",
       "1                                        Credit card  \n",
       "2                                    Debt collection  \n",
       "3  Money transfer, virtual currency, or money ser...  \n",
       "4                                    Debt collection  "
      ]
     },
     "execution_count": 12,
     "metadata": {},
     "output_type": "execute_result"
    }
   ],
   "source": [
    "df.head()\n"
   ]
  },
  {
   "cell_type": "code",
   "execution_count": 19,
   "metadata": {},
   "outputs": [
    {
     "name": "stderr",
     "output_type": "stream",
     "text": [
      "[nltk_data] Downloading package punkt to\n",
      "[nltk_data]     C:\\Users\\okupa\\AppData\\Roaming\\nltk_data...\n",
      "[nltk_data]   Unzipping tokenizers\\punkt.zip.\n"
     ]
    }
   ],
   "source": [
    "train, test = train_test_split(df, test_size=0.3, random_state=42)\n",
    "\n",
    "nltk.download('punkt')\n",
    "def tokenize_text(text):\n",
    "    tokens = []\n",
    "    for sent in nltk.sent_tokenize(text):\n",
    "        for word in nltk.word_tokenize(sent):\n",
    "            if len(word) < 2:\n",
    "                continue\n",
    "            tokens.append(word.lower())\n",
    "    return tokens\n"
   ]
  },
  {
   "cell_type": "code",
   "execution_count": 20,
   "metadata": {},
   "outputs": [],
   "source": [
    "train_tagged = train.apply(\n",
    "    lambda r: TaggedDocument(words=tokenize_text(r['Consumer complaint narrative']), tags=[r.Product]), axis=1)\n",
    "test_tagged = test.apply(\n",
    "    lambda r: TaggedDocument(words=tokenize_text(r['Consumer complaint narrative']), tags=[r.Product]), axis=1)\n"
   ]
  },
  {
   "cell_type": "code",
   "execution_count": 21,
   "metadata": {},
   "outputs": [
    {
     "data": {
      "text/plain": [
       "TaggedDocument(words=['wrote', 'bureaus', 'about', 'account', 'that', 'have', 'that', 'closed', 'have', 'paid', 'status', 'credit', 'report', 'wrote', 'them', 'asking', 'removal', 'late', 'payment', 'account', 'which', 'still', 'seeing', 'causing', 'negative', 'impact', 'credit', 'just', 'asking', 'removal', 'history', 'late', 'payment', 'credit', 'report', 'concerning', 'account', 'trying', 'obtain', 'some', 'credit', 'this', 'creating', 'negative', 'impact', 'overall', 'credit', 'credit', 'report'], tags=['Credit reporting, credit repair services, or other personal consumer reports'])"
      ]
     },
     "execution_count": 21,
     "metadata": {},
     "output_type": "execute_result"
    }
   ],
   "source": [
    "train_tagged.values[30]\n"
   ]
  },
  {
   "cell_type": "markdown",
   "metadata": {},
   "source": [
    "# Training the model\n",
    "\n",
    "# DBOW"
   ]
  },
  {
   "cell_type": "code",
   "execution_count": 22,
   "metadata": {},
   "outputs": [],
   "source": [
    "cores = multiprocessing.cpu_count()\n"
   ]
  },
  {
   "cell_type": "code",
   "execution_count": 23,
   "metadata": {},
   "outputs": [
    {
     "name": "stderr",
     "output_type": "stream",
     "text": [
      "100%|██████████| 2482/2482 [00:00<00:00, 1402055.56it/s]\n"
     ]
    },
    {
     "name": "stdout",
     "output_type": "stream",
     "text": [
      "Wall time: 183 ms\n"
     ]
    }
   ],
   "source": [
    "%%time\n",
    "model_dbow = Doc2Vec(dm=0, vector_size=300, negative=5, hs=0, min_count=2, sample = 0, workers=cores)\n",
    "model_dbow.build_vocab([x for x in tqdm(train_tagged.values)])\n"
   ]
  },
  {
   "cell_type": "code",
   "execution_count": 24,
   "metadata": {},
   "outputs": [
    {
     "name": "stderr",
     "output_type": "stream",
     "text": [
      "100%|██████████| 2482/2482 [00:00<00:00, 1243907.58it/s]\n",
      "100%|██████████| 2482/2482 [00:00<00:00, 1244204.92it/s]\n",
      "100%|██████████| 2482/2482 [00:00<00:00, 2488707.27it/s]\n",
      "100%|██████████| 2482/2482 [00:00<00:00, 2490493.43it/s]\n",
      "100%|██████████| 2482/2482 [00:00<00:00, 2489897.76it/s]\n",
      "100%|██████████| 2482/2482 [00:00<00:00, 2475686.69it/s]\n",
      "100%|██████████| 2482/2482 [00:00<00:00, 2491089.38it/s]\n",
      "100%|██████████| 2482/2482 [00:00<00:00, 2499462.79it/s]\n",
      "100%|██████████| 2482/2482 [00:00<00:00, 1244056.23it/s]\n",
      "100%|██████████| 2482/2482 [00:00<00:00, 1244353.64it/s]\n",
      "100%|██████████| 2482/2482 [00:00<00:00, 1243758.96it/s]\n",
      "100%|██████████| 2482/2482 [00:00<00:00, 1244056.23it/s]\n",
      "100%|██████████| 2482/2482 [00:00<00:00, 1244204.92it/s]\n",
      "100%|██████████| 2482/2482 [00:00<00:00, 1241237.93it/s]\n",
      "100%|██████████| 2482/2482 [00:00<00:00, 2489302.37it/s]\n",
      "100%|██████████| 2482/2482 [00:00<00:00, 2489302.37it/s]\n",
      "100%|██████████| 2482/2482 [00:00<00:00, 2486923.68it/s]\n",
      "100%|██████████| 2482/2482 [00:00<?, ?it/s]\n",
      "100%|██████████| 2482/2482 [00:00<00:00, 2486923.68it/s]\n",
      "100%|██████████| 2482/2482 [00:00<00:00, 1241237.93it/s]\n",
      "100%|██████████| 2482/2482 [00:00<00:00, 2473333.93it/s]\n",
      "100%|██████████| 2482/2482 [00:00<00:00, 1243758.96it/s]\n",
      "100%|██████████| 2482/2482 [00:00<00:00, 1244502.39it/s]\n",
      "100%|██████████| 2482/2482 [00:00<?, ?it/s]\n",
      "100%|██████████| 2482/2482 [00:00<00:00, 2487517.93it/s]\n",
      "100%|██████████| 2482/2482 [00:00<00:00, 2489302.37it/s]\n",
      "100%|██████████| 2482/2482 [00:00<00:00, 2488707.27it/s]\n",
      "100%|██████████| 2482/2482 [00:00<00:00, 2489302.37it/s]\n",
      "100%|██████████| 2482/2482 [00:00<00:00, 2486923.68it/s]\n",
      "100%|██████████| 2482/2482 [00:00<00:00, 2489897.76it/s]\n"
     ]
    },
    {
     "name": "stdout",
     "output_type": "stream",
     "text": [
      "Wall time: 5.71 s\n"
     ]
    }
   ],
   "source": [
    "%%time\n",
    "for epoch in range(30):\n",
    "    model_dbow.train(\n",
    "        utils.shuffle([x for x in tqdm(train_tagged.values)]),\n",
    "        total_examples=len(train_tagged.values),\n",
    "        epochs=1)\n",
    "    model_dbow.alpha -= 0.002\n",
    "    model_dbow.min_alpha = model_dbow.alpha\n"
   ]
  },
  {
   "cell_type": "markdown",
   "metadata": {},
   "source": [
    "# Buliding the final vector feature for the classifier"
   ]
  },
  {
   "cell_type": "code",
   "execution_count": 25,
   "metadata": {},
   "outputs": [],
   "source": [
    "def vec_for_learning(model, tagged_docs):\n",
    "    sents = tagged_docs.values\n",
    "    targets, regressors = zip(*[(doc.tags[0], model.infer_vector(doc.words, steps=20)) for doc in sents])\n",
    "    return targets, regressors\n"
   ]
  },
  {
   "cell_type": "code",
   "execution_count": 27,
   "metadata": {},
   "outputs": [],
   "source": [
    "y_train, X_train = vec_for_learning(model_dbow, train_tagged)\n",
    "y_test, X_test = vec_for_learning(model_dbow, test_tagged)\n"
   ]
  },
  {
   "cell_type": "code",
   "execution_count": 30,
   "metadata": {},
   "outputs": [
    {
     "name": "stderr",
     "output_type": "stream",
     "text": [
      "C:\\Users\\okupa\\Anaconda3\\lib\\site-packages\\sklearn\\linear_model\\logistic.py:433: FutureWarning: Default solver will be changed to 'lbfgs' in 0.22. Specify a solver to silence this warning.\n",
      "  FutureWarning)\n",
      "C:\\Users\\okupa\\Anaconda3\\lib\\site-packages\\sklearn\\linear_model\\logistic.py:460: FutureWarning: Default multi_class will be changed to 'auto' in 0.22. Specify the multi_class option to silence this warning.\n",
      "  \"this warning.\", FutureWarning)\n"
     ]
    }
   ],
   "source": [
    "logreg = LogisticRegression(n_jobs=1, C=1e5)\n",
    "logreg.fit(X_train, y_train)\n",
    "y_pred = logreg.predict(X_test)\n"
   ]
  },
  {
   "cell_type": "code",
   "execution_count": 33,
   "metadata": {},
   "outputs": [
    {
     "name": "stdout",
     "output_type": "stream",
     "text": [
      "Testing accuracy 0.5028195488721805\n"
     ]
    },
    {
     "name": "stderr",
     "output_type": "stream",
     "text": [
      "C:\\Users\\okupa\\Anaconda3\\lib\\site-packages\\sklearn\\metrics\\classification.py:1143: UndefinedMetricWarning: F-score is ill-defined and being set to 0.0 in labels with no predicted samples.\n",
      "  'precision', 'predicted', average, warn_for)\n",
      "C:\\Users\\okupa\\Anaconda3\\lib\\site-packages\\sklearn\\metrics\\classification.py:1145: UndefinedMetricWarning: F-score is ill-defined and being set to 0.0 in labels with no true samples.\n",
      "  'recall', 'true', average, warn_for)\n"
     ]
    },
    {
     "name": "stdout",
     "output_type": "stream",
     "text": [
      "Testing F1 score: 0.4806404712121336\n"
     ]
    }
   ],
   "source": [
    "print('Testing accuracy %s' % accuracy_score(y_test, y_pred))\n",
    "print('Testing F1 score: {}'.format(f1_score(y_test, y_pred, average='weighted')))\n"
   ]
  }
 ],
 "metadata": {
  "kernelspec": {
   "display_name": "Python 3",
   "language": "python",
   "name": "python3"
  },
  "language_info": {
   "codemirror_mode": {
    "name": "ipython",
    "version": 3
   },
   "file_extension": ".py",
   "mimetype": "text/x-python",
   "name": "python",
   "nbconvert_exporter": "python",
   "pygments_lexer": "ipython3",
   "version": "3.6.8"
  }
 },
 "nbformat": 4,
 "nbformat_minor": 2
}
