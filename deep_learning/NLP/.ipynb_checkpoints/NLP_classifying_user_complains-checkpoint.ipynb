{
 "cells": [
  {
   "cell_type": "markdown",
   "metadata": {},
   "source": [
    "# Sebastian Garcia\n",
    "# Classifying user complains"
   ]
  },
  {
   "cell_type": "code",
   "execution_count": 1,
   "metadata": {},
   "outputs": [],
   "source": [
    "import pandas as pd\n",
    "import numpy as np\n",
    "from sklearn.feature_extraction.text import TfidfVectorizer\n",
    "from sklearn.model_selection import train_test_split, cross_val_score\n",
    "from sklearn import preprocessing\n",
    "from imblearn.combine import SMOTETomek\n",
    "from sklearn.naive_bayes import MultinomialNB\n",
    "from sklearn.svm import SVC\n",
    "from sklearn.linear_model import LogisticRegression\n",
    "from sklearn.ensemble import RandomForestClassifier\n",
    "import matplotlib.pyplot as plt\n",
    "from sklearn.model_selection import GridSearchCV, RandomizedSearchCV\n",
    "from sklearn.metrics import classification_report, confusion_matrix  \n",
    "from sklearn import metrics\n",
    "from sklearn.feature_selection import chi2\n",
    "from io import StringIO\n"
   ]
  },
  {
   "cell_type": "code",
   "execution_count": 2,
   "metadata": {},
   "outputs": [
    {
     "name": "stderr",
     "output_type": "stream",
     "text": [
      "/Users/acallil/anaconda3/lib/python3.7/site-packages/IPython/core/interactiveshell.py:3049: DtypeWarning: Columns (4,5,6,11,16) have mixed types. Specify dtype option on import or set low_memory=False.\n",
      "  interactivity=interactivity, compiler=compiler, result=result)\n"
     ]
    },
    {
     "data": {
      "text/html": [
       "<div>\n",
       "<style scoped>\n",
       "    .dataframe tbody tr th:only-of-type {\n",
       "        vertical-align: middle;\n",
       "    }\n",
       "\n",
       "    .dataframe tbody tr th {\n",
       "        vertical-align: top;\n",
       "    }\n",
       "\n",
       "    .dataframe thead th {\n",
       "        text-align: right;\n",
       "    }\n",
       "</style>\n",
       "<table border=\"1\" class=\"dataframe\">\n",
       "  <thead>\n",
       "    <tr style=\"text-align: right;\">\n",
       "      <th></th>\n",
       "      <th>Date received</th>\n",
       "      <th>Product</th>\n",
       "      <th>Sub-product</th>\n",
       "      <th>Issue</th>\n",
       "      <th>Sub-issue</th>\n",
       "      <th>Consumer complaint narrative</th>\n",
       "      <th>Company public response</th>\n",
       "      <th>Company</th>\n",
       "      <th>State</th>\n",
       "      <th>ZIP code</th>\n",
       "      <th>Tags</th>\n",
       "      <th>Consumer consent provided?</th>\n",
       "      <th>Submitted via</th>\n",
       "      <th>Date sent to company</th>\n",
       "      <th>Company response to consumer</th>\n",
       "      <th>Timely response?</th>\n",
       "      <th>Consumer disputed?</th>\n",
       "      <th>Complaint ID</th>\n",
       "    </tr>\n",
       "  </thead>\n",
       "  <tbody>\n",
       "    <tr>\n",
       "      <th>0</th>\n",
       "      <td>12/31/2018</td>\n",
       "      <td>Credit reporting, credit repair services, or o...</td>\n",
       "      <td>Credit reporting</td>\n",
       "      <td>Problem with a credit reporting company's inve...</td>\n",
       "      <td>Their investigation did not fix an error on yo...</td>\n",
       "      <td>NaN</td>\n",
       "      <td>NaN</td>\n",
       "      <td>Convergent Resources, Inc.</td>\n",
       "      <td>GA</td>\n",
       "      <td>NaN</td>\n",
       "      <td>NaN</td>\n",
       "      <td>NaN</td>\n",
       "      <td>Web</td>\n",
       "      <td>12/31/2018</td>\n",
       "      <td>Closed with explanation</td>\n",
       "      <td>Yes</td>\n",
       "      <td>NaN</td>\n",
       "      <td>3113161</td>\n",
       "    </tr>\n",
       "    <tr>\n",
       "      <th>1</th>\n",
       "      <td>12/31/2018</td>\n",
       "      <td>Vehicle loan or lease</td>\n",
       "      <td>Lease</td>\n",
       "      <td>Managing the loan or lease</td>\n",
       "      <td>Problem with fees charged</td>\n",
       "      <td>NaN</td>\n",
       "      <td>NaN</td>\n",
       "      <td>MERCEDES BENZ FINANCIAL SERVICES</td>\n",
       "      <td>CA</td>\n",
       "      <td>NaN</td>\n",
       "      <td>NaN</td>\n",
       "      <td>Other</td>\n",
       "      <td>Web</td>\n",
       "      <td>12/31/2018</td>\n",
       "      <td>In progress</td>\n",
       "      <td>Yes</td>\n",
       "      <td>NaN</td>\n",
       "      <td>3113131</td>\n",
       "    </tr>\n",
       "    <tr>\n",
       "      <th>2</th>\n",
       "      <td>12/31/2018</td>\n",
       "      <td>Debt collection</td>\n",
       "      <td>Medical debt</td>\n",
       "      <td>Attempts to collect debt not owed</td>\n",
       "      <td>Debt is not yours</td>\n",
       "      <td>NaN</td>\n",
       "      <td>NaN</td>\n",
       "      <td>BCA Financial Services, Inc.</td>\n",
       "      <td>FL</td>\n",
       "      <td>336XX</td>\n",
       "      <td>NaN</td>\n",
       "      <td>NaN</td>\n",
       "      <td>Web</td>\n",
       "      <td>12/31/2018</td>\n",
       "      <td>In progress</td>\n",
       "      <td>Yes</td>\n",
       "      <td>NaN</td>\n",
       "      <td>3113586</td>\n",
       "    </tr>\n",
       "    <tr>\n",
       "      <th>3</th>\n",
       "      <td>12/31/2018</td>\n",
       "      <td>Credit reporting, credit repair services, or o...</td>\n",
       "      <td>Credit reporting</td>\n",
       "      <td>Problem with a credit reporting company's inve...</td>\n",
       "      <td>Their investigation did not fix an error on yo...</td>\n",
       "      <td>NaN</td>\n",
       "      <td>NaN</td>\n",
       "      <td>Commonwealth Financial Systems, Inc.</td>\n",
       "      <td>GA</td>\n",
       "      <td>NaN</td>\n",
       "      <td>NaN</td>\n",
       "      <td>NaN</td>\n",
       "      <td>Web</td>\n",
       "      <td>12/31/2018</td>\n",
       "      <td>Closed with explanation</td>\n",
       "      <td>Yes</td>\n",
       "      <td>NaN</td>\n",
       "      <td>3113440</td>\n",
       "    </tr>\n",
       "    <tr>\n",
       "      <th>4</th>\n",
       "      <td>12/31/2018</td>\n",
       "      <td>Student loan</td>\n",
       "      <td>Federal student loan servicing</td>\n",
       "      <td>Dealing with your lender or servicer</td>\n",
       "      <td>Trouble with how payments are being handled</td>\n",
       "      <td>NaN</td>\n",
       "      <td>NaN</td>\n",
       "      <td>AES/PHEAA</td>\n",
       "      <td>OR</td>\n",
       "      <td>NaN</td>\n",
       "      <td>NaN</td>\n",
       "      <td>NaN</td>\n",
       "      <td>Web</td>\n",
       "      <td>12/31/2018</td>\n",
       "      <td>Closed with explanation</td>\n",
       "      <td>Yes</td>\n",
       "      <td>NaN</td>\n",
       "      <td>3113157</td>\n",
       "    </tr>\n",
       "  </tbody>\n",
       "</table>\n",
       "</div>"
      ],
      "text/plain": [
       "  Date received                                            Product  \\\n",
       "0    12/31/2018  Credit reporting, credit repair services, or o...   \n",
       "1    12/31/2018                              Vehicle loan or lease   \n",
       "2    12/31/2018                                    Debt collection   \n",
       "3    12/31/2018  Credit reporting, credit repair services, or o...   \n",
       "4    12/31/2018                                       Student loan   \n",
       "\n",
       "                      Sub-product  \\\n",
       "0                Credit reporting   \n",
       "1                           Lease   \n",
       "2                    Medical debt   \n",
       "3                Credit reporting   \n",
       "4  Federal student loan servicing   \n",
       "\n",
       "                                               Issue  \\\n",
       "0  Problem with a credit reporting company's inve...   \n",
       "1                         Managing the loan or lease   \n",
       "2                  Attempts to collect debt not owed   \n",
       "3  Problem with a credit reporting company's inve...   \n",
       "4               Dealing with your lender or servicer   \n",
       "\n",
       "                                           Sub-issue  \\\n",
       "0  Their investigation did not fix an error on yo...   \n",
       "1                          Problem with fees charged   \n",
       "2                                  Debt is not yours   \n",
       "3  Their investigation did not fix an error on yo...   \n",
       "4        Trouble with how payments are being handled   \n",
       "\n",
       "  Consumer complaint narrative Company public response  \\\n",
       "0                          NaN                     NaN   \n",
       "1                          NaN                     NaN   \n",
       "2                          NaN                     NaN   \n",
       "3                          NaN                     NaN   \n",
       "4                          NaN                     NaN   \n",
       "\n",
       "                                Company State ZIP code Tags  \\\n",
       "0            Convergent Resources, Inc.    GA      NaN  NaN   \n",
       "1      MERCEDES BENZ FINANCIAL SERVICES    CA      NaN  NaN   \n",
       "2          BCA Financial Services, Inc.    FL    336XX  NaN   \n",
       "3  Commonwealth Financial Systems, Inc.    GA      NaN  NaN   \n",
       "4                             AES/PHEAA    OR      NaN  NaN   \n",
       "\n",
       "  Consumer consent provided? Submitted via Date sent to company  \\\n",
       "0                        NaN           Web           12/31/2018   \n",
       "1                      Other           Web           12/31/2018   \n",
       "2                        NaN           Web           12/31/2018   \n",
       "3                        NaN           Web           12/31/2018   \n",
       "4                        NaN           Web           12/31/2018   \n",
       "\n",
       "  Company response to consumer Timely response? Consumer disputed?  \\\n",
       "0      Closed with explanation              Yes                NaN   \n",
       "1                  In progress              Yes                NaN   \n",
       "2                  In progress              Yes                NaN   \n",
       "3      Closed with explanation              Yes                NaN   \n",
       "4      Closed with explanation              Yes                NaN   \n",
       "\n",
       "   Complaint ID  \n",
       "0       3113161  \n",
       "1       3113131  \n",
       "2       3113586  \n",
       "3       3113440  \n",
       "4       3113157  "
      ]
     },
     "execution_count": 2,
     "metadata": {},
     "output_type": "execute_result"
    }
   ],
   "source": [
    "dataframe = pd.read_csv('Consumer_Complaints.csv')\n",
    "dataframe.head()\n"
   ]
  },
  {
   "cell_type": "code",
   "execution_count": 3,
   "metadata": {},
   "outputs": [],
   "source": [
    "# Taking a random sample from the data\n",
    "dataframe = dataframe.sample(frac = 0.0025)\n"
   ]
  },
  {
   "cell_type": "code",
   "execution_count": 4,
   "metadata": {},
   "outputs": [],
   "source": [
    "# Chosing only feature rows with values\n",
    "df = dataframe[pd.notnull(dataframe['Consumer complaint narrative'])]\n"
   ]
  },
  {
   "cell_type": "code",
   "execution_count": 5,
   "metadata": {},
   "outputs": [
    {
     "data": {
      "text/plain": [
       "Date received                     0\n",
       "Product                           0\n",
       "Sub-product                     127\n",
       "Issue                             0\n",
       "Sub-issue                       278\n",
       "Consumer complaint narrative      0\n",
       "Company public response         447\n",
       "Company                           0\n",
       "State                             4\n",
       "ZIP code                        204\n",
       "Tags                            746\n",
       "Consumer consent provided?        0\n",
       "Submitted via                     0\n",
       "Date sent to company              0\n",
       "Company response to consumer      0\n",
       "Timely response?                  0\n",
       "Consumer disputed?              497\n",
       "Complaint ID                      0\n",
       "dtype: int64"
      ]
     },
     "execution_count": 5,
     "metadata": {},
     "output_type": "execute_result"
    }
   ],
   "source": [
    "# Check for NaNs \n",
    "df.isna().sum()\n"
   ]
  },
  {
   "cell_type": "code",
   "execution_count": 6,
   "metadata": {},
   "outputs": [
    {
     "data": {
      "text/html": [
       "<div>\n",
       "<style scoped>\n",
       "    .dataframe tbody tr th:only-of-type {\n",
       "        vertical-align: middle;\n",
       "    }\n",
       "\n",
       "    .dataframe tbody tr th {\n",
       "        vertical-align: top;\n",
       "    }\n",
       "\n",
       "    .dataframe thead th {\n",
       "        text-align: right;\n",
       "    }\n",
       "</style>\n",
       "<table border=\"1\" class=\"dataframe\">\n",
       "  <thead>\n",
       "    <tr style=\"text-align: right;\">\n",
       "      <th></th>\n",
       "      <th>Product</th>\n",
       "      <th>Consumer_complaint_narrative</th>\n",
       "      <th>category_id</th>\n",
       "    </tr>\n",
       "  </thead>\n",
       "  <tbody>\n",
       "    <tr>\n",
       "      <th>401583</th>\n",
       "      <td>Mortgage</td>\n",
       "      <td>I have been here for over 10 years I 'm not re...</td>\n",
       "      <td>0</td>\n",
       "    </tr>\n",
       "    <tr>\n",
       "      <th>136646</th>\n",
       "      <td>Credit reporting, credit repair services, or o...</td>\n",
       "      <td>On XX/XX/XXXX I paid XXXX XXXX {$150.00} on ac...</td>\n",
       "      <td>1</td>\n",
       "    </tr>\n",
       "    <tr>\n",
       "      <th>274377</th>\n",
       "      <td>Credit reporting, credit repair services, or o...</td>\n",
       "      <td>I recently viewed my Credit Report from each B...</td>\n",
       "      <td>1</td>\n",
       "    </tr>\n",
       "    <tr>\n",
       "      <th>444434</th>\n",
       "      <td>Debt collection</td>\n",
       "      <td>I received a collection notice from Crown Asse...</td>\n",
       "      <td>2</td>\n",
       "    </tr>\n",
       "    <tr>\n",
       "      <th>624141</th>\n",
       "      <td>Mortgage</td>\n",
       "      <td>I went to make my mortgage payment on XXXX XXX...</td>\n",
       "      <td>0</td>\n",
       "    </tr>\n",
       "  </tbody>\n",
       "</table>\n",
       "</div>"
      ],
      "text/plain": [
       "                                                  Product  \\\n",
       "401583                                           Mortgage   \n",
       "136646  Credit reporting, credit repair services, or o...   \n",
       "274377  Credit reporting, credit repair services, or o...   \n",
       "444434                                    Debt collection   \n",
       "624141                                           Mortgage   \n",
       "\n",
       "                             Consumer_complaint_narrative  category_id  \n",
       "401583  I have been here for over 10 years I 'm not re...            0  \n",
       "136646  On XX/XX/XXXX I paid XXXX XXXX {$150.00} on ac...            1  \n",
       "274377  I recently viewed my Credit Report from each B...            1  \n",
       "444434  I received a collection notice from Crown Asse...            2  \n",
       "624141  I went to make my mortgage payment on XXXX XXX...            0  "
      ]
     },
     "execution_count": 6,
     "metadata": {},
     "output_type": "execute_result"
    }
   ],
   "source": [
    "# Organizing data frame\n",
    "col = ['Product', 'Consumer complaint narrative']\n",
    "df = df[col]\n",
    "df = df[pd.notnull(df['Consumer complaint narrative'])]\n",
    "df.columns = ['Product', 'Consumer_complaint_narrative']\n",
    "df['category_id'] = df['Product'].factorize()[0]\n",
    "category_id_df = df[['Product', 'category_id']].drop_duplicates().sort_values('category_id')\n",
    "category_to_id = dict(category_id_df.values)\n",
    "id_to_category = dict(category_id_df[['category_id', 'Product']].values)\n",
    "df.head()\n"
   ]
  },
  {
   "cell_type": "code",
   "execution_count": 7,
   "metadata": {},
   "outputs": [
    {
     "data": {
      "image/png": "[encoded data removed]",
      "text/plain": [
       "<Figure size 576x432 with 1 Axes>"
      ]
     },
     "metadata": {
      "needs_background": "light"
     },
     "output_type": "display_data"
    }
   ],
   "source": [
    "# Check for classes imbalances\n",
    "fig = plt.figure(figsize=(8, 6))\n",
    "df.groupby('Product').Consumer_complaint_narrative.count().plot.bar(ylim=0)\n",
    "plt.show()\n"
   ]
  },
  {
   "cell_type": "code",
   "execution_count": 8,
   "metadata": {},
   "outputs": [
    {
     "name": "stdout",
     "output_type": "stream",
     "text": [
      "(891, 1497)\n"
     ]
    }
   ],
   "source": [
    "# Identifying target and feature columns\n",
    "tfidf = TfidfVectorizer(stop_words='english', lowercase=True, \n",
    "                             max_df=0.9, min_df=0.01, ngram_range=(1,2))\n",
    "X = tfidf.fit_transform(df.Consumer_complaint_narrative).toarray()\n",
    "labels = df.category_id\n",
    "complaints_y = df['Product']\n",
    "print(X.shape)\n"
   ]
  },
  {
   "cell_type": "code",
   "execution_count": 9,
   "metadata": {},
   "outputs": [
    {
     "data": {
      "text/plain": [
       "array([10,  6,  6,  7, 10,  7,  6,  7,  6,  6, 11,  2, 10,  6,  7,  7, 10,\n",
       "        7,  6, 11, 14,  7,  7,  7,  6,  7,  3,  6,  3,  5, 10, 10, 14,  6,\n",
       "        7,  7, 15,  5,  5, 13,  7,  6,  7,  4, 10,  2,  4,  7, 10,  0,  6,\n",
       "        6,  3,  7,  7,  1,  6,  0, 12,  7,  7,  6,  7,  5,  6,  0,  2,  1,\n",
       "        6,  5,  2,  7, 14,  6,  6,  4,  8,  4,  4, 10,  9,  7,  4,  4,  6,\n",
       "        6,  7,  3,  3,  6,  5,  3,  7, 10,  7,  6,  6,  6,  7,  0,  7,  6,\n",
       "        7,  7,  0,  7,  5, 12,  6,  7,  7,  6, 10,  7,  6,  6,  0,  7, 14,\n",
       "        7,  5,  2,  7, 15,  6,  7,  6,  7,  1,  7,  1,  6,  5,  6, 10,  6,\n",
       "        1,  6,  7,  6,  7,  0, 10,  7,  4, 10,  6,  6,  3, 14,  0, 15,  7,\n",
       "        6,  8, 13,  6, 10,  7,  4,  6,  6,  7,  4, 10,  5,  4,  7, 10,  6,\n",
       "        6,  6,  4, 10, 14, 10,  0,  7,  1,  0,  7, 10,  7,  5,  6,  7,  7,\n",
       "        3,  0,  1,  5, 10,  6,  1,  7, 10,  4,  7,  6,  3,  0,  7, 10,  6,\n",
       "        6, 15, 15,  6,  7,  7,  6,  6,  3,  1, 10,  5,  7,  6,  6, 10,  6,\n",
       "        3,  7, 10, 14, 10,  7,  3, 10, 10,  7,  5, 14,  7, 10, 10,  6, 10,\n",
       "       11,  6,  6, 10,  4,  6,  7,  7,  4, 10, 14, 14,  7, 15,  9,  7,  3,\n",
       "       10,  1, 10,  6,  7, 14,  0,  6,  3, 14,  6, 14,  5,  7,  7, 14,  6,\n",
       "        5, 10,  1,  7,  6, 10,  7, 10,  5,  1,  1,  6, 14, 14,  7,  3, 14,\n",
       "        7,  6,  5,  7,  2,  6,  5, 14,  1, 10, 10,  6,  6, 10,  5,  6,  0,\n",
       "        6,  7,  7,  0,  7,  6,  6,  6, 14, 10,  2,  7,  6,  5,  6,  6, 10,\n",
       "        7,  6,  7,  6,  7,  7,  7,  6,  7,  6,  7,  6, 10,  6,  6,  7,  6,\n",
       "        0,  7,  3,  6,  6,  6,  6,  7, 12, 14, 10,  7, 10,  7,  1,  7,  7,\n",
       "        6,  7, 10,  6,  6,  4,  7,  1,  6,  7, 10,  6, 10, 10,  6,  7,  6,\n",
       "        6, 10,  7,  6,  7, 10, 15,  8,  3, 10,  7,  1, 14,  5,  4,  7,  7,\n",
       "        6,  6,  7,  8, 13,  7,  7,  7,  7,  5, 14,  3, 14, 10,  7, 10,  3,\n",
       "        7,  6,  6,  6,  7, 10,  3,  6,  7, 10,  5,  4,  7,  7, 10, 10,  1,\n",
       "       14,  1, 10,  5,  6,  7,  6, 10,  6,  0,  5,  5, 10, 10,  7,  4, 10,\n",
       "        7,  7, 15,  7,  5,  5,  4,  6,  7,  7, 14,  6,  6,  5,  1, 10, 10,\n",
       "        1,  6, 10,  7,  6,  7,  9,  6,  6,  0,  7,  3,  7,  5, 10,  6,  4,\n",
       "        5,  6,  6, 10,  7,  7,  6,  3,  3,  3, 15, 12,  6,  7, 10, 10,  7,\n",
       "        7, 11,  2,  2,  6,  7, 10,  3,  7,  6, 13,  3,  5,  0, 12, 15,  7,\n",
       "        6,  0,  3, 12,  6,  7,  3,  6, 14, 13,  1,  3,  7,  7,  7,  7, 10,\n",
       "       10,  0,  3,  4, 14,  5, 14,  6,  0, 10,  3,  6,  7,  0,  3,  6,  7,\n",
       "        3,  4,  5,  7,  1,  7, 10,  6,  6,  5,  7, 10,  0,  3,  6,  4,  5,\n",
       "        6,  7,  3, 10,  7,  3,  6,  3, 10,  6,  7,  3,  6, 10, 15,  6,  6,\n",
       "        6,  8,  7,  6,  6,  6,  4,  5,  8,  3, 14,  7, 15,  6,  7,  1, 10,\n",
       "       12, 10, 10,  3, 10,  7,  7,  6,  3,  7,  2,  7,  3,  0,  4, 10,  0,\n",
       "       10,  4,  7,  5,  5, 10,  6,  3,  0,  7, 15, 14,  2,  6,  7,  6,  3,\n",
       "       14,  5,  7, 10,  0,  6,  6, 14, 12,  6,  6, 13,  8,  1,  6,  6,  6,\n",
       "        4, 11,  6, 14, 10,  4,  0,  5, 12, 14,  5,  1,  7,  4,  7,  2,  6,\n",
       "        7,  7,  3,  7, 10,  7,  7,  6,  0, 10,  6,  0,  6,  5,  6,  6,  7,\n",
       "       12,  4,  7,  7,  7,  0,  3,  6, 10,  2,  7,  7,  7,  5,  6,  6,  1,\n",
       "        3, 14,  4, 10,  6, 13,  6, 11,  9,  1, 15,  5,  3,  2,  1, 14, 13,\n",
       "        7,  7,  1,  6,  1,  3,  7,  6,  4,  6,  3,  6,  7,  1,  6,  6,  6,\n",
       "        6,  4,  4,  0,  7,  5, 15,  7,  6,  6,  0,  7, 10,  1,  7,  4, 10,\n",
       "        0,  7,  3,  7,  5, 10, 10,  5,  1, 14, 13,  6,  0,  6,  5,  6,  7,\n",
       "       13,  7,  6,  3, 10, 14,  6,  4,  6,  8,  7,  6, 10,  6,  7,  6,  4,\n",
       "       10,  4,  7,  6, 10,  7,  6, 10,  3, 10,  7, 10,  5, 13,  7,  6,  7,\n",
       "        5,  5,  7,  5,  0,  3,  6, 10,  5,  6, 10, 14, 10,  7,  7,  7,  7,\n",
       "       10,  7,  6,  7,  7,  6,  0,  5,  0,  3,  5,  4, 10,  7,  4,  5, 15,\n",
       "        6,  5,  6,  0,  3, 10,  6,  4,  7,  6,  6,  1,  7, 14,  7,  4,  7,\n",
       "        2,  7,  6, 11,  0, 10, 10,  5,  6,  7,  6,  6,  6,  5,  7, 14,  7,\n",
       "        7, 15,  7,  6,  3, 14,  2, 10,  6,  6,  6,  7,  1, 14, 15,  5, 15,\n",
       "        0,  6, 10, 10,  3,  2, 14])"
      ]
     },
     "execution_count": 9,
     "metadata": {},
     "output_type": "execute_result"
    }
   ],
   "source": [
    "# Applying Label Enconder to the dependent variable\n",
    "le = preprocessing.LabelEncoder()\n",
    "le.fit(complaints_y)\n",
    "y = le.transform(complaints_y)\n",
    "y\n"
   ]
  },
  {
   "cell_type": "code",
   "execution_count": 10,
   "metadata": {},
   "outputs": [
    {
     "name": "stdout",
     "output_type": "stream",
     "text": [
      "# 'Bank account or service':\n",
      "  . Most correlated unigrams:\n",
      ". transactions\n",
      ". write\n",
      "  . Most correlated bigrams:\n",
      ". checking account\n",
      ". direct deposit\n",
      "# 'Checking or savings account':\n",
      "  . Most correlated unigrams:\n",
      ". savings\n",
      ". transactions\n",
      "  . Most correlated bigrams:\n",
      ". debit card\n",
      ". xxxx account\n",
      "# 'Consumer Loan':\n",
      "  . Most correlated unigrams:\n",
      ". update\n",
      ". vehicle\n",
      "  . Most correlated bigrams:\n",
      ". did pay\n",
      ". today xxxx\n",
      "# 'Credit card':\n",
      "  . Most correlated unigrams:\n",
      ". limit\n",
      ". ran\n",
      "  . Most correlated bigrams:\n",
      ". xxxx 2015\n",
      ". xxxx statement\n",
      "# 'Credit card or prepaid card':\n",
      "  . Most correlated unigrams:\n",
      ". refund\n",
      ". website\n",
      "  . Most correlated bigrams:\n",
      ". fee xxxx\n",
      ". late fee\n",
      "# 'Credit reporting':\n",
      "  . Most correlated unigrams:\n",
      ". transunion\n",
      ". union\n",
      "  . Most correlated bigrams:\n",
      ". incorrect information\n",
      ". report credit\n",
      "# 'Credit reporting, credit repair services, or other personal consumer reports':\n",
      "  . Most correlated unigrams:\n",
      ". understanding\n",
      ". verified\n",
      "  . Most correlated bigrams:\n",
      ". xxxx transunion\n",
      ". xxxx xx\n",
      "# 'Debt collection':\n",
      "  . Most correlated unigrams:\n",
      ". violation\n",
      ". written\n",
      "  . Most correlated bigrams:\n",
      ". validation debt\n",
      ". xxxx letter\n",
      "# 'Money transfer, virtual currency, or money service':\n",
      "  . Most correlated unigrams:\n",
      ". resulted\n",
      ". transaction\n",
      "  . Most correlated bigrams:\n",
      ". xxxx customer\n",
      ". xxxx months\n",
      "# 'Money transfers':\n",
      "  . Most correlated unigrams:\n",
      ". twice\n",
      ". union\n",
      "  . Most correlated bigrams:\n",
      ". xxxx year\n",
      ". year xxxx\n",
      "# 'Mortgage':\n",
      "  . Most correlated unigrams:\n",
      ". value\n",
      ". wells\n",
      "  . Most correlated bigrams:\n",
      ". wells fargo\n",
      ". xxxx mortgage\n",
      "# 'Payday loan':\n",
      "  . Most correlated unigrams:\n",
      ". sending\n",
      ". unethical\n",
      "  . Most correlated bigrams:\n",
      ". xx 2016\n",
      ". xxxx stating\n",
      "# 'Payday loan, title loan, or personal loan':\n",
      "  . Most correlated unigrams:\n",
      ". title\n",
      ". took\n",
      "  . Most correlated bigrams:\n",
      ". xxxx dollars\n",
      ". xxxx loan\n",
      "# 'Prepaid card':\n",
      "  . Most correlated unigrams:\n",
      ". waiting\n",
      ". working\n",
      "  . Most correlated bigrams:\n",
      ". supervisor xxxx\n",
      ". weeks ago\n",
      "# 'Student loan':\n",
      "  . Most correlated unigrams:\n",
      ". servicer\n",
      ". student\n",
      "  . Most correlated bigrams:\n",
      ". student loan\n",
      ". student loans\n",
      "# 'Vehicle loan or lease':\n",
      "  . Most correlated unigrams:\n",
      ". value\n",
      ". vehicle\n",
      "  . Most correlated bigrams:\n",
      ". let know\n",
      ". payments time\n"
     ]
    }
   ],
   "source": [
    "# Using Chi2 to find the terms that are the most correlated with each of the products\n",
    "\n",
    "N = 2\n",
    "\n",
    "# P-Value cut-off\n",
    "p_val_threshold = 0.1\n",
    "\n",
    "for Product, category_id in sorted(category_to_id.items()):\n",
    "    features_chi2 = chi2(X, labels == category_id)\n",
    "\n",
    "    indices = []\n",
    "    for i in range(0, len(features_chi2[1])):\n",
    "        if(features_chi2[1][i] <= p_val_threshold):\n",
    "            indices.append(i)\n",
    "\n",
    "    feature_names = np.array(tfidf.get_feature_names())[indices]\n",
    "    unigrams = [v for v in feature_names if len(v.split(' ')) == 1]\n",
    "    bigrams = [v for v in feature_names if len(v.split(' ')) == 2]\n",
    "\n",
    "    print(\"# '{}':\".format(Product))\n",
    "    print(\"  . Most correlated unigrams:\\n. {}\".format('\\n. '.join(unigrams[-N:])))\n",
    "    print(\"  . Most correlated bigrams:\\n. {}\".format('\\n. '.join(bigrams[-N:])))\n",
    "    "
   ]
  },
  {
   "cell_type": "code",
   "execution_count": 29,
   "metadata": {},
   "outputs": [
    {
     "data": {
      "text/plain": [
       "(840, 1498)"
      ]
     },
     "execution_count": 29,
     "metadata": {},
     "output_type": "execute_result"
    }
   ],
   "source": [
    "# Creating dataframe with X and y\n",
    "df_tf_idf = pd.DataFrame(X, columns=list(tfidf.vocabulary_.keys()))\n",
    "df_tf_idf['Product'] = y\n",
    "df_tf_idf.shape\n"
   ]
  },
  {
   "cell_type": "code",
   "execution_count": 30,
   "metadata": {},
   "outputs": [],
   "source": [
    "# Assigning X and y variables\n",
    "X = df_tf_idf.drop(['Product'], axis=1)\n",
    "y = df_tf_idf['Product']\n"
   ]
  },
  {
   "cell_type": "code",
   "execution_count": 31,
   "metadata": {},
   "outputs": [],
   "source": [
    "# Split data train and test\n",
    "X_train, X_test, y_train, y_test = train_test_split(X, y, test_size=0.25, \n",
    "                                                    random_state=42)\n"
   ]
  },
  {
   "cell_type": "code",
   "execution_count": 32,
   "metadata": {},
   "outputs": [
    {
     "data": {
      "text/plain": [
       "7     207\n",
       "6     207\n",
       "10    116\n",
       "5      62\n",
       "3      58\n",
       "14     44\n",
       "4      43\n",
       "0      42\n",
       "1      36\n",
       "2      17\n",
       "8       8\n",
       "Name: Product, dtype: int64"
      ]
     },
     "execution_count": 32,
     "metadata": {},
     "output_type": "execute_result"
    }
   ],
   "source": [
    "# Check for class imbalances\n",
    "df_tf_idf['Product'].value_counts()\n"
   ]
  },
  {
   "cell_type": "code",
   "execution_count": 12,
   "metadata": {},
   "outputs": [],
   "source": [
    "# Dropping class with few elements in order to run SMOTETomek\n",
    "df_tf_idf = df_tf_idf[df_tf_idf['Product']!=15]\n",
    "df_tf_idf = df_tf_idf[df_tf_idf['Product']!=12]\n",
    "df_tf_idf = df_tf_idf[df_tf_idf['Product']!=13]\n",
    "df_tf_idf = df_tf_idf[df_tf_idf['Product']!=11]\n",
    "df_tf_idf = df_tf_idf[df_tf_idf['Product']!=9]\n"
   ]
  },
  {
   "cell_type": "code",
   "execution_count": 16,
   "metadata": {},
   "outputs": [],
   "source": [
    "# Using SMOTETomek to deal with class imbalances\n",
    "smt = SMOTETomek(random_state=42)\n",
    "X_res, y_res = smt.fit_resample(X_train, \n",
    "                                y_train.values)\n"
   ]
  },
  {
   "cell_type": "code",
   "execution_count": 17,
   "metadata": {},
   "outputs": [
    {
     "name": "stdout",
     "output_type": "stream",
     "text": [
      "0.9336579806264677\n",
      "0.9330321344243208\n",
      "0.9348466207510023\n",
      "0.937884314764306\n",
      "0.9397296731615746\n",
      "0.9349418532399323\n"
     ]
    },
    {
     "data": {
      "image/png": "[encoded data removed]",
      "text/plain": [
       "<Figure size 432x288 with 1 Axes>"
      ]
     },
     "metadata": {
      "needs_background": "light"
     },
     "output_type": "display_data"
    }
   ],
   "source": [
    "# Naive Bayes\n",
    "alpha = [0.0000001, 0.000001, 0.00001, 0.0001, 0.001, 0.01]\n",
    "n_scores = []\n",
    "\n",
    "for a in alpha:\n",
    "    nb = MultinomialNB(a)\n",
    "    scores_nb = cross_val_score(nb, X_res, y_res, cv=5, scoring='accuracy')\n",
    "    n_scores.append(scores_nb.mean())\n",
    "    print(np.mean(scores_nb))\n",
    "\n",
    "# Plot\n",
    "plt.semilogx(alpha, n_scores)\n",
    "plt.xlabel('Value of alpha for Naive Bayes')\n",
    "plt.ylabel('Cross-Validated Accuracy')\n",
    "plt.show()\n"
   ]
  },
  {
   "cell_type": "code",
   "execution_count": 18,
   "metadata": {},
   "outputs": [
    {
     "name": "stdout",
     "output_type": "stream",
     "text": [
      "0.7447261411873973\n",
      "0.9398520822295915\n",
      "0.9428267239631367\n"
     ]
    },
    {
     "data": {
      "image/png": "[encoded data removed]",
      "text/plain": [
       "<Figure size 432x288 with 1 Axes>"
      ]
     },
     "metadata": {
      "needs_background": "light"
     },
     "output_type": "display_data"
    }
   ],
   "source": [
    "# SVC\n",
    "alpha = [0.1, 1, 10]\n",
    "s_scores = []\n",
    "\n",
    "for a in alpha:\n",
    "    svm = SVC(gamma='scale', C=a, probability=True)\n",
    "    scores_svm = cross_val_score(svm, X_res, y_res, cv=5, scoring='accuracy')\n",
    "    s_scores.append(scores_svm.mean())\n",
    "    print(np.mean(scores_svm))\n",
    "\n",
    "# Plot\n",
    "plt.semilogx(alpha, s_scores)\n",
    "plt.xlabel('Value of alpha for SVM')\n",
    "plt.ylabel('Cross-Validated accuracy')\n",
    "plt.show()\n"
   ]
  },
  {
   "cell_type": "code",
   "execution_count": 19,
   "metadata": {},
   "outputs": [
    {
     "name": "stdout",
     "output_type": "stream",
     "text": [
      "l1 0.1:\n",
      "0.3466847516825933\n",
      "l1 1:\n",
      "0.8194018863358383\n",
      "l2 0.1:\n",
      "0.8337629587478498\n",
      "l2 1:\n",
      "0.9060775137518068\n"
     ]
    }
   ],
   "source": [
    "# Logistic Regression\n",
    "log_reg = LogisticRegression(class_weight='balanced', multi_class='multinomial',\n",
    "                             solver='saga', max_iter=1000)\n",
    "\n",
    "penalty = ['l1', 'l2']\n",
    "deg = [0.1, 1]\n",
    "\n",
    "model_bank_dic = {'penalty': [], 'deg': [], 'mean_score': []}\n",
    "\n",
    "for p in penalty:\n",
    "    log_reg.penalty = p\n",
    "\n",
    "    for d in deg:\n",
    "        log_reg.C = d\n",
    "        model_bank = cross_val_score(log_reg, X_res, y_res, cv=5, \n",
    "                                     scoring='accuracy')\n",
    "        model_bank_dic['penalty'].append(p)\n",
    "        model_bank_dic['deg'].append(d)\n",
    "        model_bank_dic['mean_score'].append(np.mean(model_bank))\n",
    "\n",
    "        print(p+' '+str(d)+':')\n",
    "        print(np.mean(model_bank))\n",
    "        "
   ]
  },
  {
   "cell_type": "code",
   "execution_count": 20,
   "metadata": {},
   "outputs": [
    {
     "data": {
      "text/plain": [
       "0.7934156479537442"
      ]
     },
     "execution_count": 20,
     "metadata": {},
     "output_type": "execute_result"
    }
   ],
   "source": [
    "# Random Forest\n",
    "rfc = RandomForestClassifier(n_estimators=100, max_depth=3)\n",
    "rfc.fit(X_res, y_res)\n",
    "\n",
    "# Evaluate the model\n",
    "score_rfc = cross_val_score(rfc, X_res, y_res, cv=5, scoring='accuracy')\n",
    "score_rfc.mean()\n"
   ]
  },
  {
   "cell_type": "code",
   "execution_count": 21,
   "metadata": {},
   "outputs": [],
   "source": [
    "param_grid_random = {\n",
    "    'n_estimators': [700, 800, 900],\n",
    "    'max_features': ['auto', 'sqrt', 'log2'],\n",
    "    'max_depth': [7, 9, 11],\n",
    "    'min_samples_leaf': [1, 2, 3],\n",
    "    'min_samples_split': [2, 3]\n",
    "}\n"
   ]
  },
  {
   "cell_type": "code",
   "execution_count": 22,
   "metadata": {},
   "outputs": [
    {
     "name": "stderr",
     "output_type": "stream",
     "text": [
      "/Users/acallil/anaconda3/lib/python3.7/site-packages/sklearn/model_selection/_search.py:841: DeprecationWarning: The default of the `iid` parameter will change from True to False in version 0.22 and will be removed in 0.24. This will change numeric results when test-set sizes are unequal.\n",
      "  DeprecationWarning)\n"
     ]
    },
    {
     "data": {
      "text/plain": [
       "RandomizedSearchCV(cv=3, error_score='raise-deprecating',\n",
       "          estimator=RandomForestClassifier(bootstrap=True, class_weight=None, criterion='gini',\n",
       "            max_depth=3, max_features='auto', max_leaf_nodes=None,\n",
       "            min_impurity_decrease=0.0, min_impurity_split=None,\n",
       "            min_samples_leaf=1, min_samples_split=2,\n",
       "            min_weight_fraction_leaf=0.0, n_estimators=100, n_jobs=None,\n",
       "            oob_score=False, random_state=None, verbose=0,\n",
       "            warm_start=False),\n",
       "          fit_params=None, iid='warn', n_iter=100, n_jobs=-1,\n",
       "          param_distributions={'n_estimators': [700, 800, 900], 'max_features': ['auto', 'sqrt', 'log2'], 'max_depth': [7, 9, 11], 'min_samples_leaf': [1, 2, 3], 'min_samples_split': [2, 3]},\n",
       "          pre_dispatch='2*n_jobs', random_state=None, refit=True,\n",
       "          return_train_score='warn', scoring='accuracy', verbose=0)"
      ]
     },
     "execution_count": 22,
     "metadata": {},
     "output_type": "execute_result"
    }
   ],
   "source": [
    "# Build Randomized Search model\n",
    "rfc_rs = RandomizedSearchCV(rfc, param_grid_random, \n",
    "                            n_iter=100, cv=3, \n",
    "                            scoring='accuracy', \n",
    "                            n_jobs=-1)\n",
    "rfc_rs.fit(X_res, y_res)\n"
   ]
  },
  {
   "cell_type": "code",
   "execution_count": 23,
   "metadata": {},
   "outputs": [
    {
     "data": {
      "text/plain": [
       "{'n_estimators': 700,\n",
       " 'min_samples_split': 3,\n",
       " 'min_samples_leaf': 1,\n",
       " 'max_features': 'log2',\n",
       " 'max_depth': 11}"
      ]
     },
     "execution_count": 23,
     "metadata": {},
     "output_type": "execute_result"
    }
   ],
   "source": [
    "# Checking for best parameters\n",
    "rfc_rs.best_params_\n"
   ]
  },
  {
   "cell_type": "code",
   "execution_count": 24,
   "metadata": {},
   "outputs": [
    {
     "data": {
      "text/plain": [
       "0.896552625216689"
      ]
     },
     "execution_count": 24,
     "metadata": {},
     "output_type": "execute_result"
    }
   ],
   "source": [
    "# Applying and evaluate best rfc model\n",
    "scores_rs = cross_val_score(rfc_rs.best_estimator_, X_res, \n",
    "                            y_res, cv=3, scoring='accuracy')\n",
    "scores_rs.mean()\n"
   ]
  },
  {
   "cell_type": "code",
   "execution_count": 25,
   "metadata": {},
   "outputs": [],
   "source": [
    "# BEST OVERALL MODEL: NB\n",
    "best_model = MultinomialNB(alpha=0.001)\n",
    "best_model.fit(X_res, y_res)\n",
    "scores_svm = cross_val_score(best_model, X_res, y_res, \n",
    "                             cv=5, scoring='accuracy')\n"
   ]
  },
  {
   "cell_type": "code",
   "execution_count": 26,
   "metadata": {},
   "outputs": [
    {
     "data": {
      "text/plain": [
       "array([ 7,  6, 10, 10,  7,  7,  4,  6,  3, 10,  6,  7, 10,  7, 10,  6,  6,\n",
       "       10,  7, 10,  7,  7,  6, 14,  4, 10, 10,  7,  6,  6, 10,  6,  6,  7,\n",
       "        6,  6, 10,  7,  3,  6,  7,  6, 14,  6,  7,  6,  7,  6,  7,  7,  6,\n",
       "        6,  4, 10,  6, 10,  7, 10,  7,  6,  6,  3, 10,  0,  7,  0, 10,  7,\n",
       "       10,  6,  7, 10,  7,  7,  6,  6,  7,  6,  6, 10,  7,  7,  7,  6,  7,\n",
       "        6, 10, 10,  0, 10,  0,  6, 14,  1,  7,  6, 10, 14,  4, 10,  7, 10,\n",
       "        4,  3,  4,  7,  7,  7,  5,  6, 10, 10,  7, 14, 10, 10,  6,  6,  7,\n",
       "        4,  7,  5,  6, 10,  0,  6, 10, 10,  6,  1,  7,  6,  6, 14, 10, 10,\n",
       "        7,  7,  7,  7,  6,  7, 10,  7, 10,  7,  6,  6,  7,  7,  6,  3,  7,\n",
       "        6, 10,  6,  6,  7,  7,  7,  6,  6, 10,  4,  6, 10,  7, 10, 10,  7,\n",
       "        7, 10, 14,  7,  7,  6, 10,  7,  7,  6,  7,  6,  6,  7,  7,  6, 10,\n",
       "       10,  7, 10,  6, 10,  7,  7, 10,  7, 10,  7, 10,  0,  3,  1,  6,  4,\n",
       "        4,  6,  7, 14,  8,  7])"
      ]
     },
     "execution_count": 26,
     "metadata": {},
     "output_type": "execute_result"
    }
   ],
   "source": [
    "y_pred = best_model.predict(X_test)\n",
    "y_pred\n"
   ]
  },
  {
   "cell_type": "code",
   "execution_count": 27,
   "metadata": {},
   "outputs": [
    {
     "name": "stdout",
     "output_type": "stream",
     "text": [
      "              precision    recall  f1-score   support\n",
      "\n",
      "           0       0.50      0.21      0.30        14\n",
      "           1       0.33      0.10      0.15        10\n",
      "           2       0.00      0.00      0.00         3\n",
      "           3       0.33      0.12      0.18        16\n",
      "           4       0.40      0.31      0.35        13\n",
      "           5       0.00      0.00      0.00         9\n",
      "           6       0.61      0.60      0.61        58\n",
      "           7       0.66      0.79      0.72        56\n",
      "           8       0.00      0.00      0.00         1\n",
      "          10       0.38      0.83      0.52        23\n",
      "          14       0.50      0.57      0.53         7\n",
      "\n",
      "   micro avg       0.53      0.53      0.53       210\n",
      "   macro avg       0.34      0.32      0.31       210\n",
      "weighted avg       0.50      0.53      0.50       210\n",
      "\n"
     ]
    },
    {
     "name": "stderr",
     "output_type": "stream",
     "text": [
      "/Users/acallil/anaconda3/lib/python3.7/site-packages/sklearn/metrics/classification.py:1143: UndefinedMetricWarning: Precision and F-score are ill-defined and being set to 0.0 in labels with no predicted samples.\n",
      "  'precision', 'predicted', average, warn_for)\n"
     ]
    }
   ],
   "source": [
    "print(metrics.classification_report(y_test, y_pred))\n"
   ]
  },
  {
   "cell_type": "code",
   "execution_count": 28,
   "metadata": {},
   "outputs": [
    {
     "data": {
      "image/png": "[encoded data removed]",
      "text/plain": [
       "<Figure size 720x720 with 2 Axes>"
      ]
     },
     "metadata": {
      "needs_background": "light"
     },
     "output_type": "display_data"
    }
   ],
   "source": [
    "# Best model evaluation\n",
    "from sklearn.metrics import confusion_matrix\n",
    "import seaborn as sns\n",
    "conf_mat = confusion_matrix(y_test, y_pred)\n",
    "fig, ax = plt.subplots(figsize=(10,10))\n",
    "sns.heatmap(conf_mat, annot=True, fmt='d',\n",
    "            xticklabels=category_id_df.Product.values[0:11], \n",
    "            yticklabels=category_id_df.Product.values[0:11])\n",
    "plt.ylabel('Actual')\n",
    "plt.xlabel('Predicted')\n",
    "plt.show()\n"
   ]
  }
 ],
 "metadata": {
  "kernelspec": {
   "display_name": "Python 3",
   "language": "python",
   "name": "python3"
  },
  "language_info": {
   "codemirror_mode": {
    "name": "ipython",
    "version": 3
   },
   "file_extension": ".py",
   "mimetype": "text/x-python",
   "name": "python",
   "nbconvert_exporter": "python",
   "pygments_lexer": "ipython3",
   "version": "3.6.8"
  }
 },
 "nbformat": 4,
 "nbformat_minor": 2
}
