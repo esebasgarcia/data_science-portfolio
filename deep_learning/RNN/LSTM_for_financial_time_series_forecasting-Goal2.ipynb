{
 "cells": [
  {
   "cell_type": "markdown",
   "metadata": {},
   "source": [
    "# Sebastian Garcia\n",
    "# LSTM for financial time series forecasting"
   ]
  },
  {
   "cell_type": "code",
   "execution_count": 1,
   "metadata": {
    "colab": {
     "base_uri": "https://localhost:8080/",
     "height": 34
    },
    "colab_type": "code",
    "executionInfo": {
     "elapsed": 822,
     "status": "ok",
     "timestamp": 1562136469602,
     "user": {
      "displayName": "E. Sebastian Garcia",
      "photoUrl": "https://lh3.googleusercontent.com/-HSONWYZRFhw/AAAAAAAAAAI/AAAAAAAAA7Y/1pycCGauFVw/s64/photo.jpg",
      "userId": "10682872798645535997"
     },
     "user_tz": -120
    },
    "id": "DsTIceZZu06C",
    "outputId": "d26d2c94-c2ed-4f8e-dc0a-c38cb31b3ba9"
   },
   "outputs": [
    {
     "name": "stdout",
     "output_type": "stream",
     "text": [
      "Drive already mounted at /content/drive; to attempt to forcibly remount, call drive.mount(\"/content/drive\", force_remount=True).\n"
     ]
    }
   ],
   "source": [
    "# Run this cell to activate your Google Drive account\n",
    "from google.colab import drive\n",
    "drive.mount('/content/drive')\n"
   ]
  },
  {
   "cell_type": "code",
   "execution_count": 0,
   "metadata": {
    "colab": {},
    "colab_type": "code",
    "id": "dR392nwhvj6u"
   },
   "outputs": [],
   "source": [
    "import pandas as pd\n",
    "import numpy as np\n",
    "\n",
    "#Normalize Data and split  in Train and Test set\n",
    "from sklearn.preprocessing import MinMaxScaler\n",
    "from sklearn.model_selection import train_test_split\n",
    "\n",
    "# To run the model\n",
    "from tensorflow.keras.models import Sequential\n",
    "from tensorflow.keras.layers import Dense, Dropout\n",
    "from tensorflow.keras.layers import LSTM\n",
    "from sklearn.metrics import mean_squared_error\n",
    "\n",
    "import math\n",
    "\n",
    "#Plot\n",
    "from matplotlib import pyplot as plt\n"
   ]
  },
  {
   "cell_type": "code",
   "execution_count": 0,
   "metadata": {
    "colab": {},
    "colab_type": "code",
    "id": "pid5huBQu-hL"
   },
   "outputs": [],
   "source": [
    "path = 'drive/My Drive/Colab Notebooks/'\n",
    "df = pd.read_csv(path+'binance_1min_labeled.csv', index_col=0)\n"
   ]
  },
  {
   "cell_type": "code",
   "execution_count": 4,
   "metadata": {
    "colab": {
     "base_uri": "https://localhost:8080/",
     "height": 215
    },
    "colab_type": "code",
    "executionInfo": {
     "elapsed": 5709,
     "status": "ok",
     "timestamp": 1562136474551,
     "user": {
      "displayName": "E. Sebastian Garcia",
      "photoUrl": "https://lh3.googleusercontent.com/-HSONWYZRFhw/AAAAAAAAAAI/AAAAAAAAA7Y/1pycCGauFVw/s64/photo.jpg",
      "userId": "10682872798645535997"
     },
     "user_tz": -120
    },
    "id": "C_z0sCiPvm54",
    "outputId": "da2ccb0f-e11d-4182-eed1-d177a4c01fe3"
   },
   "outputs": [
    {
     "data": {
      "text/html": [
       "<div>\n",
       "<style scoped>\n",
       "    .dataframe tbody tr th:only-of-type {\n",
       "        vertical-align: middle;\n",
       "    }\n",
       "\n",
       "    .dataframe tbody tr th {\n",
       "        vertical-align: top;\n",
       "    }\n",
       "\n",
       "    .dataframe thead th {\n",
       "        text-align: right;\n",
       "    }\n",
       "</style>\n",
       "<table border=\"1\" class=\"dataframe\">\n",
       "  <thead>\n",
       "    <tr style=\"text-align: right;\">\n",
       "      <th></th>\n",
       "      <th>time</th>\n",
       "      <th>btcusdt_open</th>\n",
       "      <th>btcusdt_high</th>\n",
       "      <th>btcusdt_low</th>\n",
       "      <th>btcusdt_close</th>\n",
       "      <th>btcusdt_vol</th>\n",
       "      <th>btcusdt_seller</th>\n",
       "      <th>btcusdt_buyer</th>\n",
       "      <th>ethusdt_open</th>\n",
       "      <th>ethusdt_high</th>\n",
       "      <th>ethusdt_low</th>\n",
       "      <th>ethusdt_close</th>\n",
       "      <th>ethusdt_vol</th>\n",
       "      <th>ethusdt_seller</th>\n",
       "      <th>ethusdt_buyer</th>\n",
       "      <th>ltcbtc_open</th>\n",
       "      <th>ltcbtc_high</th>\n",
       "      <th>ltcbtc_low</th>\n",
       "      <th>ltcbtc_close</th>\n",
       "      <th>ltcbtc_vol</th>\n",
       "      <th>ltcbtc_seller</th>\n",
       "      <th>ltcbtc_buyer</th>\n",
       "      <th>label</th>\n",
       "    </tr>\n",
       "  </thead>\n",
       "  <tbody>\n",
       "    <tr>\n",
       "      <th>50000</th>\n",
       "      <td>1505942400</td>\n",
       "      <td>3961.03</td>\n",
       "      <td>3961.03</td>\n",
       "      <td>3961.02</td>\n",
       "      <td>3961.02</td>\n",
       "      <td>0.630300</td>\n",
       "      <td>0</td>\n",
       "      <td>5</td>\n",
       "      <td>288.99</td>\n",
       "      <td>288.99</td>\n",
       "      <td>288.99</td>\n",
       "      <td>288.99</td>\n",
       "      <td>0.00</td>\n",
       "      <td>0.0</td>\n",
       "      <td>0.0</td>\n",
       "      <td>0.013298</td>\n",
       "      <td>0.013305</td>\n",
       "      <td>0.013298</td>\n",
       "      <td>0.013305</td>\n",
       "      <td>7.29</td>\n",
       "      <td>3.0</td>\n",
       "      <td>10.0</td>\n",
       "      <td>0.0</td>\n",
       "    </tr>\n",
       "    <tr>\n",
       "      <th>50001</th>\n",
       "      <td>1505942460</td>\n",
       "      <td>3961.03</td>\n",
       "      <td>3961.03</td>\n",
       "      <td>3961.02</td>\n",
       "      <td>3961.02</td>\n",
       "      <td>0.000000</td>\n",
       "      <td>0</td>\n",
       "      <td>0</td>\n",
       "      <td>288.99</td>\n",
       "      <td>288.99</td>\n",
       "      <td>288.99</td>\n",
       "      <td>288.99</td>\n",
       "      <td>0.00</td>\n",
       "      <td>0.0</td>\n",
       "      <td>0.0</td>\n",
       "      <td>0.013305</td>\n",
       "      <td>0.013352</td>\n",
       "      <td>0.013305</td>\n",
       "      <td>0.013349</td>\n",
       "      <td>14.05</td>\n",
       "      <td>6.0</td>\n",
       "      <td>7.0</td>\n",
       "      <td>0.0</td>\n",
       "    </tr>\n",
       "    <tr>\n",
       "      <th>50002</th>\n",
       "      <td>1505942520</td>\n",
       "      <td>3961.03</td>\n",
       "      <td>3961.03</td>\n",
       "      <td>3961.02</td>\n",
       "      <td>3961.02</td>\n",
       "      <td>0.000000</td>\n",
       "      <td>0</td>\n",
       "      <td>0</td>\n",
       "      <td>288.99</td>\n",
       "      <td>288.99</td>\n",
       "      <td>288.99</td>\n",
       "      <td>288.99</td>\n",
       "      <td>0.00</td>\n",
       "      <td>0.0</td>\n",
       "      <td>0.0</td>\n",
       "      <td>0.013349</td>\n",
       "      <td>0.013352</td>\n",
       "      <td>0.013349</td>\n",
       "      <td>0.013352</td>\n",
       "      <td>3.35</td>\n",
       "      <td>1.0</td>\n",
       "      <td>5.0</td>\n",
       "      <td>0.0</td>\n",
       "    </tr>\n",
       "    <tr>\n",
       "      <th>50003</th>\n",
       "      <td>1505942580</td>\n",
       "      <td>3961.03</td>\n",
       "      <td>3961.03</td>\n",
       "      <td>3961.02</td>\n",
       "      <td>3961.02</td>\n",
       "      <td>0.000000</td>\n",
       "      <td>0</td>\n",
       "      <td>0</td>\n",
       "      <td>288.99</td>\n",
       "      <td>288.99</td>\n",
       "      <td>288.99</td>\n",
       "      <td>288.99</td>\n",
       "      <td>0.00</td>\n",
       "      <td>0.0</td>\n",
       "      <td>0.0</td>\n",
       "      <td>0.013352</td>\n",
       "      <td>0.013352</td>\n",
       "      <td>0.013349</td>\n",
       "      <td>0.013352</td>\n",
       "      <td>4.25</td>\n",
       "      <td>3.0</td>\n",
       "      <td>3.0</td>\n",
       "      <td>0.0</td>\n",
       "    </tr>\n",
       "    <tr>\n",
       "      <th>50004</th>\n",
       "      <td>1505942640</td>\n",
       "      <td>3975.94</td>\n",
       "      <td>3975.94</td>\n",
       "      <td>3962.18</td>\n",
       "      <td>3962.18</td>\n",
       "      <td>0.019624</td>\n",
       "      <td>2</td>\n",
       "      <td>2</td>\n",
       "      <td>288.00</td>\n",
       "      <td>288.00</td>\n",
       "      <td>288.00</td>\n",
       "      <td>288.00</td>\n",
       "      <td>0.02</td>\n",
       "      <td>0.0</td>\n",
       "      <td>1.0</td>\n",
       "      <td>0.013352</td>\n",
       "      <td>0.013352</td>\n",
       "      <td>0.013349</td>\n",
       "      <td>0.013349</td>\n",
       "      <td>19.48</td>\n",
       "      <td>2.0</td>\n",
       "      <td>4.0</td>\n",
       "      <td>0.0</td>\n",
       "    </tr>\n",
       "  </tbody>\n",
       "</table>\n",
       "</div>"
      ],
      "text/plain": [
       "             time  btcusdt_open  ...  ltcbtc_buyer  label\n",
       "50000  1505942400       3961.03  ...          10.0    0.0\n",
       "50001  1505942460       3961.03  ...           7.0    0.0\n",
       "50002  1505942520       3961.03  ...           5.0    0.0\n",
       "50003  1505942580       3961.03  ...           3.0    0.0\n",
       "50004  1505942640       3975.94  ...           4.0    0.0\n",
       "\n",
       "[5 rows x 23 columns]"
      ]
     },
     "execution_count": 4,
     "metadata": {
      "tags": []
     },
     "output_type": "execute_result"
    }
   ],
   "source": [
    "df.head()\n"
   ]
  },
  {
   "cell_type": "code",
   "execution_count": 5,
   "metadata": {
    "colab": {
     "base_uri": "https://localhost:8080/",
     "height": 215
    },
    "colab_type": "code",
    "executionInfo": {
     "elapsed": 5686,
     "status": "ok",
     "timestamp": 1562136474553,
     "user": {
      "displayName": "E. Sebastian Garcia",
      "photoUrl": "https://lh3.googleusercontent.com/-HSONWYZRFhw/AAAAAAAAAAI/AAAAAAAAA7Y/1pycCGauFVw/s64/photo.jpg",
      "userId": "10682872798645535997"
     },
     "user_tz": -120
    },
    "id": "hJ_ms-4qwlrB",
    "outputId": "725720f2-f8ff-4925-c3ee-62433e5e1efc"
   },
   "outputs": [
    {
     "data": {
      "text/html": [
       "<div>\n",
       "<style scoped>\n",
       "    .dataframe tbody tr th:only-of-type {\n",
       "        vertical-align: middle;\n",
       "    }\n",
       "\n",
       "    .dataframe tbody tr th {\n",
       "        vertical-align: top;\n",
       "    }\n",
       "\n",
       "    .dataframe thead th {\n",
       "        text-align: right;\n",
       "    }\n",
       "</style>\n",
       "<table border=\"1\" class=\"dataframe\">\n",
       "  <thead>\n",
       "    <tr style=\"text-align: right;\">\n",
       "      <th></th>\n",
       "      <th>time</th>\n",
       "      <th>btcusdt_open</th>\n",
       "      <th>btcusdt_high</th>\n",
       "      <th>btcusdt_low</th>\n",
       "      <th>btcusdt_close</th>\n",
       "      <th>btcusdt_vol</th>\n",
       "      <th>btcusdt_seller</th>\n",
       "      <th>btcusdt_buyer</th>\n",
       "      <th>ethusdt_open</th>\n",
       "      <th>ethusdt_high</th>\n",
       "      <th>ethusdt_low</th>\n",
       "      <th>ethusdt_close</th>\n",
       "      <th>ethusdt_vol</th>\n",
       "      <th>ethusdt_seller</th>\n",
       "      <th>ethusdt_buyer</th>\n",
       "      <th>ltcbtc_open</th>\n",
       "      <th>ltcbtc_high</th>\n",
       "      <th>ltcbtc_low</th>\n",
       "      <th>ltcbtc_close</th>\n",
       "      <th>ltcbtc_vol</th>\n",
       "      <th>ltcbtc_seller</th>\n",
       "      <th>ltcbtc_buyer</th>\n",
       "      <th>label</th>\n",
       "    </tr>\n",
       "  </thead>\n",
       "  <tbody>\n",
       "    <tr>\n",
       "      <th>649995</th>\n",
       "      <td>1541942100</td>\n",
       "      <td>6424.00</td>\n",
       "      <td>6426.09</td>\n",
       "      <td>6424.00</td>\n",
       "      <td>6424.37</td>\n",
       "      <td>2.284881</td>\n",
       "      <td>44</td>\n",
       "      <td>29</td>\n",
       "      <td>212.72</td>\n",
       "      <td>212.75</td>\n",
       "      <td>212.70</td>\n",
       "      <td>212.72</td>\n",
       "      <td>46.79162</td>\n",
       "      <td>21.0</td>\n",
       "      <td>20.0</td>\n",
       "      <td>0.008059</td>\n",
       "      <td>0.008059</td>\n",
       "      <td>0.008058</td>\n",
       "      <td>0.008058</td>\n",
       "      <td>3.49</td>\n",
       "      <td>0.0</td>\n",
       "      <td>3.0</td>\n",
       "      <td>0.0</td>\n",
       "    </tr>\n",
       "    <tr>\n",
       "      <th>649996</th>\n",
       "      <td>1541942160</td>\n",
       "      <td>6424.37</td>\n",
       "      <td>6424.37</td>\n",
       "      <td>6424.00</td>\n",
       "      <td>6424.37</td>\n",
       "      <td>3.336172</td>\n",
       "      <td>39</td>\n",
       "      <td>30</td>\n",
       "      <td>212.71</td>\n",
       "      <td>212.82</td>\n",
       "      <td>212.64</td>\n",
       "      <td>212.72</td>\n",
       "      <td>52.11829</td>\n",
       "      <td>21.0</td>\n",
       "      <td>15.0</td>\n",
       "      <td>0.008061</td>\n",
       "      <td>0.008064</td>\n",
       "      <td>0.008061</td>\n",
       "      <td>0.008064</td>\n",
       "      <td>3.65</td>\n",
       "      <td>3.0</td>\n",
       "      <td>0.0</td>\n",
       "      <td>0.0</td>\n",
       "    </tr>\n",
       "    <tr>\n",
       "      <th>649997</th>\n",
       "      <td>1541942220</td>\n",
       "      <td>6424.37</td>\n",
       "      <td>6426.08</td>\n",
       "      <td>6424.37</td>\n",
       "      <td>6424.41</td>\n",
       "      <td>2.554746</td>\n",
       "      <td>19</td>\n",
       "      <td>26</td>\n",
       "      <td>212.72</td>\n",
       "      <td>212.79</td>\n",
       "      <td>212.72</td>\n",
       "      <td>212.74</td>\n",
       "      <td>50.06029</td>\n",
       "      <td>12.0</td>\n",
       "      <td>28.0</td>\n",
       "      <td>0.008064</td>\n",
       "      <td>0.008068</td>\n",
       "      <td>0.008058</td>\n",
       "      <td>0.008058</td>\n",
       "      <td>47.96</td>\n",
       "      <td>3.0</td>\n",
       "      <td>8.0</td>\n",
       "      <td>0.0</td>\n",
       "    </tr>\n",
       "    <tr>\n",
       "      <th>649998</th>\n",
       "      <td>1541942280</td>\n",
       "      <td>6424.88</td>\n",
       "      <td>6426.53</td>\n",
       "      <td>6424.43</td>\n",
       "      <td>6426.12</td>\n",
       "      <td>6.557832</td>\n",
       "      <td>27</td>\n",
       "      <td>35</td>\n",
       "      <td>212.74</td>\n",
       "      <td>212.81</td>\n",
       "      <td>212.71</td>\n",
       "      <td>212.81</td>\n",
       "      <td>47.79095</td>\n",
       "      <td>21.0</td>\n",
       "      <td>9.0</td>\n",
       "      <td>0.008062</td>\n",
       "      <td>0.008065</td>\n",
       "      <td>0.008060</td>\n",
       "      <td>0.008064</td>\n",
       "      <td>28.10</td>\n",
       "      <td>2.0</td>\n",
       "      <td>4.0</td>\n",
       "      <td>0.0</td>\n",
       "    </tr>\n",
       "    <tr>\n",
       "      <th>649999</th>\n",
       "      <td>1541942340</td>\n",
       "      <td>6426.53</td>\n",
       "      <td>6428.21</td>\n",
       "      <td>6426.00</td>\n",
       "      <td>6426.00</td>\n",
       "      <td>2.577673</td>\n",
       "      <td>12</td>\n",
       "      <td>54</td>\n",
       "      <td>212.82</td>\n",
       "      <td>212.87</td>\n",
       "      <td>212.77</td>\n",
       "      <td>212.81</td>\n",
       "      <td>37.79858</td>\n",
       "      <td>12.0</td>\n",
       "      <td>15.0</td>\n",
       "      <td>0.008067</td>\n",
       "      <td>0.008067</td>\n",
       "      <td>0.008063</td>\n",
       "      <td>0.008063</td>\n",
       "      <td>0.14</td>\n",
       "      <td>1.0</td>\n",
       "      <td>1.0</td>\n",
       "      <td>0.0</td>\n",
       "    </tr>\n",
       "  </tbody>\n",
       "</table>\n",
       "</div>"
      ],
      "text/plain": [
       "              time  btcusdt_open  ...  ltcbtc_buyer  label\n",
       "649995  1541942100       6424.00  ...           3.0    0.0\n",
       "649996  1541942160       6424.37  ...           0.0    0.0\n",
       "649997  1541942220       6424.37  ...           8.0    0.0\n",
       "649998  1541942280       6424.88  ...           4.0    0.0\n",
       "649999  1541942340       6426.53  ...           1.0    0.0\n",
       "\n",
       "[5 rows x 23 columns]"
      ]
     },
     "execution_count": 5,
     "metadata": {
      "tags": []
     },
     "output_type": "execute_result"
    }
   ],
   "source": [
    "df.tail()\n"
   ]
  },
  {
   "cell_type": "markdown",
   "metadata": {},
   "source": [
    "  #### Project - You have been provided with crypto trading data, use that to prepare a LSTM model to predict closing/opening price of your favorite crypto-currency\n",
    "  \n",
    "      ○ **Goal 2** - Univariate predictions with Stacked LSTM - Modify the model from goal 1 to add 1-2 more LSTM layers."
   ]
  },
  {
   "cell_type": "markdown",
   "metadata": {
    "colab_type": "text",
    "id": "gUuRt31GxOqG"
   },
   "source": [
    "**Analyzing Data**"
   ]
  },
  {
   "cell_type": "code",
   "execution_count": 6,
   "metadata": {
    "colab": {
     "base_uri": "https://localhost:8080/",
     "height": 513
    },
    "colab_type": "code",
    "executionInfo": {
     "elapsed": 6911,
     "status": "ok",
     "timestamp": 1562136475795,
     "user": {
      "displayName": "E. Sebastian Garcia",
      "photoUrl": "https://lh3.googleusercontent.com/-HSONWYZRFhw/AAAAAAAAAAI/AAAAAAAAA7Y/1pycCGauFVw/s64/photo.jpg",
      "userId": "10682872798645535997"
     },
     "user_tz": -120
    },
    "id": "voTZXVH7xJ1A",
    "outputId": "377772a0-6f84-4a37-966c-e945c8929d67"
   },
   "outputs": [
    {
     "data": {
      "image/png": "[encoded data removed]",
      "text/plain": [
       "<Figure size 1224x576 with 1 Axes>"
      ]
     },
     "metadata": {
      "tags": []
     },
     "output_type": "display_data"
    }
   ],
   "source": [
    "# Bitcoin\n",
    "plt.figure(figsize=(17, 8))\n",
    "plt.plot(df['btcusdt_open'])\n",
    "plt.plot(df['btcusdt_high'])\n",
    "plt.plot(df['btcusdt_low'])\n",
    "plt.plot(df['btcusdt_close'])\n",
    "plt.title('Bitcoin stock price history')\n",
    "plt.ylabel('Price (USD)')\n",
    "plt.xlabel('Days')\n",
    "plt.legend(['Open','High','Low','Close'], loc='upper left')\n",
    "plt.show()\n"
   ]
  },
  {
   "cell_type": "code",
   "execution_count": 7,
   "metadata": {
    "colab": {
     "base_uri": "https://localhost:8080/",
     "height": 513
    },
    "colab_type": "code",
    "executionInfo": {
     "elapsed": 7217,
     "status": "ok",
     "timestamp": 1562136476124,
     "user": {
      "displayName": "E. Sebastian Garcia",
      "photoUrl": "https://lh3.googleusercontent.com/-HSONWYZRFhw/AAAAAAAAAAI/AAAAAAAAA7Y/1pycCGauFVw/s64/photo.jpg",
      "userId": "10682872798645535997"
     },
     "user_tz": -120
    },
    "id": "iHDbMhGsx134",
    "outputId": "aec0d3b1-717e-4ab9-fd52-3170eebb5343"
   },
   "outputs": [
    {
     "data": {
      "image/png": "[encoded data removed]",
      "text/plain": [
       "<Figure size 1224x576 with 1 Axes>"
      ]
     },
     "metadata": {
      "tags": []
     },
     "output_type": "display_data"
    }
   ],
   "source": [
    "# Plot the volume\n",
    "plt.figure(figsize=(17, 8))\n",
    "plt.plot(df['btcusdt_vol'])\n",
    "plt.title('Bitcoin stock volume history')\n",
    "plt.ylabel('Volume')\n",
    "plt.xlabel('Days')\n",
    "plt.show()\n"
   ]
  },
  {
   "cell_type": "code",
   "execution_count": 8,
   "metadata": {
    "colab": {
     "base_uri": "https://localhost:8080/",
     "height": 420
    },
    "colab_type": "code",
    "executionInfo": {
     "elapsed": 7550,
     "status": "ok",
     "timestamp": 1562136476476,
     "user": {
      "displayName": "E. Sebastian Garcia",
      "photoUrl": "https://lh3.googleusercontent.com/-HSONWYZRFhw/AAAAAAAAAAI/AAAAAAAAA7Y/1pycCGauFVw/s64/photo.jpg",
      "userId": "10682872798645535997"
     },
     "user_tz": -120
    },
    "id": "wMqjYR1xzB9L",
    "outputId": "2851defe-b075-459b-f260-f79a989228b3"
   },
   "outputs": [
    {
     "data": {
      "text/plain": [
       "time              0\n",
       "btcusdt_open      0\n",
       "btcusdt_high      0\n",
       "btcusdt_low       0\n",
       "btcusdt_close     0\n",
       "btcusdt_vol       0\n",
       "btcusdt_seller    0\n",
       "btcusdt_buyer     0\n",
       "ethusdt_open      0\n",
       "ethusdt_high      0\n",
       "ethusdt_low       0\n",
       "ethusdt_close     0\n",
       "ethusdt_vol       0\n",
       "ethusdt_seller    0\n",
       "ethusdt_buyer     0\n",
       "ltcbtc_open       0\n",
       "ltcbtc_high       0\n",
       "ltcbtc_low        0\n",
       "ltcbtc_close      0\n",
       "ltcbtc_vol        0\n",
       "ltcbtc_seller     0\n",
       "ltcbtc_buyer      0\n",
       "label             0\n",
       "dtype: int64"
      ]
     },
     "execution_count": 8,
     "metadata": {
      "tags": []
     },
     "output_type": "execute_result"
    }
   ],
   "source": [
    "#Check for NaNs\n",
    "df.isna().sum()\n"
   ]
  },
  {
   "cell_type": "markdown",
   "metadata": {
    "colab_type": "text",
    "id": "Hnkglol10f1g"
   },
   "source": [
    "**Converting data to time-series**"
   ]
  },
  {
   "cell_type": "code",
   "execution_count": 0,
   "metadata": {
    "colab": {},
    "colab_type": "code",
    "id": "j7outde03pl3"
   },
   "outputs": [],
   "source": [
    "df.index = pd.to_datetime(df['time'], unit='s')\n"
   ]
  },
  {
   "cell_type": "code",
   "execution_count": 10,
   "metadata": {
    "colab": {
     "base_uri": "https://localhost:8080/",
     "height": 413
    },
    "colab_type": "code",
    "executionInfo": {
     "elapsed": 7527,
     "status": "ok",
     "timestamp": 1562136476481,
     "user": {
      "displayName": "E. Sebastian Garcia",
      "photoUrl": "https://lh3.googleusercontent.com/-HSONWYZRFhw/AAAAAAAAAAI/AAAAAAAAA7Y/1pycCGauFVw/s64/photo.jpg",
      "userId": "10682872798645535997"
     },
     "user_tz": -120
    },
    "id": "iluRhDyC4jir",
    "outputId": "8499561f-320a-4d86-b5b8-be3981aa974d"
   },
   "outputs": [
    {
     "data": {
      "text/html": [
       "<div>\n",
       "<style scoped>\n",
       "    .dataframe tbody tr th:only-of-type {\n",
       "        vertical-align: middle;\n",
       "    }\n",
       "\n",
       "    .dataframe tbody tr th {\n",
       "        vertical-align: top;\n",
       "    }\n",
       "\n",
       "    .dataframe thead th {\n",
       "        text-align: right;\n",
       "    }\n",
       "</style>\n",
       "<table border=\"1\" class=\"dataframe\">\n",
       "  <thead>\n",
       "    <tr style=\"text-align: right;\">\n",
       "      <th></th>\n",
       "      <th>time</th>\n",
       "      <th>btcusdt_open</th>\n",
       "      <th>btcusdt_high</th>\n",
       "      <th>btcusdt_low</th>\n",
       "      <th>btcusdt_close</th>\n",
       "      <th>btcusdt_vol</th>\n",
       "      <th>btcusdt_seller</th>\n",
       "      <th>btcusdt_buyer</th>\n",
       "      <th>ethusdt_open</th>\n",
       "      <th>ethusdt_high</th>\n",
       "      <th>ethusdt_low</th>\n",
       "      <th>ethusdt_close</th>\n",
       "      <th>ethusdt_vol</th>\n",
       "      <th>ethusdt_seller</th>\n",
       "      <th>ethusdt_buyer</th>\n",
       "      <th>ltcbtc_open</th>\n",
       "      <th>ltcbtc_high</th>\n",
       "      <th>ltcbtc_low</th>\n",
       "      <th>ltcbtc_close</th>\n",
       "      <th>ltcbtc_vol</th>\n",
       "      <th>ltcbtc_seller</th>\n",
       "      <th>ltcbtc_buyer</th>\n",
       "      <th>label</th>\n",
       "    </tr>\n",
       "    <tr>\n",
       "      <th>time</th>\n",
       "      <th></th>\n",
       "      <th></th>\n",
       "      <th></th>\n",
       "      <th></th>\n",
       "      <th></th>\n",
       "      <th></th>\n",
       "      <th></th>\n",
       "      <th></th>\n",
       "      <th></th>\n",
       "      <th></th>\n",
       "      <th></th>\n",
       "      <th></th>\n",
       "      <th></th>\n",
       "      <th></th>\n",
       "      <th></th>\n",
       "      <th></th>\n",
       "      <th></th>\n",
       "      <th></th>\n",
       "      <th></th>\n",
       "      <th></th>\n",
       "      <th></th>\n",
       "      <th></th>\n",
       "      <th></th>\n",
       "    </tr>\n",
       "  </thead>\n",
       "  <tbody>\n",
       "    <tr>\n",
       "      <th>2017-09-20 21:20:00</th>\n",
       "      <td>1505942400</td>\n",
       "      <td>3961.03</td>\n",
       "      <td>3961.03</td>\n",
       "      <td>3961.02</td>\n",
       "      <td>3961.02</td>\n",
       "      <td>0.630300</td>\n",
       "      <td>0</td>\n",
       "      <td>5</td>\n",
       "      <td>288.99</td>\n",
       "      <td>288.99</td>\n",
       "      <td>288.99</td>\n",
       "      <td>288.99</td>\n",
       "      <td>0.00</td>\n",
       "      <td>0.0</td>\n",
       "      <td>0.0</td>\n",
       "      <td>0.013298</td>\n",
       "      <td>0.013305</td>\n",
       "      <td>0.013298</td>\n",
       "      <td>0.013305</td>\n",
       "      <td>7.29</td>\n",
       "      <td>3.0</td>\n",
       "      <td>10.0</td>\n",
       "      <td>0.0</td>\n",
       "    </tr>\n",
       "    <tr>\n",
       "      <th>2017-09-20 21:21:00</th>\n",
       "      <td>1505942460</td>\n",
       "      <td>3961.03</td>\n",
       "      <td>3961.03</td>\n",
       "      <td>3961.02</td>\n",
       "      <td>3961.02</td>\n",
       "      <td>0.000000</td>\n",
       "      <td>0</td>\n",
       "      <td>0</td>\n",
       "      <td>288.99</td>\n",
       "      <td>288.99</td>\n",
       "      <td>288.99</td>\n",
       "      <td>288.99</td>\n",
       "      <td>0.00</td>\n",
       "      <td>0.0</td>\n",
       "      <td>0.0</td>\n",
       "      <td>0.013305</td>\n",
       "      <td>0.013352</td>\n",
       "      <td>0.013305</td>\n",
       "      <td>0.013349</td>\n",
       "      <td>14.05</td>\n",
       "      <td>6.0</td>\n",
       "      <td>7.0</td>\n",
       "      <td>0.0</td>\n",
       "    </tr>\n",
       "    <tr>\n",
       "      <th>2017-09-20 21:22:00</th>\n",
       "      <td>1505942520</td>\n",
       "      <td>3961.03</td>\n",
       "      <td>3961.03</td>\n",
       "      <td>3961.02</td>\n",
       "      <td>3961.02</td>\n",
       "      <td>0.000000</td>\n",
       "      <td>0</td>\n",
       "      <td>0</td>\n",
       "      <td>288.99</td>\n",
       "      <td>288.99</td>\n",
       "      <td>288.99</td>\n",
       "      <td>288.99</td>\n",
       "      <td>0.00</td>\n",
       "      <td>0.0</td>\n",
       "      <td>0.0</td>\n",
       "      <td>0.013349</td>\n",
       "      <td>0.013352</td>\n",
       "      <td>0.013349</td>\n",
       "      <td>0.013352</td>\n",
       "      <td>3.35</td>\n",
       "      <td>1.0</td>\n",
       "      <td>5.0</td>\n",
       "      <td>0.0</td>\n",
       "    </tr>\n",
       "    <tr>\n",
       "      <th>2017-09-20 21:23:00</th>\n",
       "      <td>1505942580</td>\n",
       "      <td>3961.03</td>\n",
       "      <td>3961.03</td>\n",
       "      <td>3961.02</td>\n",
       "      <td>3961.02</td>\n",
       "      <td>0.000000</td>\n",
       "      <td>0</td>\n",
       "      <td>0</td>\n",
       "      <td>288.99</td>\n",
       "      <td>288.99</td>\n",
       "      <td>288.99</td>\n",
       "      <td>288.99</td>\n",
       "      <td>0.00</td>\n",
       "      <td>0.0</td>\n",
       "      <td>0.0</td>\n",
       "      <td>0.013352</td>\n",
       "      <td>0.013352</td>\n",
       "      <td>0.013349</td>\n",
       "      <td>0.013352</td>\n",
       "      <td>4.25</td>\n",
       "      <td>3.0</td>\n",
       "      <td>3.0</td>\n",
       "      <td>0.0</td>\n",
       "    </tr>\n",
       "    <tr>\n",
       "      <th>2017-09-20 21:24:00</th>\n",
       "      <td>1505942640</td>\n",
       "      <td>3975.94</td>\n",
       "      <td>3975.94</td>\n",
       "      <td>3962.18</td>\n",
       "      <td>3962.18</td>\n",
       "      <td>0.019624</td>\n",
       "      <td>2</td>\n",
       "      <td>2</td>\n",
       "      <td>288.00</td>\n",
       "      <td>288.00</td>\n",
       "      <td>288.00</td>\n",
       "      <td>288.00</td>\n",
       "      <td>0.02</td>\n",
       "      <td>0.0</td>\n",
       "      <td>1.0</td>\n",
       "      <td>0.013352</td>\n",
       "      <td>0.013352</td>\n",
       "      <td>0.013349</td>\n",
       "      <td>0.013349</td>\n",
       "      <td>19.48</td>\n",
       "      <td>2.0</td>\n",
       "      <td>4.0</td>\n",
       "      <td>0.0</td>\n",
       "    </tr>\n",
       "  </tbody>\n",
       "</table>\n",
       "</div>"
      ],
      "text/plain": [
       "                           time  btcusdt_open  ...  ltcbtc_buyer  label\n",
       "time                                           ...                     \n",
       "2017-09-20 21:20:00  1505942400       3961.03  ...          10.0    0.0\n",
       "2017-09-20 21:21:00  1505942460       3961.03  ...           7.0    0.0\n",
       "2017-09-20 21:22:00  1505942520       3961.03  ...           5.0    0.0\n",
       "2017-09-20 21:23:00  1505942580       3961.03  ...           3.0    0.0\n",
       "2017-09-20 21:24:00  1505942640       3975.94  ...           4.0    0.0\n",
       "\n",
       "[5 rows x 23 columns]"
      ]
     },
     "execution_count": 10,
     "metadata": {
      "tags": []
     },
     "output_type": "execute_result"
    }
   ],
   "source": [
    "df.head()\n"
   ]
  },
  {
   "cell_type": "markdown",
   "metadata": {
    "colab_type": "text",
    "id": "y_OpteDQznP4"
   },
   "source": [
    "**Normalizing the data**"
   ]
  },
  {
   "cell_type": "code",
   "execution_count": 0,
   "metadata": {
    "colab": {},
    "colab_type": "code",
    "id": "QfasbVubFVya"
   },
   "outputs": [],
   "source": [
    "df = df.head(60000) #We can not take a random sample because it is a time serie!\n"
   ]
  },
  {
   "cell_type": "code",
   "execution_count": 12,
   "metadata": {
    "colab": {
     "base_uri": "https://localhost:8080/",
     "height": 34
    },
    "colab_type": "code",
    "executionInfo": {
     "elapsed": 7500,
     "status": "ok",
     "timestamp": 1562136476489,
     "user": {
      "displayName": "E. Sebastian Garcia",
      "photoUrl": "https://lh3.googleusercontent.com/-HSONWYZRFhw/AAAAAAAAAAI/AAAAAAAAA7Y/1pycCGauFVw/s64/photo.jpg",
      "userId": "10682872798645535997"
     },
     "user_tz": -120
    },
    "id": "TLipTh_UFlXi",
    "outputId": "8b1d7979-a620-46a3-ec2e-70d30bce5c92"
   },
   "outputs": [
    {
     "data": {
      "text/plain": [
       "(60000, 23)"
      ]
     },
     "execution_count": 12,
     "metadata": {
      "tags": []
     },
     "output_type": "execute_result"
    }
   ],
   "source": [
    "df.shape\n"
   ]
  },
  {
   "cell_type": "code",
   "execution_count": 13,
   "metadata": {
    "colab": {
     "base_uri": "https://localhost:8080/",
     "height": 34
    },
    "colab_type": "code",
    "executionInfo": {
     "elapsed": 7696,
     "status": "ok",
     "timestamp": 1562136476700,
     "user": {
      "displayName": "E. Sebastian Garcia",
      "photoUrl": "https://lh3.googleusercontent.com/-HSONWYZRFhw/AAAAAAAAAAI/AAAAAAAAA7Y/1pycCGauFVw/s64/photo.jpg",
      "userId": "10682872798645535997"
     },
     "user_tz": -120
    },
    "id": "v6R6rBjEzhqO",
    "outputId": "f90e4d9a-e435-4ae7-b9be-28879dc5d724"
   },
   "outputs": [
    {
     "name": "stdout",
     "output_type": "stream",
     "text": [
      "Train and Test size 48000 12000\n"
     ]
    }
   ],
   "source": [
    "#Split df into train and test\n",
    "train_cols = [\"btcusdt_open\"]\n",
    "df_train, df_test = train_test_split(df, train_size=0.8, test_size=0.2, shuffle=False)\n",
    "print(\"Train and Test size\", len(df_train), len(df_test))\n",
    "\n",
    "# scale the feature MinMax, build array\n",
    "x = df_train.loc[:,train_cols].values\n",
    "min_max_scaler = MinMaxScaler()\n",
    "x_train = min_max_scaler.fit_transform(x)\n",
    "x_test = min_max_scaler.transform(df_test.loc[:,train_cols])\n"
   ]
  },
  {
   "cell_type": "markdown",
   "metadata": {
    "colab_type": "text",
    "id": "IiLhtXZC5Rny"
   },
   "source": [
    "**Prepare the data to run the LSTM Model**"
   ]
  },
  {
   "cell_type": "code",
   "execution_count": 0,
   "metadata": {
    "colab": {},
    "colab_type": "code",
    "id": "wzyitUGg-Yo_"
   },
   "outputs": [],
   "source": [
    "'''This function will create a dataset where X is the opening price at a given \n",
    "time (t) and Y is the opening price at the next time (t + 1)'''\n",
    "\n",
    "# convert an array of values into a dataset matrix\n",
    "def create_df(df, look_back=1):\n",
    "    dataX, dataY = [], []\n",
    "    for i in range(len(df)-look_back-1):\n",
    "        a = df[i:(i+look_back), 0]\n",
    "        dataX.append(a)\n",
    "        dataY.append(df[i + look_back, 0])\n",
    "    return np.array(dataX), np.array(dataY)\n"
   ]
  },
  {
   "cell_type": "code",
   "execution_count": 0,
   "metadata": {
    "colab": {},
    "colab_type": "code",
    "id": "ImkqtJkE8Fzu"
   },
   "outputs": [],
   "source": [
    "# Prepare the train and test datasets for modeling.\n",
    "\n",
    "# reshape into X=t and Y=t+1\n",
    "look_back = 15 #number of previous time steps to use as input variables to predict the next time period\n",
    "trainX, trainY = create_df(x_train, look_back)\n",
    "testX, testY = create_df(x_test, look_back)\n"
   ]
  },
  {
   "cell_type": "code",
   "execution_count": 16,
   "metadata": {
    "colab": {
     "base_uri": "https://localhost:8080/",
     "height": 269
    },
    "colab_type": "code",
    "executionInfo": {
     "elapsed": 7648,
     "status": "ok",
     "timestamp": 1562136476707,
     "user": {
      "displayName": "E. Sebastian Garcia",
      "photoUrl": "https://lh3.googleusercontent.com/-HSONWYZRFhw/AAAAAAAAAAI/AAAAAAAAA7Y/1pycCGauFVw/s64/photo.jpg",
      "userId": "10682872798645535997"
     },
     "user_tz": -120
    },
    "id": "WxioG_kNL9io",
    "outputId": "d7c3301b-73c3-4916-9aa5-c2f0f046ed1f"
   },
   "outputs": [
    {
     "data": {
      "text/plain": [
       "(array([[0.17045971, 0.17045971, 0.17045971, ..., 0.17089137, 0.17089137,\n",
       "         0.17089137],\n",
       "        [0.17045971, 0.17045971, 0.17045971, ..., 0.17089137, 0.17089137,\n",
       "         0.17089137],\n",
       "        [0.17045971, 0.17045971, 0.17605636, ..., 0.17089137, 0.17089137,\n",
       "         0.17605636],\n",
       "        ...,\n",
       "        [0.76435105, 0.79174502, 0.80029579, ..., 0.79912465, 0.79911715,\n",
       "         0.79728913],\n",
       "        [0.79174502, 0.80029579, 0.79993544, ..., 0.79911715, 0.79728913,\n",
       "         0.7918764 ],\n",
       "        [0.80029579, 0.79993544, 0.80029203, ..., 0.79728913, 0.7918764 ,\n",
       "         0.79692878]]),\n",
       " array([0.17089137, 0.17605636, 0.17605636, ..., 0.7918764 , 0.79692878,\n",
       "        0.79724784]))"
      ]
     },
     "execution_count": 16,
     "metadata": {
      "tags": []
     },
     "output_type": "execute_result"
    }
   ],
   "source": [
    "trainX, trainY\n"
   ]
  },
  {
   "cell_type": "code",
   "execution_count": 0,
   "metadata": {
    "colab": {},
    "colab_type": "code",
    "id": "IKX9UxGa6yzN"
   },
   "outputs": [],
   "source": [
    "'''The LSTM network expects the input data (X) to be provided with a specific \n",
    "array structure in the form of: [samples, time steps, features].'''\n",
    "\n",
    "# reshape input to be [samples, time steps, features]\n",
    "trainX = np.reshape(trainX, (trainX.shape[0], 1, trainX.shape[1]))\n",
    "testX = np.reshape(testX, (testX.shape[0], 1, testX.shape[1]))\n"
   ]
  },
  {
   "cell_type": "markdown",
   "metadata": {
    "colab_type": "text",
    "id": "L67XT-OUezbd"
   },
   "source": [
    "**Creating LSTM model --> Adding two layers**"
   ]
  },
  {
   "cell_type": "code",
   "execution_count": 18,
   "metadata": {
    "colab": {
     "base_uri": "https://localhost:8080/",
     "height": 356
    },
    "colab_type": "code",
    "executionInfo": {
     "elapsed": 86407,
     "status": "ok",
     "timestamp": 1562136555493,
     "user": {
      "displayName": "E. Sebastian Garcia",
      "photoUrl": "https://lh3.googleusercontent.com/-HSONWYZRFhw/AAAAAAAAAAI/AAAAAAAAA7Y/1pycCGauFVw/s64/photo.jpg",
      "userId": "10682872798645535997"
     },
     "user_tz": -120
    },
    "id": "8E1ptM5-5JQ_",
    "outputId": "33c5f4ea-656a-4d38-d1ba-26235e4c7e4b"
   },
   "outputs": [
    {
     "name": "stderr",
     "output_type": "stream",
     "text": [
      "WARNING: Logging before flag parsing goes to stderr.\n",
      "W0703 06:47:53.519340 140661537802112 deprecation.py:506] From /usr/local/lib/python3.6/dist-packages/tensorflow/python/ops/init_ops.py:1251: calling VarianceScaling.__init__ (from tensorflow.python.ops.init_ops) with dtype is deprecated and will be removed in a future version.\n",
      "Instructions for updating:\n",
      "Call initializer instance with the dtype argument instead of passing it to the constructor\n",
      "W0703 06:47:54.172793 140661537802112 deprecation.py:323] From /usr/local/lib/python3.6/dist-packages/tensorflow/python/ops/math_grad.py:1250: add_dispatch_support.<locals>.wrapper (from tensorflow.python.ops.array_ops) is deprecated and will be removed in a future version.\n",
      "Instructions for updating:\n",
      "Use tf.where in 2.0, which has the same broadcast rule as np.where\n"
     ]
    },
    {
     "name": "stdout",
     "output_type": "stream",
     "text": [
      "Train on 47984 samples, validate on 11984 samples\n",
      "Epoch 1/5\n",
      "47984/47984 - 16s - loss: 0.0061 - val_loss: 1.4689e-04\n",
      "Epoch 2/5\n",
      "47984/47984 - 15s - loss: 3.6120e-05 - val_loss: 1.3142e-04\n",
      "Epoch 3/5\n",
      "47984/47984 - 15s - loss: 3.4711e-05 - val_loss: 1.3865e-04\n",
      "Epoch 4/5\n",
      "47984/47984 - 15s - loss: 3.2543e-05 - val_loss: 1.1966e-04\n",
      "Epoch 5/5\n",
      "47984/47984 - 15s - loss: 3.1422e-05 - val_loss: 1.0511e-04\n"
     ]
    },
    {
     "data": {
      "text/plain": [
       "<tensorflow.python.keras.callbacks.History at 0x7fee0c396550>"
      ]
     },
     "execution_count": 18,
     "metadata": {
      "tags": []
     },
     "output_type": "execute_result"
    }
   ],
   "source": [
    "# create and fit the LSTM network\n",
    "model = Sequential()\n",
    "model.add(LSTM(4, activation='relu',return_sequences=True, input_shape=(1, look_back)))\n",
    "#model.add(LSTM(4, activation='relu', return_sequences=True, dropout=0.1))\n",
    "model.add(LSTM(4, activation='relu'))\n",
    "#model.add(Dense(100))\n",
    "model.add(Dense(1))\n",
    "model.compile(loss='mean_squared_error', optimizer='adam')\n",
    "model.fit(trainX, trainY, epochs=5, batch_size=10, validation_data=(testX, testY), verbose=2)\n"
   ]
  },
  {
   "cell_type": "code",
   "execution_count": 19,
   "metadata": {
    "colab": {
     "base_uri": "https://localhost:8080/",
     "height": 67
    },
    "colab_type": "code",
    "executionInfo": {
     "elapsed": 87900,
     "status": "ok",
     "timestamp": 1562136557002,
     "user": {
      "displayName": "E. Sebastian Garcia",
      "photoUrl": "https://lh3.googleusercontent.com/-HSONWYZRFhw/AAAAAAAAAAI/AAAAAAAAA7Y/1pycCGauFVw/s64/photo.jpg",
      "userId": "10682872798645535997"
     },
     "user_tz": -120
    },
    "id": "zNnsjoI-ACa9",
    "outputId": "726f1a16-96ad-4821-9847-25feaf472733"
   },
   "outputs": [
    {
     "name": "stdout",
     "output_type": "stream",
     "text": [
      "Train Score: 14.78 RMSE\n",
      "Test Score: 27.31 RMSE\n",
      "Test Score Persistance: 9.63 RMSE\n"
     ]
    }
   ],
   "source": [
    "# make predictions\n",
    "trainPredict = model.predict(trainX)\n",
    "testPredict = model.predict(testX)\n",
    "# invert predictions\n",
    "trainPredict = min_max_scaler.inverse_transform(trainPredict)\n",
    "trainY_unscaled = min_max_scaler.inverse_transform([trainY])\n",
    "testPredict = min_max_scaler.inverse_transform(testPredict)\n",
    "persistance_unscaled = min_max_scaler.inverse_transform(np.reshape(testX[:,0,-1],[1,-1]))\n",
    "testY_unscaled = min_max_scaler.inverse_transform([testY])\n",
    "# calculate root mean squared error\n",
    "trainScore = math.sqrt(mean_squared_error(trainY_unscaled[0], trainPredict[:,0]))\n",
    "print('Train Score: %.2f RMSE' % (trainScore))\n",
    "testScore = math.sqrt(mean_squared_error(testY_unscaled[0], testPredict[:,0]))\n",
    "print('Test Score: %.2f RMSE' % (testScore))\n",
    "\n",
    "'''Here we set our Y test = to the real values (same price as the real ones) \n",
    "and we compare how far is the real RMSE from the prediction'''\n",
    "testScore = math.sqrt(mean_squared_error(testY_unscaled[0], persistance_unscaled[0]))\n",
    "print('Test Score Persistance: %.2f RMSE' % (testScore))\n"
   ]
  },
  {
   "cell_type": "code",
   "execution_count": 20,
   "metadata": {
    "colab": {
     "base_uri": "https://localhost:8080/",
     "height": 34
    },
    "colab_type": "code",
    "executionInfo": {
     "elapsed": 87887,
     "status": "ok",
     "timestamp": 1562136557005,
     "user": {
      "displayName": "E. Sebastian Garcia",
      "photoUrl": "https://lh3.googleusercontent.com/-HSONWYZRFhw/AAAAAAAAAAI/AAAAAAAAA7Y/1pycCGauFVw/s64/photo.jpg",
      "userId": "10682872798645535997"
     },
     "user_tz": -120
    },
    "id": "V0Hy_fat5QRV",
    "outputId": "a8b813e2-d3c3-4556-abbb-c1d889a39170"
   },
   "outputs": [
    {
     "data": {
      "text/plain": [
       "(1, 11984)"
      ]
     },
     "execution_count": 20,
     "metadata": {
      "tags": []
     },
     "output_type": "execute_result"
    }
   ],
   "source": [
    "testY_unscaled.shape\n"
   ]
  },
  {
   "cell_type": "code",
   "execution_count": 21,
   "metadata": {
    "colab": {
     "base_uri": "https://localhost:8080/",
     "height": 486
    },
    "colab_type": "code",
    "executionInfo": {
     "elapsed": 88559,
     "status": "ok",
     "timestamp": 1562136557689,
     "user": {
      "displayName": "E. Sebastian Garcia",
      "photoUrl": "https://lh3.googleusercontent.com/-HSONWYZRFhw/AAAAAAAAAAI/AAAAAAAAA7Y/1pycCGauFVw/s64/photo.jpg",
      "userId": "10682872798645535997"
     },
     "user_tz": -120
    },
    "id": "3vGQX49WCYGG",
    "outputId": "ff232467-9a62-4138-8ffb-bbbc4bf54381"
   },
   "outputs": [
    {
     "data": {
      "image/png": "[encoded data removed]",
      "text/plain": [
       "<Figure size 1224x576 with 1 Axes>"
      ]
     },
     "metadata": {
      "tags": []
     },
     "output_type": "display_data"
    }
   ],
   "source": [
    "# plot real test set and predictions\n",
    "plt.figure(figsize=(17, 8))\n",
    "plt.plot(testY_unscaled[0], c='blue', label='Real BTC Open Price')\n",
    "plt.plot(testPredict, c='red', label='Predicted BTC Open Price')\n",
    "plt.legend()\n",
    "plt.show()\n"
   ]
  },
  {
   "cell_type": "markdown",
   "metadata": {
    "colab_type": "text",
    "id": "Nwp_ulSl7m2w"
   },
   "source": [
    "At the beginning two layers were added and the results were not as good as the previous model. Given that I tweaked some parameters:\n",
    "\n",
    "1.   Dropout: from 0.5 to 0.1.\n",
    "2.   Layers: from 2 to 1.\n",
    "3.   Dense: 100.\n",
    "\n",
    "All those changes generated bad results.\n",
    "\n",
    "Conclusion: adding Layers and tweaking did not improve the model. \n",
    "\n",
    "Therefore, remaining the model as simple as possible, **IN THIS CASE**, gives better results.\n",
    "\n"
   ]
  }
 ],
 "metadata": {
  "colab": {
   "collapsed_sections": [],
   "name": "Exercise : Goal 2 - LSTM for financial time series forecasting",
   "provenance": [
    {
     "file_id": "1fM5EdQk9eDKdr1oVD2UYIya1B3nzuKnD",
     "timestamp": 1562068027084
    },
    {
     "file_id": "1O7K6I3vv7D4byYPHo3KRddwC0h7z335I",
     "timestamp": 1562064585305
    }
   ],
   "version": "0.3.2"
  },
  "kernelspec": {
   "display_name": "Python 3",
   "language": "python",
   "name": "python3"
  },
  "language_info": {
   "codemirror_mode": {
    "name": "ipython",
    "version": 3
   },
   "file_extension": ".py",
   "mimetype": "text/x-python",
   "name": "python",
   "nbconvert_exporter": "python",
   "pygments_lexer": "ipython3",
   "version": "3.6.8"
  }
 },
 "nbformat": 4,
 "nbformat_minor": 1
}
