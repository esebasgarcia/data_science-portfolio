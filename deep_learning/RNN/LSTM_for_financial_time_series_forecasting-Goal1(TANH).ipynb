{
 "cells": [
  {
   "cell_type": "markdown",
   "metadata": {},
   "source": [
    "# Sebastian Garcia\n",
    "# LSTM for financial time series forecasting"
   ]
  },
  {
   "cell_type": "code",
   "execution_count": 1,
   "metadata": {
    "colab": {
     "base_uri": "https://localhost:8080/",
     "height": 34
    },
    "colab_type": "code",
    "executionInfo": {
     "elapsed": 822,
     "status": "ok",
     "timestamp": 1562154555533,
     "user": {
      "displayName": "E. Sebastian Garcia",
      "photoUrl": "https://lh3.googleusercontent.com/-HSONWYZRFhw/AAAAAAAAAAI/AAAAAAAAA7Y/1pycCGauFVw/s64/photo.jpg",
      "userId": "10682872798645535997"
     },
     "user_tz": -120
    },
    "id": "DsTIceZZu06C",
    "outputId": "6b58764d-d8b2-4ca0-bae3-ed0ef4427ab4"
   },
   "outputs": [
    {
     "name": "stdout",
     "output_type": "stream",
     "text": [
      "Drive already mounted at /content/drive; to attempt to forcibly remount, call drive.mount(\"/content/drive\", force_remount=True).\n"
     ]
    }
   ],
   "source": [
    "# Run this cell to activate your Google Drive account.\n",
    "from google.colab import drive\n",
    "drive.mount('/content/drive')\n"
   ]
  },
  {
   "cell_type": "code",
   "execution_count": 0,
   "metadata": {
    "colab": {},
    "colab_type": "code",
    "id": "dR392nwhvj6u"
   },
   "outputs": [],
   "source": [
    "import pandas as pd\n",
    "import numpy as np\n",
    "\n",
    "#Normalize Data and split  in Train and Test set\n",
    "from sklearn.preprocessing import MinMaxScaler\n",
    "from sklearn.model_selection import train_test_split\n",
    "\n",
    "# To run the model\n",
    "from tensorflow.keras.models import Sequential\n",
    "from tensorflow.keras.layers import Dense, Dropout\n",
    "from tensorflow.keras.layers import LSTM\n",
    "from sklearn.metrics import mean_squared_error\n",
    "\n",
    "import math\n",
    "\n",
    "#Plot\n",
    "from matplotlib import pyplot as plt\n"
   ]
  },
  {
   "cell_type": "code",
   "execution_count": 0,
   "metadata": {
    "colab": {},
    "colab_type": "code",
    "id": "pid5huBQu-hL"
   },
   "outputs": [],
   "source": [
    "path = 'drive/My Drive/Colab Notebooks/'\n",
    "df = pd.read_csv(path+'binance_1min_labeled.csv', index_col=0)\n"
   ]
  },
  {
   "cell_type": "code",
   "execution_count": 4,
   "metadata": {
    "colab": {
     "base_uri": "https://localhost:8080/",
     "height": 224
    },
    "colab_type": "code",
    "executionInfo": {
     "elapsed": 5283,
     "status": "ok",
     "timestamp": 1562154560024,
     "user": {
      "displayName": "E. Sebastian Garcia",
      "photoUrl": "https://lh3.googleusercontent.com/-HSONWYZRFhw/AAAAAAAAAAI/AAAAAAAAA7Y/1pycCGauFVw/s64/photo.jpg",
      "userId": "10682872798645535997"
     },
     "user_tz": -120
    },
    "id": "C_z0sCiPvm54",
    "outputId": "6c9dd28e-0f6b-4cc6-bd10-e17612ff6d41"
   },
   "outputs": [
    {
     "data": {
      "text/html": [
       "<div>\n",
       "<style scoped>\n",
       "    .dataframe tbody tr th:only-of-type {\n",
       "        vertical-align: middle;\n",
       "    }\n",
       "\n",
       "    .dataframe tbody tr th {\n",
       "        vertical-align: top;\n",
       "    }\n",
       "\n",
       "    .dataframe thead th {\n",
       "        text-align: right;\n",
       "    }\n",
       "</style>\n",
       "<table border=\"1\" class=\"dataframe\">\n",
       "  <thead>\n",
       "    <tr style=\"text-align: right;\">\n",
       "      <th></th>\n",
       "      <th>time</th>\n",
       "      <th>btcusdt_open</th>\n",
       "      <th>btcusdt_high</th>\n",
       "      <th>btcusdt_low</th>\n",
       "      <th>btcusdt_close</th>\n",
       "      <th>btcusdt_vol</th>\n",
       "      <th>btcusdt_seller</th>\n",
       "      <th>btcusdt_buyer</th>\n",
       "      <th>ethusdt_open</th>\n",
       "      <th>ethusdt_high</th>\n",
       "      <th>ethusdt_low</th>\n",
       "      <th>ethusdt_close</th>\n",
       "      <th>ethusdt_vol</th>\n",
       "      <th>ethusdt_seller</th>\n",
       "      <th>ethusdt_buyer</th>\n",
       "      <th>ltcbtc_open</th>\n",
       "      <th>ltcbtc_high</th>\n",
       "      <th>ltcbtc_low</th>\n",
       "      <th>ltcbtc_close</th>\n",
       "      <th>ltcbtc_vol</th>\n",
       "      <th>ltcbtc_seller</th>\n",
       "      <th>ltcbtc_buyer</th>\n",
       "      <th>label</th>\n",
       "    </tr>\n",
       "  </thead>\n",
       "  <tbody>\n",
       "    <tr>\n",
       "      <th>50000</th>\n",
       "      <td>1505942400</td>\n",
       "      <td>3961.03</td>\n",
       "      <td>3961.03</td>\n",
       "      <td>3961.02</td>\n",
       "      <td>3961.02</td>\n",
       "      <td>0.630300</td>\n",
       "      <td>0</td>\n",
       "      <td>5</td>\n",
       "      <td>288.99</td>\n",
       "      <td>288.99</td>\n",
       "      <td>288.99</td>\n",
       "      <td>288.99</td>\n",
       "      <td>0.00</td>\n",
       "      <td>0.0</td>\n",
       "      <td>0.0</td>\n",
       "      <td>0.013298</td>\n",
       "      <td>0.013305</td>\n",
       "      <td>0.013298</td>\n",
       "      <td>0.013305</td>\n",
       "      <td>7.29</td>\n",
       "      <td>3.0</td>\n",
       "      <td>10.0</td>\n",
       "      <td>0.0</td>\n",
       "    </tr>\n",
       "    <tr>\n",
       "      <th>50001</th>\n",
       "      <td>1505942460</td>\n",
       "      <td>3961.03</td>\n",
       "      <td>3961.03</td>\n",
       "      <td>3961.02</td>\n",
       "      <td>3961.02</td>\n",
       "      <td>0.000000</td>\n",
       "      <td>0</td>\n",
       "      <td>0</td>\n",
       "      <td>288.99</td>\n",
       "      <td>288.99</td>\n",
       "      <td>288.99</td>\n",
       "      <td>288.99</td>\n",
       "      <td>0.00</td>\n",
       "      <td>0.0</td>\n",
       "      <td>0.0</td>\n",
       "      <td>0.013305</td>\n",
       "      <td>0.013352</td>\n",
       "      <td>0.013305</td>\n",
       "      <td>0.013349</td>\n",
       "      <td>14.05</td>\n",
       "      <td>6.0</td>\n",
       "      <td>7.0</td>\n",
       "      <td>0.0</td>\n",
       "    </tr>\n",
       "    <tr>\n",
       "      <th>50002</th>\n",
       "      <td>1505942520</td>\n",
       "      <td>3961.03</td>\n",
       "      <td>3961.03</td>\n",
       "      <td>3961.02</td>\n",
       "      <td>3961.02</td>\n",
       "      <td>0.000000</td>\n",
       "      <td>0</td>\n",
       "      <td>0</td>\n",
       "      <td>288.99</td>\n",
       "      <td>288.99</td>\n",
       "      <td>288.99</td>\n",
       "      <td>288.99</td>\n",
       "      <td>0.00</td>\n",
       "      <td>0.0</td>\n",
       "      <td>0.0</td>\n",
       "      <td>0.013349</td>\n",
       "      <td>0.013352</td>\n",
       "      <td>0.013349</td>\n",
       "      <td>0.013352</td>\n",
       "      <td>3.35</td>\n",
       "      <td>1.0</td>\n",
       "      <td>5.0</td>\n",
       "      <td>0.0</td>\n",
       "    </tr>\n",
       "    <tr>\n",
       "      <th>50003</th>\n",
       "      <td>1505942580</td>\n",
       "      <td>3961.03</td>\n",
       "      <td>3961.03</td>\n",
       "      <td>3961.02</td>\n",
       "      <td>3961.02</td>\n",
       "      <td>0.000000</td>\n",
       "      <td>0</td>\n",
       "      <td>0</td>\n",
       "      <td>288.99</td>\n",
       "      <td>288.99</td>\n",
       "      <td>288.99</td>\n",
       "      <td>288.99</td>\n",
       "      <td>0.00</td>\n",
       "      <td>0.0</td>\n",
       "      <td>0.0</td>\n",
       "      <td>0.013352</td>\n",
       "      <td>0.013352</td>\n",
       "      <td>0.013349</td>\n",
       "      <td>0.013352</td>\n",
       "      <td>4.25</td>\n",
       "      <td>3.0</td>\n",
       "      <td>3.0</td>\n",
       "      <td>0.0</td>\n",
       "    </tr>\n",
       "    <tr>\n",
       "      <th>50004</th>\n",
       "      <td>1505942640</td>\n",
       "      <td>3975.94</td>\n",
       "      <td>3975.94</td>\n",
       "      <td>3962.18</td>\n",
       "      <td>3962.18</td>\n",
       "      <td>0.019624</td>\n",
       "      <td>2</td>\n",
       "      <td>2</td>\n",
       "      <td>288.00</td>\n",
       "      <td>288.00</td>\n",
       "      <td>288.00</td>\n",
       "      <td>288.00</td>\n",
       "      <td>0.02</td>\n",
       "      <td>0.0</td>\n",
       "      <td>1.0</td>\n",
       "      <td>0.013352</td>\n",
       "      <td>0.013352</td>\n",
       "      <td>0.013349</td>\n",
       "      <td>0.013349</td>\n",
       "      <td>19.48</td>\n",
       "      <td>2.0</td>\n",
       "      <td>4.0</td>\n",
       "      <td>0.0</td>\n",
       "    </tr>\n",
       "  </tbody>\n",
       "</table>\n",
       "</div>"
      ],
      "text/plain": [
       "             time  btcusdt_open  ...  ltcbtc_buyer  label\n",
       "50000  1505942400       3961.03  ...          10.0    0.0\n",
       "50001  1505942460       3961.03  ...           7.0    0.0\n",
       "50002  1505942520       3961.03  ...           5.0    0.0\n",
       "50003  1505942580       3961.03  ...           3.0    0.0\n",
       "50004  1505942640       3975.94  ...           4.0    0.0\n",
       "\n",
       "[5 rows x 23 columns]"
      ]
     },
     "execution_count": 4,
     "metadata": {
      "tags": []
     },
     "output_type": "execute_result"
    }
   ],
   "source": [
    "df.head()\n"
   ]
  },
  {
   "cell_type": "code",
   "execution_count": 5,
   "metadata": {
    "colab": {
     "base_uri": "https://localhost:8080/",
     "height": 224
    },
    "colab_type": "code",
    "executionInfo": {
     "elapsed": 5275,
     "status": "ok",
     "timestamp": 1562154560026,
     "user": {
      "displayName": "E. Sebastian Garcia",
      "photoUrl": "https://lh3.googleusercontent.com/-HSONWYZRFhw/AAAAAAAAAAI/AAAAAAAAA7Y/1pycCGauFVw/s64/photo.jpg",
      "userId": "10682872798645535997"
     },
     "user_tz": -120
    },
    "id": "hJ_ms-4qwlrB",
    "outputId": "ef1463b5-ea5a-4e18-b6cd-6e906dfd1abc"
   },
   "outputs": [
    {
     "data": {
      "text/html": [
       "<div>\n",
       "<style scoped>\n",
       "    .dataframe tbody tr th:only-of-type {\n",
       "        vertical-align: middle;\n",
       "    }\n",
       "\n",
       "    .dataframe tbody tr th {\n",
       "        vertical-align: top;\n",
       "    }\n",
       "\n",
       "    .dataframe thead th {\n",
       "        text-align: right;\n",
       "    }\n",
       "</style>\n",
       "<table border=\"1\" class=\"dataframe\">\n",
       "  <thead>\n",
       "    <tr style=\"text-align: right;\">\n",
       "      <th></th>\n",
       "      <th>time</th>\n",
       "      <th>btcusdt_open</th>\n",
       "      <th>btcusdt_high</th>\n",
       "      <th>btcusdt_low</th>\n",
       "      <th>btcusdt_close</th>\n",
       "      <th>btcusdt_vol</th>\n",
       "      <th>btcusdt_seller</th>\n",
       "      <th>btcusdt_buyer</th>\n",
       "      <th>ethusdt_open</th>\n",
       "      <th>ethusdt_high</th>\n",
       "      <th>ethusdt_low</th>\n",
       "      <th>ethusdt_close</th>\n",
       "      <th>ethusdt_vol</th>\n",
       "      <th>ethusdt_seller</th>\n",
       "      <th>ethusdt_buyer</th>\n",
       "      <th>ltcbtc_open</th>\n",
       "      <th>ltcbtc_high</th>\n",
       "      <th>ltcbtc_low</th>\n",
       "      <th>ltcbtc_close</th>\n",
       "      <th>ltcbtc_vol</th>\n",
       "      <th>ltcbtc_seller</th>\n",
       "      <th>ltcbtc_buyer</th>\n",
       "      <th>label</th>\n",
       "    </tr>\n",
       "  </thead>\n",
       "  <tbody>\n",
       "    <tr>\n",
       "      <th>649995</th>\n",
       "      <td>1541942100</td>\n",
       "      <td>6424.00</td>\n",
       "      <td>6426.09</td>\n",
       "      <td>6424.00</td>\n",
       "      <td>6424.37</td>\n",
       "      <td>2.284881</td>\n",
       "      <td>44</td>\n",
       "      <td>29</td>\n",
       "      <td>212.72</td>\n",
       "      <td>212.75</td>\n",
       "      <td>212.70</td>\n",
       "      <td>212.72</td>\n",
       "      <td>46.79162</td>\n",
       "      <td>21.0</td>\n",
       "      <td>20.0</td>\n",
       "      <td>0.008059</td>\n",
       "      <td>0.008059</td>\n",
       "      <td>0.008058</td>\n",
       "      <td>0.008058</td>\n",
       "      <td>3.49</td>\n",
       "      <td>0.0</td>\n",
       "      <td>3.0</td>\n",
       "      <td>0.0</td>\n",
       "    </tr>\n",
       "    <tr>\n",
       "      <th>649996</th>\n",
       "      <td>1541942160</td>\n",
       "      <td>6424.37</td>\n",
       "      <td>6424.37</td>\n",
       "      <td>6424.00</td>\n",
       "      <td>6424.37</td>\n",
       "      <td>3.336172</td>\n",
       "      <td>39</td>\n",
       "      <td>30</td>\n",
       "      <td>212.71</td>\n",
       "      <td>212.82</td>\n",
       "      <td>212.64</td>\n",
       "      <td>212.72</td>\n",
       "      <td>52.11829</td>\n",
       "      <td>21.0</td>\n",
       "      <td>15.0</td>\n",
       "      <td>0.008061</td>\n",
       "      <td>0.008064</td>\n",
       "      <td>0.008061</td>\n",
       "      <td>0.008064</td>\n",
       "      <td>3.65</td>\n",
       "      <td>3.0</td>\n",
       "      <td>0.0</td>\n",
       "      <td>0.0</td>\n",
       "    </tr>\n",
       "    <tr>\n",
       "      <th>649997</th>\n",
       "      <td>1541942220</td>\n",
       "      <td>6424.37</td>\n",
       "      <td>6426.08</td>\n",
       "      <td>6424.37</td>\n",
       "      <td>6424.41</td>\n",
       "      <td>2.554746</td>\n",
       "      <td>19</td>\n",
       "      <td>26</td>\n",
       "      <td>212.72</td>\n",
       "      <td>212.79</td>\n",
       "      <td>212.72</td>\n",
       "      <td>212.74</td>\n",
       "      <td>50.06029</td>\n",
       "      <td>12.0</td>\n",
       "      <td>28.0</td>\n",
       "      <td>0.008064</td>\n",
       "      <td>0.008068</td>\n",
       "      <td>0.008058</td>\n",
       "      <td>0.008058</td>\n",
       "      <td>47.96</td>\n",
       "      <td>3.0</td>\n",
       "      <td>8.0</td>\n",
       "      <td>0.0</td>\n",
       "    </tr>\n",
       "    <tr>\n",
       "      <th>649998</th>\n",
       "      <td>1541942280</td>\n",
       "      <td>6424.88</td>\n",
       "      <td>6426.53</td>\n",
       "      <td>6424.43</td>\n",
       "      <td>6426.12</td>\n",
       "      <td>6.557832</td>\n",
       "      <td>27</td>\n",
       "      <td>35</td>\n",
       "      <td>212.74</td>\n",
       "      <td>212.81</td>\n",
       "      <td>212.71</td>\n",
       "      <td>212.81</td>\n",
       "      <td>47.79095</td>\n",
       "      <td>21.0</td>\n",
       "      <td>9.0</td>\n",
       "      <td>0.008062</td>\n",
       "      <td>0.008065</td>\n",
       "      <td>0.008060</td>\n",
       "      <td>0.008064</td>\n",
       "      <td>28.10</td>\n",
       "      <td>2.0</td>\n",
       "      <td>4.0</td>\n",
       "      <td>0.0</td>\n",
       "    </tr>\n",
       "    <tr>\n",
       "      <th>649999</th>\n",
       "      <td>1541942340</td>\n",
       "      <td>6426.53</td>\n",
       "      <td>6428.21</td>\n",
       "      <td>6426.00</td>\n",
       "      <td>6426.00</td>\n",
       "      <td>2.577673</td>\n",
       "      <td>12</td>\n",
       "      <td>54</td>\n",
       "      <td>212.82</td>\n",
       "      <td>212.87</td>\n",
       "      <td>212.77</td>\n",
       "      <td>212.81</td>\n",
       "      <td>37.79858</td>\n",
       "      <td>12.0</td>\n",
       "      <td>15.0</td>\n",
       "      <td>0.008067</td>\n",
       "      <td>0.008067</td>\n",
       "      <td>0.008063</td>\n",
       "      <td>0.008063</td>\n",
       "      <td>0.14</td>\n",
       "      <td>1.0</td>\n",
       "      <td>1.0</td>\n",
       "      <td>0.0</td>\n",
       "    </tr>\n",
       "  </tbody>\n",
       "</table>\n",
       "</div>"
      ],
      "text/plain": [
       "              time  btcusdt_open  ...  ltcbtc_buyer  label\n",
       "649995  1541942100       6424.00  ...           3.0    0.0\n",
       "649996  1541942160       6424.37  ...           0.0    0.0\n",
       "649997  1541942220       6424.37  ...           8.0    0.0\n",
       "649998  1541942280       6424.88  ...           4.0    0.0\n",
       "649999  1541942340       6426.53  ...           1.0    0.0\n",
       "\n",
       "[5 rows x 23 columns]"
      ]
     },
     "execution_count": 5,
     "metadata": {
      "tags": []
     },
     "output_type": "execute_result"
    }
   ],
   "source": [
    "df.tail()\n"
   ]
  },
  {
   "cell_type": "markdown",
   "metadata": {},
   "source": [
    "  #### Project - You have been provided with crypto trading data, use that to prepare a LSTM model to predict closing/opening price of your favorite crypto-currency\n",
    "  \n",
    "      ○ **Goal 1** - Univariate predictions - Select one currency (e.g. Ethereum) and either \n",
    "      closing or opening price. Use that to prepare your training data and make a single cell LSTM \n",
    "      model."
   ]
  },
  {
   "cell_type": "markdown",
   "metadata": {
    "colab_type": "text",
    "id": "gUuRt31GxOqG"
   },
   "source": [
    "**Analyzing Data**"
   ]
  },
  {
   "cell_type": "code",
   "execution_count": 6,
   "metadata": {
    "colab": {
     "base_uri": "https://localhost:8080/",
     "height": 513
    },
    "colab_type": "code",
    "executionInfo": {
     "elapsed": 6908,
     "status": "ok",
     "timestamp": 1562154561667,
     "user": {
      "displayName": "E. Sebastian Garcia",
      "photoUrl": "https://lh3.googleusercontent.com/-HSONWYZRFhw/AAAAAAAAAAI/AAAAAAAAA7Y/1pycCGauFVw/s64/photo.jpg",
      "userId": "10682872798645535997"
     },
     "user_tz": -120
    },
    "id": "voTZXVH7xJ1A",
    "outputId": "abade751-88ab-40ec-ffe4-c611e6032bd3"
   },
   "outputs": [
    {
     "data": {
      "image/png": "[encoded data removed]",
      "text/plain": [
       "<Figure size 1224x576 with 1 Axes>"
      ]
     },
     "metadata": {
      "tags": []
     },
     "output_type": "display_data"
    }
   ],
   "source": [
    "# Bitcoin\n",
    "plt.figure(figsize=(17, 8))\n",
    "plt.plot(df['btcusdt_open'])\n",
    "plt.plot(df['btcusdt_high'])\n",
    "plt.plot(df['btcusdt_low'])\n",
    "plt.plot(df['btcusdt_close'])\n",
    "plt.title('Bitcoin stock price history')\n",
    "plt.ylabel('Price (USD)')\n",
    "plt.xlabel('Days')\n",
    "plt.legend(['Open','High','Low','Close'], loc='upper left')\n",
    "plt.show()\n"
   ]
  },
  {
   "cell_type": "code",
   "execution_count": 7,
   "metadata": {
    "colab": {
     "base_uri": "https://localhost:8080/",
     "height": 513
    },
    "colab_type": "code",
    "executionInfo": {
     "elapsed": 7643,
     "status": "ok",
     "timestamp": 1562154562418,
     "user": {
      "displayName": "E. Sebastian Garcia",
      "photoUrl": "https://lh3.googleusercontent.com/-HSONWYZRFhw/AAAAAAAAAAI/AAAAAAAAA7Y/1pycCGauFVw/s64/photo.jpg",
      "userId": "10682872798645535997"
     },
     "user_tz": -120
    },
    "id": "iHDbMhGsx134",
    "outputId": "bf70b38d-2eb8-4d71-be0d-45cfebd63a86"
   },
   "outputs": [
    {
     "data": {
      "image/png": "[encoded data removed]",
      "text/plain": [
       "<Figure size 1224x576 with 1 Axes>"
      ]
     },
     "metadata": {
      "tags": []
     },
     "output_type": "display_data"
    }
   ],
   "source": [
    "# Plot the volume\n",
    "plt.figure(figsize=(17, 8))\n",
    "plt.plot(df['btcusdt_vol'])\n",
    "plt.title('Bitcoin stock volume history')\n",
    "plt.ylabel('Volume')\n",
    "plt.xlabel('Minutes')\n",
    "plt.show()\n"
   ]
  },
  {
   "cell_type": "code",
   "execution_count": 8,
   "metadata": {
    "colab": {
     "base_uri": "https://localhost:8080/",
     "height": 425
    },
    "colab_type": "code",
    "executionInfo": {
     "elapsed": 7634,
     "status": "ok",
     "timestamp": 1562154562420,
     "user": {
      "displayName": "E. Sebastian Garcia",
      "photoUrl": "https://lh3.googleusercontent.com/-HSONWYZRFhw/AAAAAAAAAAI/AAAAAAAAA7Y/1pycCGauFVw/s64/photo.jpg",
      "userId": "10682872798645535997"
     },
     "user_tz": -120
    },
    "id": "wMqjYR1xzB9L",
    "outputId": "81a0d24a-bb73-410b-c167-db2280a64280"
   },
   "outputs": [
    {
     "data": {
      "text/plain": [
       "time              0\n",
       "btcusdt_open      0\n",
       "btcusdt_high      0\n",
       "btcusdt_low       0\n",
       "btcusdt_close     0\n",
       "btcusdt_vol       0\n",
       "btcusdt_seller    0\n",
       "btcusdt_buyer     0\n",
       "ethusdt_open      0\n",
       "ethusdt_high      0\n",
       "ethusdt_low       0\n",
       "ethusdt_close     0\n",
       "ethusdt_vol       0\n",
       "ethusdt_seller    0\n",
       "ethusdt_buyer     0\n",
       "ltcbtc_open       0\n",
       "ltcbtc_high       0\n",
       "ltcbtc_low        0\n",
       "ltcbtc_close      0\n",
       "ltcbtc_vol        0\n",
       "ltcbtc_seller     0\n",
       "ltcbtc_buyer      0\n",
       "label             0\n",
       "dtype: int64"
      ]
     },
     "execution_count": 8,
     "metadata": {
      "tags": []
     },
     "output_type": "execute_result"
    }
   ],
   "source": [
    "#Check for NaNs\n",
    "df.isna().sum()\n"
   ]
  },
  {
   "cell_type": "markdown",
   "metadata": {
    "colab_type": "text",
    "id": "Hnkglol10f1g"
   },
   "source": [
    "**Converting data to time-series**"
   ]
  },
  {
   "cell_type": "code",
   "execution_count": 0,
   "metadata": {
    "colab": {},
    "colab_type": "code",
    "id": "j7outde03pl3"
   },
   "outputs": [],
   "source": [
    "df.index = pd.to_datetime(df['time'], unit='s')\n"
   ]
  },
  {
   "cell_type": "code",
   "execution_count": 10,
   "metadata": {
    "colab": {
     "base_uri": "https://localhost:8080/",
     "height": 425
    },
    "colab_type": "code",
    "executionInfo": {
     "elapsed": 7619,
     "status": "ok",
     "timestamp": 1562154562424,
     "user": {
      "displayName": "E. Sebastian Garcia",
      "photoUrl": "https://lh3.googleusercontent.com/-HSONWYZRFhw/AAAAAAAAAAI/AAAAAAAAA7Y/1pycCGauFVw/s64/photo.jpg",
      "userId": "10682872798645535997"
     },
     "user_tz": -120
    },
    "id": "iluRhDyC4jir",
    "outputId": "5c5da591-1348-4cdc-8abb-04310950bd89"
   },
   "outputs": [
    {
     "data": {
      "text/html": [
       "<div>\n",
       "<style scoped>\n",
       "    .dataframe tbody tr th:only-of-type {\n",
       "        vertical-align: middle;\n",
       "    }\n",
       "\n",
       "    .dataframe tbody tr th {\n",
       "        vertical-align: top;\n",
       "    }\n",
       "\n",
       "    .dataframe thead th {\n",
       "        text-align: right;\n",
       "    }\n",
       "</style>\n",
       "<table border=\"1\" class=\"dataframe\">\n",
       "  <thead>\n",
       "    <tr style=\"text-align: right;\">\n",
       "      <th></th>\n",
       "      <th>time</th>\n",
       "      <th>btcusdt_open</th>\n",
       "      <th>btcusdt_high</th>\n",
       "      <th>btcusdt_low</th>\n",
       "      <th>btcusdt_close</th>\n",
       "      <th>btcusdt_vol</th>\n",
       "      <th>btcusdt_seller</th>\n",
       "      <th>btcusdt_buyer</th>\n",
       "      <th>ethusdt_open</th>\n",
       "      <th>ethusdt_high</th>\n",
       "      <th>ethusdt_low</th>\n",
       "      <th>ethusdt_close</th>\n",
       "      <th>ethusdt_vol</th>\n",
       "      <th>ethusdt_seller</th>\n",
       "      <th>ethusdt_buyer</th>\n",
       "      <th>ltcbtc_open</th>\n",
       "      <th>ltcbtc_high</th>\n",
       "      <th>ltcbtc_low</th>\n",
       "      <th>ltcbtc_close</th>\n",
       "      <th>ltcbtc_vol</th>\n",
       "      <th>ltcbtc_seller</th>\n",
       "      <th>ltcbtc_buyer</th>\n",
       "      <th>label</th>\n",
       "    </tr>\n",
       "    <tr>\n",
       "      <th>time</th>\n",
       "      <th></th>\n",
       "      <th></th>\n",
       "      <th></th>\n",
       "      <th></th>\n",
       "      <th></th>\n",
       "      <th></th>\n",
       "      <th></th>\n",
       "      <th></th>\n",
       "      <th></th>\n",
       "      <th></th>\n",
       "      <th></th>\n",
       "      <th></th>\n",
       "      <th></th>\n",
       "      <th></th>\n",
       "      <th></th>\n",
       "      <th></th>\n",
       "      <th></th>\n",
       "      <th></th>\n",
       "      <th></th>\n",
       "      <th></th>\n",
       "      <th></th>\n",
       "      <th></th>\n",
       "      <th></th>\n",
       "    </tr>\n",
       "  </thead>\n",
       "  <tbody>\n",
       "    <tr>\n",
       "      <th>2017-09-20 21:20:00</th>\n",
       "      <td>1505942400</td>\n",
       "      <td>3961.03</td>\n",
       "      <td>3961.03</td>\n",
       "      <td>3961.02</td>\n",
       "      <td>3961.02</td>\n",
       "      <td>0.630300</td>\n",
       "      <td>0</td>\n",
       "      <td>5</td>\n",
       "      <td>288.99</td>\n",
       "      <td>288.99</td>\n",
       "      <td>288.99</td>\n",
       "      <td>288.99</td>\n",
       "      <td>0.00</td>\n",
       "      <td>0.0</td>\n",
       "      <td>0.0</td>\n",
       "      <td>0.013298</td>\n",
       "      <td>0.013305</td>\n",
       "      <td>0.013298</td>\n",
       "      <td>0.013305</td>\n",
       "      <td>7.29</td>\n",
       "      <td>3.0</td>\n",
       "      <td>10.0</td>\n",
       "      <td>0.0</td>\n",
       "    </tr>\n",
       "    <tr>\n",
       "      <th>2017-09-20 21:21:00</th>\n",
       "      <td>1505942460</td>\n",
       "      <td>3961.03</td>\n",
       "      <td>3961.03</td>\n",
       "      <td>3961.02</td>\n",
       "      <td>3961.02</td>\n",
       "      <td>0.000000</td>\n",
       "      <td>0</td>\n",
       "      <td>0</td>\n",
       "      <td>288.99</td>\n",
       "      <td>288.99</td>\n",
       "      <td>288.99</td>\n",
       "      <td>288.99</td>\n",
       "      <td>0.00</td>\n",
       "      <td>0.0</td>\n",
       "      <td>0.0</td>\n",
       "      <td>0.013305</td>\n",
       "      <td>0.013352</td>\n",
       "      <td>0.013305</td>\n",
       "      <td>0.013349</td>\n",
       "      <td>14.05</td>\n",
       "      <td>6.0</td>\n",
       "      <td>7.0</td>\n",
       "      <td>0.0</td>\n",
       "    </tr>\n",
       "    <tr>\n",
       "      <th>2017-09-20 21:22:00</th>\n",
       "      <td>1505942520</td>\n",
       "      <td>3961.03</td>\n",
       "      <td>3961.03</td>\n",
       "      <td>3961.02</td>\n",
       "      <td>3961.02</td>\n",
       "      <td>0.000000</td>\n",
       "      <td>0</td>\n",
       "      <td>0</td>\n",
       "      <td>288.99</td>\n",
       "      <td>288.99</td>\n",
       "      <td>288.99</td>\n",
       "      <td>288.99</td>\n",
       "      <td>0.00</td>\n",
       "      <td>0.0</td>\n",
       "      <td>0.0</td>\n",
       "      <td>0.013349</td>\n",
       "      <td>0.013352</td>\n",
       "      <td>0.013349</td>\n",
       "      <td>0.013352</td>\n",
       "      <td>3.35</td>\n",
       "      <td>1.0</td>\n",
       "      <td>5.0</td>\n",
       "      <td>0.0</td>\n",
       "    </tr>\n",
       "    <tr>\n",
       "      <th>2017-09-20 21:23:00</th>\n",
       "      <td>1505942580</td>\n",
       "      <td>3961.03</td>\n",
       "      <td>3961.03</td>\n",
       "      <td>3961.02</td>\n",
       "      <td>3961.02</td>\n",
       "      <td>0.000000</td>\n",
       "      <td>0</td>\n",
       "      <td>0</td>\n",
       "      <td>288.99</td>\n",
       "      <td>288.99</td>\n",
       "      <td>288.99</td>\n",
       "      <td>288.99</td>\n",
       "      <td>0.00</td>\n",
       "      <td>0.0</td>\n",
       "      <td>0.0</td>\n",
       "      <td>0.013352</td>\n",
       "      <td>0.013352</td>\n",
       "      <td>0.013349</td>\n",
       "      <td>0.013352</td>\n",
       "      <td>4.25</td>\n",
       "      <td>3.0</td>\n",
       "      <td>3.0</td>\n",
       "      <td>0.0</td>\n",
       "    </tr>\n",
       "    <tr>\n",
       "      <th>2017-09-20 21:24:00</th>\n",
       "      <td>1505942640</td>\n",
       "      <td>3975.94</td>\n",
       "      <td>3975.94</td>\n",
       "      <td>3962.18</td>\n",
       "      <td>3962.18</td>\n",
       "      <td>0.019624</td>\n",
       "      <td>2</td>\n",
       "      <td>2</td>\n",
       "      <td>288.00</td>\n",
       "      <td>288.00</td>\n",
       "      <td>288.00</td>\n",
       "      <td>288.00</td>\n",
       "      <td>0.02</td>\n",
       "      <td>0.0</td>\n",
       "      <td>1.0</td>\n",
       "      <td>0.013352</td>\n",
       "      <td>0.013352</td>\n",
       "      <td>0.013349</td>\n",
       "      <td>0.013349</td>\n",
       "      <td>19.48</td>\n",
       "      <td>2.0</td>\n",
       "      <td>4.0</td>\n",
       "      <td>0.0</td>\n",
       "    </tr>\n",
       "  </tbody>\n",
       "</table>\n",
       "</div>"
      ],
      "text/plain": [
       "                           time  btcusdt_open  ...  ltcbtc_buyer  label\n",
       "time                                           ...                     \n",
       "2017-09-20 21:20:00  1505942400       3961.03  ...          10.0    0.0\n",
       "2017-09-20 21:21:00  1505942460       3961.03  ...           7.0    0.0\n",
       "2017-09-20 21:22:00  1505942520       3961.03  ...           5.0    0.0\n",
       "2017-09-20 21:23:00  1505942580       3961.03  ...           3.0    0.0\n",
       "2017-09-20 21:24:00  1505942640       3975.94  ...           4.0    0.0\n",
       "\n",
       "[5 rows x 23 columns]"
      ]
     },
     "execution_count": 10,
     "metadata": {
      "tags": []
     },
     "output_type": "execute_result"
    }
   ],
   "source": [
    "df.head()\n"
   ]
  },
  {
   "cell_type": "markdown",
   "metadata": {
    "colab_type": "text",
    "id": "y_OpteDQznP4"
   },
   "source": [
    "**Normalizing the data**"
   ]
  },
  {
   "cell_type": "code",
   "execution_count": 0,
   "metadata": {
    "colab": {},
    "colab_type": "code",
    "id": "QfasbVubFVya"
   },
   "outputs": [],
   "source": [
    "df = df.head(60000) #We can not take a random sample because it is a time serie!\n"
   ]
  },
  {
   "cell_type": "code",
   "execution_count": 12,
   "metadata": {
    "colab": {
     "base_uri": "https://localhost:8080/",
     "height": 34
    },
    "colab_type": "code",
    "executionInfo": {
     "elapsed": 7611,
     "status": "ok",
     "timestamp": 1562154562433,
     "user": {
      "displayName": "E. Sebastian Garcia",
      "photoUrl": "https://lh3.googleusercontent.com/-HSONWYZRFhw/AAAAAAAAAAI/AAAAAAAAA7Y/1pycCGauFVw/s64/photo.jpg",
      "userId": "10682872798645535997"
     },
     "user_tz": -120
    },
    "id": "TLipTh_UFlXi",
    "outputId": "47331ca4-f85a-4954-9831-7f926fc7e2b6"
   },
   "outputs": [
    {
     "data": {
      "text/plain": [
       "(60000, 23)"
      ]
     },
     "execution_count": 12,
     "metadata": {
      "tags": []
     },
     "output_type": "execute_result"
    }
   ],
   "source": [
    "df.shape\n"
   ]
  },
  {
   "cell_type": "code",
   "execution_count": 13,
   "metadata": {
    "colab": {
     "base_uri": "https://localhost:8080/",
     "height": 34
    },
    "colab_type": "code",
    "executionInfo": {
     "elapsed": 7603,
     "status": "ok",
     "timestamp": 1562154562434,
     "user": {
      "displayName": "E. Sebastian Garcia",
      "photoUrl": "https://lh3.googleusercontent.com/-HSONWYZRFhw/AAAAAAAAAAI/AAAAAAAAA7Y/1pycCGauFVw/s64/photo.jpg",
      "userId": "10682872798645535997"
     },
     "user_tz": -120
    },
    "id": "v6R6rBjEzhqO",
    "outputId": "9e8d2b3e-73aa-4142-879b-1640d5c44a62"
   },
   "outputs": [
    {
     "name": "stdout",
     "output_type": "stream",
     "text": [
      "Train and Test size 48000 12000\n"
     ]
    }
   ],
   "source": [
    "#Split df into train and test\n",
    "train_cols = [\"btcusdt_open\"]\n",
    "df_train, df_test = train_test_split(df, train_size=0.8, test_size=0.2, shuffle=False)\n",
    "print(\"Train and Test size\", len(df_train), len(df_test))\n",
    "\n",
    "# scale the feature MinMax, build array\n",
    "x = df_train.loc[:,train_cols].values\n",
    "min_max_scaler = MinMaxScaler()\n",
    "x_train = min_max_scaler.fit_transform(x)\n",
    "x_test = min_max_scaler.transform(df_test.loc[:,train_cols])\n"
   ]
  },
  {
   "cell_type": "markdown",
   "metadata": {
    "colab_type": "text",
    "id": "IiLhtXZC5Rny"
   },
   "source": [
    "**Prepare the data to run the LSTM Model**"
   ]
  },
  {
   "cell_type": "code",
   "execution_count": 0,
   "metadata": {
    "colab": {},
    "colab_type": "code",
    "id": "wzyitUGg-Yo_"
   },
   "outputs": [],
   "source": [
    "'''This function will create a dataset where X is the opening price at a given \n",
    "time (t) and Y is the opening price at the next time (t + 1)'''\n",
    "\n",
    "# convert an array of values into a dataset matrix\n",
    "def create_df(df, look_back=1):\n",
    "    dataX, dataY = [], []\n",
    "    for i in range(len(df)-look_back-1):\n",
    "        a = df[i:(i+look_back), 0]\n",
    "        dataX.append(a)\n",
    "        dataY.append(df[i + look_back, 0])\n",
    "    return np.array(dataX), np.array(dataY)\n"
   ]
  },
  {
   "cell_type": "code",
   "execution_count": 0,
   "metadata": {
    "colab": {},
    "colab_type": "code",
    "id": "ImkqtJkE8Fzu"
   },
   "outputs": [],
   "source": [
    "# Prepare the train and test datasets for modeling.\n",
    "\n",
    "# reshape into X=t and Y=t+1\n",
    "look_back = 15 #number of previous time steps to use as input variables to predict the next time period\n",
    "trainX, trainY = create_df(x_train, look_back)\n",
    "testX, testY = create_df(x_test, look_back)\n"
   ]
  },
  {
   "cell_type": "code",
   "execution_count": 16,
   "metadata": {
    "colab": {
     "base_uri": "https://localhost:8080/",
     "height": 272
    },
    "colab_type": "code",
    "executionInfo": {
     "elapsed": 7891,
     "status": "ok",
     "timestamp": 1562154562752,
     "user": {
      "displayName": "E. Sebastian Garcia",
      "photoUrl": "https://lh3.googleusercontent.com/-HSONWYZRFhw/AAAAAAAAAAI/AAAAAAAAA7Y/1pycCGauFVw/s64/photo.jpg",
      "userId": "10682872798645535997"
     },
     "user_tz": -120
    },
    "id": "WxioG_kNL9io",
    "outputId": "a9b7822b-9642-4c77-e98d-b22fc6329de3"
   },
   "outputs": [
    {
     "data": {
      "text/plain": [
       "(array([[0.17045971, 0.17045971, 0.17045971, ..., 0.17089137, 0.17089137,\n",
       "         0.17089137],\n",
       "        [0.17045971, 0.17045971, 0.17045971, ..., 0.17089137, 0.17089137,\n",
       "         0.17089137],\n",
       "        [0.17045971, 0.17045971, 0.17605636, ..., 0.17089137, 0.17089137,\n",
       "         0.17605636],\n",
       "        ...,\n",
       "        [0.76435105, 0.79174502, 0.80029579, ..., 0.79912465, 0.79911715,\n",
       "         0.79728913],\n",
       "        [0.79174502, 0.80029579, 0.79993544, ..., 0.79911715, 0.79728913,\n",
       "         0.7918764 ],\n",
       "        [0.80029579, 0.79993544, 0.80029203, ..., 0.79728913, 0.7918764 ,\n",
       "         0.79692878]]),\n",
       " array([0.17089137, 0.17605636, 0.17605636, ..., 0.7918764 , 0.79692878,\n",
       "        0.79724784]))"
      ]
     },
     "execution_count": 16,
     "metadata": {
      "tags": []
     },
     "output_type": "execute_result"
    }
   ],
   "source": [
    "trainX, trainY\n"
   ]
  },
  {
   "cell_type": "code",
   "execution_count": 0,
   "metadata": {
    "colab": {},
    "colab_type": "code",
    "id": "IKX9UxGa6yzN"
   },
   "outputs": [],
   "source": [
    "'''The LSTM network expects the input data (X) to be provided with a specific \n",
    "array structure in the form of: [samples, time steps, features].'''\n",
    "\n",
    "# reshape input to be [samples, time steps, features]\n",
    "trainX = np.reshape(trainX, (trainX.shape[0], 1, trainX.shape[1]))\n",
    "testX = np.reshape(testX, (testX.shape[0], 1, testX.shape[1]))\n"
   ]
  },
  {
   "cell_type": "markdown",
   "metadata": {
    "colab_type": "text",
    "id": "L67XT-OUezbd"
   },
   "source": [
    "**Creating LSTM model**"
   ]
  },
  {
   "cell_type": "markdown",
   "metadata": {
    "colab_type": "text",
    "id": "UdOl40H1qavP"
   },
   "source": [
    "![texto alternativo](https://colah.github.io/posts/2015-08-Understanding-LSTMs/img/LSTM3-SimpleRNN.png)"
   ]
  },
  {
   "cell_type": "code",
   "execution_count": 18,
   "metadata": {
    "colab": {
     "base_uri": "https://localhost:8080/",
     "height": 360
    },
    "colab_type": "code",
    "executionInfo": {
     "elapsed": 499902,
     "status": "ok",
     "timestamp": 1562155054782,
     "user": {
      "displayName": "E. Sebastian Garcia",
      "photoUrl": "https://lh3.googleusercontent.com/-HSONWYZRFhw/AAAAAAAAAAI/AAAAAAAAA7Y/1pycCGauFVw/s64/photo.jpg",
      "userId": "10682872798645535997"
     },
     "user_tz": -120
    },
    "id": "8E1ptM5-5JQ_",
    "outputId": "95fe7dd3-2e91-42f7-b589-262ee38dd180"
   },
   "outputs": [
    {
     "name": "stderr",
     "output_type": "stream",
     "text": [
      "WARNING: Logging before flag parsing goes to stderr.\n",
      "W0703 11:49:19.013041 139929352865664 deprecation.py:506] From /usr/local/lib/python3.6/dist-packages/tensorflow/python/ops/init_ops.py:1251: calling VarianceScaling.__init__ (from tensorflow.python.ops.init_ops) with dtype is deprecated and will be removed in a future version.\n",
      "Instructions for updating:\n",
      "Call initializer instance with the dtype argument instead of passing it to the constructor\n",
      "W0703 11:49:19.431168 139929352865664 deprecation.py:323] From /usr/local/lib/python3.6/dist-packages/tensorflow/python/ops/math_grad.py:1250: add_dispatch_support.<locals>.wrapper (from tensorflow.python.ops.array_ops) is deprecated and will be removed in a future version.\n",
      "Instructions for updating:\n",
      "Use tf.where in 2.0, which has the same broadcast rule as np.where\n"
     ]
    },
    {
     "name": "stdout",
     "output_type": "stream",
     "text": [
      "Train on 47984 samples, validate on 11984 samples\n",
      "Epoch 1/5\n",
      "47984/47984 - 98s - loss: 2.3279e-04 - val_loss: 5.5699e-04\n",
      "Epoch 2/5\n",
      "47984/47984 - 98s - loss: 3.7610e-05 - val_loss: 8.8691e-04\n",
      "Epoch 3/5\n",
      "47984/47984 - 98s - loss: 3.2219e-05 - val_loss: 0.0012\n",
      "Epoch 4/5\n",
      "47984/47984 - 99s - loss: 3.0153e-05 - val_loss: 0.0012\n",
      "Epoch 5/5\n",
      "47984/47984 - 98s - loss: 2.9215e-05 - val_loss: 0.0012\n"
     ]
    },
    {
     "data": {
      "text/plain": [
       "<tensorflow.python.keras.callbacks.History at 0x7f43944a81d0>"
      ]
     },
     "execution_count": 18,
     "metadata": {
      "tags": []
     },
     "output_type": "execute_result"
    }
   ],
   "source": [
    "# create and fit the LSTM network\n",
    "model = Sequential()\n",
    "model.add(LSTM(4, input_shape=(1, look_back))) # 4 is very low, I should try with 50, or run random and grid search and look for the optimum number of hiden layers.\n",
    "model.add(Dense(1))\n",
    "model.compile(loss='mean_squared_error', optimizer='adam') # use rms as optimizer to see whats happend with the model\n",
    "model.fit(trainX, trainY, epochs=5, batch_size=1, validation_data=(testX, testY), verbose=2)\n"
   ]
  },
  {
   "cell_type": "code",
   "execution_count": 19,
   "metadata": {
    "colab": {
     "base_uri": "https://localhost:8080/",
     "height": 68
    },
    "colab_type": "code",
    "executionInfo": {
     "elapsed": 501232,
     "status": "ok",
     "timestamp": 1562155056124,
     "user": {
      "displayName": "E. Sebastian Garcia",
      "photoUrl": "https://lh3.googleusercontent.com/-HSONWYZRFhw/AAAAAAAAAAI/AAAAAAAAA7Y/1pycCGauFVw/s64/photo.jpg",
      "userId": "10682872798645535997"
     },
     "user_tz": -120
    },
    "id": "zNnsjoI-ACa9",
    "outputId": "3ea45a99-59bd-416f-c2f6-a1328dc8257a"
   },
   "outputs": [
    {
     "name": "stdout",
     "output_type": "stream",
     "text": [
      "Train Score: 11.70 RMSE\n",
      "Test Score: 94.12 RMSE\n",
      "Test Score Persistance: 9.63 RMSE\n"
     ]
    }
   ],
   "source": [
    "# make predictions\n",
    "trainPredict = model.predict(trainX)\n",
    "testPredict = model.predict(testX)\n",
    "# invert predictions\n",
    "trainPredict = min_max_scaler.inverse_transform(trainPredict)\n",
    "trainY_unscaled = min_max_scaler.inverse_transform([trainY])\n",
    "testPredict = min_max_scaler.inverse_transform(testPredict)\n",
    "persistance_unscaled = min_max_scaler.inverse_transform(np.reshape(testX[:,0,-1],[1,-1]))\n",
    "testY_unscaled = min_max_scaler.inverse_transform([testY])\n",
    "# calculate root mean squared error\n",
    "trainScore = math.sqrt(mean_squared_error(trainY_unscaled[0], trainPredict[:,0]))\n",
    "print('Train Score: %.2f RMSE' % (trainScore))\n",
    "testScore = math.sqrt(mean_squared_error(testY_unscaled[0], testPredict[:,0]))\n",
    "print('Test Score: %.2f RMSE' % (testScore))\n",
    "\n",
    "'''Here we set our Y test = to the real values (same price as the real ones) \n",
    "and we compare how far is the real RMSE from the prediction'''\n",
    "testScore = math.sqrt(mean_squared_error(testY_unscaled[0], persistance_unscaled[0]))\n",
    "print('Test Score Persistance: %.2f RMSE' % (testScore))\n"
   ]
  },
  {
   "cell_type": "code",
   "execution_count": 20,
   "metadata": {
    "colab": {
     "base_uri": "https://localhost:8080/",
     "height": 34
    },
    "colab_type": "code",
    "executionInfo": {
     "elapsed": 501224,
     "status": "ok",
     "timestamp": 1562155056127,
     "user": {
      "displayName": "E. Sebastian Garcia",
      "photoUrl": "https://lh3.googleusercontent.com/-HSONWYZRFhw/AAAAAAAAAAI/AAAAAAAAA7Y/1pycCGauFVw/s64/photo.jpg",
      "userId": "10682872798645535997"
     },
     "user_tz": -120
    },
    "id": "V0Hy_fat5QRV",
    "outputId": "f02030c5-38db-46dc-c5e3-8e4cf79a5ff1"
   },
   "outputs": [
    {
     "data": {
      "text/plain": [
       "(1, 11984)"
      ]
     },
     "execution_count": 20,
     "metadata": {
      "tags": []
     },
     "output_type": "execute_result"
    }
   ],
   "source": [
    "testY_unscaled.shape\n"
   ]
  },
  {
   "cell_type": "code",
   "execution_count": 21,
   "metadata": {
    "colab": {
     "base_uri": "https://localhost:8080/",
     "height": 486
    },
    "colab_type": "code",
    "executionInfo": {
     "elapsed": 502273,
     "status": "ok",
     "timestamp": 1562155057185,
     "user": {
      "displayName": "E. Sebastian Garcia",
      "photoUrl": "https://lh3.googleusercontent.com/-HSONWYZRFhw/AAAAAAAAAAI/AAAAAAAAA7Y/1pycCGauFVw/s64/photo.jpg",
      "userId": "10682872798645535997"
     },
     "user_tz": -120
    },
    "id": "3vGQX49WCYGG",
    "outputId": "b78312a3-e6e4-4651-c482-3a7f941ec110"
   },
   "outputs": [
    {
     "data": {
      "image/png": "[encoded data removed]",
      "text/plain": [
       "<Figure size 1224x576 with 1 Axes>"
      ]
     },
     "metadata": {
      "tags": []
     },
     "output_type": "display_data"
    }
   ],
   "source": [
    "# plot real test set and predictions\n",
    "plt.figure(figsize=(17, 8))\n",
    "plt.plot(testY_unscaled[0], c='blue', label='Real BTC Open Price')\n",
    "plt.plot(testPredict, c='red', label='Predicted BTC Open Price')\n",
    "plt.legend()\n",
    "plt.show()\n"
   ]
  },
  {
   "cell_type": "markdown",
   "metadata": {
    "colab_type": "text",
    "id": "xshlNbi3TlUm"
   },
   "source": [
    "As soon as the test set touch one it remains fixed, because the default activation function of the model is **tanh (hyperbolic tangent)** can not predict a value above 1."
   ]
  },
  {
   "cell_type": "code",
   "execution_count": 22,
   "metadata": {
    "colab": {
     "base_uri": "https://localhost:8080/",
     "height": 34
    },
    "colab_type": "code",
    "executionInfo": {
     "elapsed": 502262,
     "status": "ok",
     "timestamp": 1562155057187,
     "user": {
      "displayName": "E. Sebastian Garcia",
      "photoUrl": "https://lh3.googleusercontent.com/-HSONWYZRFhw/AAAAAAAAAAI/AAAAAAAAA7Y/1pycCGauFVw/s64/photo.jpg",
      "userId": "10682872798645535997"
     },
     "user_tz": -120
    },
    "id": "UlJCayWQh8tT",
    "outputId": "486a947a-a008-435a-a94e-7228604fcad0"
   },
   "outputs": [
    {
     "data": {
      "text/plain": [
       "array([5660.98, 5659.98, 5660.99, ..., 6529.97, 6529.98, 6529.97])"
      ]
     },
     "execution_count": 22,
     "metadata": {
      "tags": []
     },
     "output_type": "execute_result"
    }
   ],
   "source": [
    "np.array(testY_unscaled[0])\n"
   ]
  },
  {
   "cell_type": "code",
   "execution_count": 23,
   "metadata": {
    "colab": {
     "base_uri": "https://localhost:8080/",
     "height": 503
    },
    "colab_type": "code",
    "executionInfo": {
     "elapsed": 502254,
     "status": "ok",
     "timestamp": 1562155057189,
     "user": {
      "displayName": "E. Sebastian Garcia",
      "photoUrl": "https://lh3.googleusercontent.com/-HSONWYZRFhw/AAAAAAAAAAI/AAAAAAAAA7Y/1pycCGauFVw/s64/photo.jpg",
      "userId": "10682872798645535997"
     },
     "user_tz": -120
    },
    "id": "_Aa_6DGiSv8p",
    "outputId": "a17522f5-dd16-4988-8653-e8bc4182db3c"
   },
   "outputs": [
    {
     "data": {
      "text/plain": [
       "[<matplotlib.lines.Line2D at 0x7f438ddfe668>]"
      ]
     },
     "execution_count": 23,
     "metadata": {
      "tags": []
     },
     "output_type": "execute_result"
    },
    {
     "data": {
      "image/png": "[encoded data removed]",
      "text/plain": [
       "<Figure size 1224x576 with 1 Axes>"
      ]
     },
     "metadata": {
      "tags": []
     },
     "output_type": "display_data"
    }
   ],
   "source": [
    "plt.figure(figsize=(17, 8))\n",
    "plt.plot(testY)\n"
   ]
  }
 ],
 "metadata": {
  "colab": {
   "collapsed_sections": [],
   "name": "Exercise :- LSTM for financial time series forecasting (TANH)",
   "provenance": [],
   "version": "0.3.2"
  },
  "kernelspec": {
   "display_name": "Python 3",
   "language": "python",
   "name": "python3"
  },
  "language_info": {
   "codemirror_mode": {
    "name": "ipython",
    "version": 3
   },
   "file_extension": ".py",
   "mimetype": "text/x-python",
   "name": "python",
   "nbconvert_exporter": "python",
   "pygments_lexer": "ipython3",
   "version": "3.6.8"
  }
 },
 "nbformat": 4,
 "nbformat_minor": 1
}
